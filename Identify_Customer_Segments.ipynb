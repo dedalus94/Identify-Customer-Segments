{
 "cells": [
  {
   "cell_type": "markdown",
   "metadata": {},
   "source": [
    "# Project: Identify Customer Segments\n",
    "\n",
    "In this project, you will apply unsupervised learning techniques to identify segments of the population that form the core customer base for a mail-order sales company in Germany. These segments can then be used to direct marketing campaigns towards audiences that will have the highest expected rate of returns. The data that you will use has been provided by our partners at Bertelsmann Arvato Analytics, and represents a real-life data science task.\n",
    "\n",
    "This notebook will help you complete this task by providing a framework within which you will perform your analysis steps. In each step of the project, you will see some text describing the subtask that you will perform, followed by one or more code cells for you to complete your work. **Feel free to add additional code and markdown cells as you go along so that you can explore everything in precise chunks.** The code cells provided in the base template will outline only the major tasks, and will usually not be enough to cover all of the minor tasks that comprise it.\n",
    "\n",
    "It should be noted that while there will be precise guidelines on how you should handle certain tasks in the project, there will also be places where an exact specification is not provided. **There will be times in the project where you will need to make and justify your own decisions on how to treat the data.** These are places where there may not be only one way to handle the data. In real-life tasks, there may be many valid ways to approach an analysis task. One of the most important things you can do is clearly document your approach so that other scientists can understand the decisions you've made.\n",
    "\n",
    "At the end of most sections, there will be a Markdown cell labeled **Discussion**. In these cells, you will report your findings for the completed section, as well as document the decisions that you made in your approach to each subtask. **Your project will be evaluated not just on the code used to complete the tasks outlined, but also your communication about your observations and conclusions at each stage.**"
   ]
  },
  {
   "cell_type": "code",
   "execution_count": 1,
   "metadata": {},
   "outputs": [
    {
     "data": {
      "text/plain": [
       "'\\nImport note: The classroom currently uses sklearn version 0.19.\\nIf you need to use an imputer, it is available in sklearn.preprocessing.Imputer,\\ninstead of sklearn.impute as in newer versions of sklearn.\\n'"
      ]
     },
     "execution_count": 1,
     "metadata": {},
     "output_type": "execute_result"
    }
   ],
   "source": [
    "# import libraries here; add more as necessary\n",
    "import numpy as np\n",
    "import pandas as pd\n",
    "import matplotlib.pyplot as plt\n",
    "import seaborn as sns\n",
    "from sklearn.preprocessing import OneHotEncoder\n",
    "from sklearn.preprocessing import StandardScaler\n",
    "from sklearn.preprocessing import Imputer \n",
    "\n",
    "from sklearn.decomposition import PCA\n",
    "\n",
    "from sklearn.cluster import KMeans\n",
    "# magic word for producing visualizations in notebook\n",
    "%matplotlib inline\n",
    "\n",
    "'''\n",
    "Import note: The classroom currently uses sklearn version 0.19.\n",
    "If you need to use an imputer, it is available in sklearn.preprocessing.Imputer,\n",
    "instead of sklearn.impute as in newer versions of sklearn.\n",
    "'''"
   ]
  },
  {
   "cell_type": "markdown",
   "metadata": {},
   "source": [
    "### Step 0: Load the Data\n",
    "\n",
    "There are four files associated with this project (not including this one):\n",
    "\n",
    "- `Udacity_AZDIAS_Subset.csv`: Demographics data for the general population of Germany; 891211 persons (rows) x 85 features (columns).\n",
    "- `Udacity_CUSTOMERS_Subset.csv`: Demographics data for customers of a mail-order company; 191652 persons (rows) x 85 features (columns).\n",
    "- `Data_Dictionary.md`: Detailed information file about the features in the provided datasets.\n",
    "- `AZDIAS_Feature_Summary.csv`: Summary of feature attributes for demographics data; 85 features (rows) x 4 columns\n",
    "\n",
    "Each row of the demographics files represents a single person, but also includes information outside of individuals, including information about their household, building, and neighborhood. You will use this information to cluster the general population into groups with similar demographic properties. Then, you will see how the people in the customers dataset fit into those created clusters. The hope here is that certain clusters are over-represented in the customers data, as compared to the general population; those over-represented clusters will be assumed to be part of the core userbase. This information can then be used for further applications, such as targeting for a marketing campaign.\n",
    "\n",
    "To start off with, load in the demographics data for the general population into a pandas DataFrame, and do the same for the feature attributes summary. Note for all of the `.csv` data files in this project: they're semicolon (`;`) delimited, so you'll need an additional argument in your [`read_csv()`](https://pandas.pydata.org/pandas-docs/stable/generated/pandas.read_csv.html) call to read in the data properly. Also, considering the size of the main dataset, it may take some time for it to load completely.\n",
    "\n",
    "Once the dataset is loaded, it's recommended that you take a little bit of time just browsing the general structure of the dataset and feature summary file. You'll be getting deep into the innards of the cleaning in the first major step of the project, so gaining some general familiarity can help you get your bearings."
   ]
  },
  {
   "cell_type": "code",
   "execution_count": 2,
   "metadata": {},
   "outputs": [
    {
     "data": {
      "text/plain": [
       "(891221, 85)"
      ]
     },
     "execution_count": 2,
     "metadata": {},
     "output_type": "execute_result"
    }
   ],
   "source": [
    "# Load in the general demographics data.\n",
    "azdias = pd.read_csv('Udacity_AZDIAS_Subset.csv', delimiter=';')\n",
    "\n",
    "# Load in the feature summary file.\n",
    "feat_info = pd.read_csv('AZDIAS_Feature_Summary.csv', delimiter=';')\n",
    "\n",
    "azdias.shape"
   ]
  },
  {
   "cell_type": "code",
   "execution_count": 3,
   "metadata": {},
   "outputs": [],
   "source": [
    "customers = pd.read_csv('Udacity_AZDIAS_Subset.csv', delimiter=';')"
   ]
  },
  {
   "cell_type": "code",
   "execution_count": null,
   "metadata": {},
   "outputs": [],
   "source": []
  },
  {
   "cell_type": "code",
   "execution_count": 4,
   "metadata": {},
   "outputs": [
    {
     "data": {
      "text/html": [
       "<div>\n",
       "<style scoped>\n",
       "    .dataframe tbody tr th:only-of-type {\n",
       "        vertical-align: middle;\n",
       "    }\n",
       "\n",
       "    .dataframe tbody tr th {\n",
       "        vertical-align: top;\n",
       "    }\n",
       "\n",
       "    .dataframe thead th {\n",
       "        text-align: right;\n",
       "    }\n",
       "</style>\n",
       "<table border=\"1\" class=\"dataframe\">\n",
       "  <thead>\n",
       "    <tr style=\"text-align: right;\">\n",
       "      <th></th>\n",
       "      <th>AGER_TYP</th>\n",
       "      <th>ALTERSKATEGORIE_GROB</th>\n",
       "      <th>ANREDE_KZ</th>\n",
       "      <th>CJT_GESAMTTYP</th>\n",
       "      <th>FINANZ_MINIMALIST</th>\n",
       "      <th>FINANZ_SPARER</th>\n",
       "      <th>FINANZ_VORSORGER</th>\n",
       "      <th>FINANZ_ANLEGER</th>\n",
       "      <th>FINANZ_UNAUFFAELLIGER</th>\n",
       "      <th>FINANZ_HAUSBAUER</th>\n",
       "      <th>...</th>\n",
       "      <th>PLZ8_ANTG1</th>\n",
       "      <th>PLZ8_ANTG2</th>\n",
       "      <th>PLZ8_ANTG3</th>\n",
       "      <th>PLZ8_ANTG4</th>\n",
       "      <th>PLZ8_BAUMAX</th>\n",
       "      <th>PLZ8_HHZ</th>\n",
       "      <th>PLZ8_GBZ</th>\n",
       "      <th>ARBEIT</th>\n",
       "      <th>ORTSGR_KLS9</th>\n",
       "      <th>RELAT_AB</th>\n",
       "    </tr>\n",
       "  </thead>\n",
       "  <tbody>\n",
       "    <tr>\n",
       "      <th>0</th>\n",
       "      <td>-1</td>\n",
       "      <td>2</td>\n",
       "      <td>1</td>\n",
       "      <td>2.0</td>\n",
       "      <td>3</td>\n",
       "      <td>4</td>\n",
       "      <td>3</td>\n",
       "      <td>5</td>\n",
       "      <td>5</td>\n",
       "      <td>3</td>\n",
       "      <td>...</td>\n",
       "      <td>NaN</td>\n",
       "      <td>NaN</td>\n",
       "      <td>NaN</td>\n",
       "      <td>NaN</td>\n",
       "      <td>NaN</td>\n",
       "      <td>NaN</td>\n",
       "      <td>NaN</td>\n",
       "      <td>NaN</td>\n",
       "      <td>NaN</td>\n",
       "      <td>NaN</td>\n",
       "    </tr>\n",
       "    <tr>\n",
       "      <th>1</th>\n",
       "      <td>-1</td>\n",
       "      <td>1</td>\n",
       "      <td>2</td>\n",
       "      <td>5.0</td>\n",
       "      <td>1</td>\n",
       "      <td>5</td>\n",
       "      <td>2</td>\n",
       "      <td>5</td>\n",
       "      <td>4</td>\n",
       "      <td>5</td>\n",
       "      <td>...</td>\n",
       "      <td>2.0</td>\n",
       "      <td>3.0</td>\n",
       "      <td>2.0</td>\n",
       "      <td>1.0</td>\n",
       "      <td>1.0</td>\n",
       "      <td>5.0</td>\n",
       "      <td>4.0</td>\n",
       "      <td>3.0</td>\n",
       "      <td>5.0</td>\n",
       "      <td>4.0</td>\n",
       "    </tr>\n",
       "    <tr>\n",
       "      <th>2</th>\n",
       "      <td>-1</td>\n",
       "      <td>3</td>\n",
       "      <td>2</td>\n",
       "      <td>3.0</td>\n",
       "      <td>1</td>\n",
       "      <td>4</td>\n",
       "      <td>1</td>\n",
       "      <td>2</td>\n",
       "      <td>3</td>\n",
       "      <td>5</td>\n",
       "      <td>...</td>\n",
       "      <td>3.0</td>\n",
       "      <td>3.0</td>\n",
       "      <td>1.0</td>\n",
       "      <td>0.0</td>\n",
       "      <td>1.0</td>\n",
       "      <td>4.0</td>\n",
       "      <td>4.0</td>\n",
       "      <td>3.0</td>\n",
       "      <td>5.0</td>\n",
       "      <td>2.0</td>\n",
       "    </tr>\n",
       "    <tr>\n",
       "      <th>3</th>\n",
       "      <td>2</td>\n",
       "      <td>4</td>\n",
       "      <td>2</td>\n",
       "      <td>2.0</td>\n",
       "      <td>4</td>\n",
       "      <td>2</td>\n",
       "      <td>5</td>\n",
       "      <td>2</td>\n",
       "      <td>1</td>\n",
       "      <td>2</td>\n",
       "      <td>...</td>\n",
       "      <td>2.0</td>\n",
       "      <td>2.0</td>\n",
       "      <td>2.0</td>\n",
       "      <td>0.0</td>\n",
       "      <td>1.0</td>\n",
       "      <td>3.0</td>\n",
       "      <td>4.0</td>\n",
       "      <td>2.0</td>\n",
       "      <td>3.0</td>\n",
       "      <td>3.0</td>\n",
       "    </tr>\n",
       "    <tr>\n",
       "      <th>4</th>\n",
       "      <td>-1</td>\n",
       "      <td>3</td>\n",
       "      <td>1</td>\n",
       "      <td>5.0</td>\n",
       "      <td>4</td>\n",
       "      <td>3</td>\n",
       "      <td>4</td>\n",
       "      <td>1</td>\n",
       "      <td>3</td>\n",
       "      <td>2</td>\n",
       "      <td>...</td>\n",
       "      <td>2.0</td>\n",
       "      <td>4.0</td>\n",
       "      <td>2.0</td>\n",
       "      <td>1.0</td>\n",
       "      <td>2.0</td>\n",
       "      <td>3.0</td>\n",
       "      <td>3.0</td>\n",
       "      <td>4.0</td>\n",
       "      <td>6.0</td>\n",
       "      <td>5.0</td>\n",
       "    </tr>\n",
       "    <tr>\n",
       "      <th>5</th>\n",
       "      <td>3</td>\n",
       "      <td>1</td>\n",
       "      <td>2</td>\n",
       "      <td>2.0</td>\n",
       "      <td>3</td>\n",
       "      <td>1</td>\n",
       "      <td>5</td>\n",
       "      <td>2</td>\n",
       "      <td>2</td>\n",
       "      <td>5</td>\n",
       "      <td>...</td>\n",
       "      <td>2.0</td>\n",
       "      <td>3.0</td>\n",
       "      <td>1.0</td>\n",
       "      <td>1.0</td>\n",
       "      <td>1.0</td>\n",
       "      <td>5.0</td>\n",
       "      <td>5.0</td>\n",
       "      <td>2.0</td>\n",
       "      <td>3.0</td>\n",
       "      <td>3.0</td>\n",
       "    </tr>\n",
       "    <tr>\n",
       "      <th>6</th>\n",
       "      <td>-1</td>\n",
       "      <td>2</td>\n",
       "      <td>2</td>\n",
       "      <td>5.0</td>\n",
       "      <td>1</td>\n",
       "      <td>5</td>\n",
       "      <td>1</td>\n",
       "      <td>5</td>\n",
       "      <td>4</td>\n",
       "      <td>3</td>\n",
       "      <td>...</td>\n",
       "      <td>3.0</td>\n",
       "      <td>3.0</td>\n",
       "      <td>1.0</td>\n",
       "      <td>0.0</td>\n",
       "      <td>1.0</td>\n",
       "      <td>5.0</td>\n",
       "      <td>5.0</td>\n",
       "      <td>4.0</td>\n",
       "      <td>6.0</td>\n",
       "      <td>3.0</td>\n",
       "    </tr>\n",
       "    <tr>\n",
       "      <th>7</th>\n",
       "      <td>-1</td>\n",
       "      <td>1</td>\n",
       "      <td>1</td>\n",
       "      <td>3.0</td>\n",
       "      <td>3</td>\n",
       "      <td>3</td>\n",
       "      <td>4</td>\n",
       "      <td>1</td>\n",
       "      <td>3</td>\n",
       "      <td>2</td>\n",
       "      <td>...</td>\n",
       "      <td>3.0</td>\n",
       "      <td>3.0</td>\n",
       "      <td>1.0</td>\n",
       "      <td>0.0</td>\n",
       "      <td>1.0</td>\n",
       "      <td>4.0</td>\n",
       "      <td>4.0</td>\n",
       "      <td>2.0</td>\n",
       "      <td>5.0</td>\n",
       "      <td>2.0</td>\n",
       "    </tr>\n",
       "    <tr>\n",
       "      <th>8</th>\n",
       "      <td>-1</td>\n",
       "      <td>3</td>\n",
       "      <td>1</td>\n",
       "      <td>3.0</td>\n",
       "      <td>4</td>\n",
       "      <td>4</td>\n",
       "      <td>2</td>\n",
       "      <td>4</td>\n",
       "      <td>2</td>\n",
       "      <td>2</td>\n",
       "      <td>...</td>\n",
       "      <td>2.0</td>\n",
       "      <td>3.0</td>\n",
       "      <td>2.0</td>\n",
       "      <td>1.0</td>\n",
       "      <td>1.0</td>\n",
       "      <td>3.0</td>\n",
       "      <td>3.0</td>\n",
       "      <td>2.0</td>\n",
       "      <td>4.0</td>\n",
       "      <td>3.0</td>\n",
       "    </tr>\n",
       "    <tr>\n",
       "      <th>9</th>\n",
       "      <td>-1</td>\n",
       "      <td>3</td>\n",
       "      <td>2</td>\n",
       "      <td>4.0</td>\n",
       "      <td>2</td>\n",
       "      <td>4</td>\n",
       "      <td>2</td>\n",
       "      <td>3</td>\n",
       "      <td>5</td>\n",
       "      <td>4</td>\n",
       "      <td>...</td>\n",
       "      <td>2.0</td>\n",
       "      <td>3.0</td>\n",
       "      <td>2.0</td>\n",
       "      <td>1.0</td>\n",
       "      <td>1.0</td>\n",
       "      <td>3.0</td>\n",
       "      <td>3.0</td>\n",
       "      <td>2.0</td>\n",
       "      <td>3.0</td>\n",
       "      <td>1.0</td>\n",
       "    </tr>\n",
       "  </tbody>\n",
       "</table>\n",
       "<p>10 rows × 85 columns</p>\n",
       "</div>"
      ],
      "text/plain": [
       "   AGER_TYP  ALTERSKATEGORIE_GROB  ANREDE_KZ  CJT_GESAMTTYP  \\\n",
       "0        -1                     2          1            2.0   \n",
       "1        -1                     1          2            5.0   \n",
       "2        -1                     3          2            3.0   \n",
       "3         2                     4          2            2.0   \n",
       "4        -1                     3          1            5.0   \n",
       "5         3                     1          2            2.0   \n",
       "6        -1                     2          2            5.0   \n",
       "7        -1                     1          1            3.0   \n",
       "8        -1                     3          1            3.0   \n",
       "9        -1                     3          2            4.0   \n",
       "\n",
       "   FINANZ_MINIMALIST  FINANZ_SPARER  FINANZ_VORSORGER  FINANZ_ANLEGER  \\\n",
       "0                  3              4                 3               5   \n",
       "1                  1              5                 2               5   \n",
       "2                  1              4                 1               2   \n",
       "3                  4              2                 5               2   \n",
       "4                  4              3                 4               1   \n",
       "5                  3              1                 5               2   \n",
       "6                  1              5                 1               5   \n",
       "7                  3              3                 4               1   \n",
       "8                  4              4                 2               4   \n",
       "9                  2              4                 2               3   \n",
       "\n",
       "   FINANZ_UNAUFFAELLIGER  FINANZ_HAUSBAUER    ...     PLZ8_ANTG1  PLZ8_ANTG2  \\\n",
       "0                      5                 3    ...            NaN         NaN   \n",
       "1                      4                 5    ...            2.0         3.0   \n",
       "2                      3                 5    ...            3.0         3.0   \n",
       "3                      1                 2    ...            2.0         2.0   \n",
       "4                      3                 2    ...            2.0         4.0   \n",
       "5                      2                 5    ...            2.0         3.0   \n",
       "6                      4                 3    ...            3.0         3.0   \n",
       "7                      3                 2    ...            3.0         3.0   \n",
       "8                      2                 2    ...            2.0         3.0   \n",
       "9                      5                 4    ...            2.0         3.0   \n",
       "\n",
       "   PLZ8_ANTG3  PLZ8_ANTG4  PLZ8_BAUMAX  PLZ8_HHZ  PLZ8_GBZ  ARBEIT  \\\n",
       "0         NaN         NaN          NaN       NaN       NaN     NaN   \n",
       "1         2.0         1.0          1.0       5.0       4.0     3.0   \n",
       "2         1.0         0.0          1.0       4.0       4.0     3.0   \n",
       "3         2.0         0.0          1.0       3.0       4.0     2.0   \n",
       "4         2.0         1.0          2.0       3.0       3.0     4.0   \n",
       "5         1.0         1.0          1.0       5.0       5.0     2.0   \n",
       "6         1.0         0.0          1.0       5.0       5.0     4.0   \n",
       "7         1.0         0.0          1.0       4.0       4.0     2.0   \n",
       "8         2.0         1.0          1.0       3.0       3.0     2.0   \n",
       "9         2.0         1.0          1.0       3.0       3.0     2.0   \n",
       "\n",
       "   ORTSGR_KLS9  RELAT_AB  \n",
       "0          NaN       NaN  \n",
       "1          5.0       4.0  \n",
       "2          5.0       2.0  \n",
       "3          3.0       3.0  \n",
       "4          6.0       5.0  \n",
       "5          3.0       3.0  \n",
       "6          6.0       3.0  \n",
       "7          5.0       2.0  \n",
       "8          4.0       3.0  \n",
       "9          3.0       1.0  \n",
       "\n",
       "[10 rows x 85 columns]"
      ]
     },
     "execution_count": 4,
     "metadata": {},
     "output_type": "execute_result"
    }
   ],
   "source": [
    "# Check the structure of the data after it's loaded (e.g. print the number of\n",
    "# rows and columns, print the first few rows).\n",
    "\n",
    "azdias.head(10)"
   ]
  },
  {
   "cell_type": "markdown",
   "metadata": {},
   "source": [
    "> **Tip**: Add additional cells to keep everything in reasonably-sized chunks! Keyboard shortcut `esc --> a` (press escape to enter command mode, then press the 'A' key) adds a new cell before the active cell, and `esc --> b` adds a new cell after the active cell. If you need to convert an active cell to a markdown cell, use `esc --> m` and to convert to a code cell, use `esc --> y`. \n",
    "\n",
    "## Step 1: Preprocessing\n",
    "\n",
    "### Step 1.1: Assess Missing Data\n",
    "\n",
    "The feature summary file contains a summary of properties for each demographics data column. You will use this file to help you make cleaning decisions during this stage of the project. First of all, you should assess the demographics data in terms of missing data. Pay attention to the following points as you perform your analysis, and take notes on what you observe. Make sure that you fill in the **Discussion** cell with your findings and decisions at the end of each step that has one!\n",
    "\n",
    "#### Step 1.1.1: Convert Missing Value Codes to NaNs\n",
    "The fourth column of the feature attributes summary (loaded in above as `feat_info`) documents the codes from the data dictionary that indicate missing or unknown data. While the file encodes this as a list (e.g. `[-1,0]`), this will get read in as a string object. You'll need to do a little bit of parsing to make use of it to identify and clean the data. Convert data that matches a 'missing' or 'unknown' value code into a numpy NaN value. You might want to see how much data takes on a 'missing' or 'unknown' code, and how much data is naturally missing, as a point of interest.\n",
    "\n",
    "**As one more reminder, you are encouraged to add additional cells to break up your analysis into manageable chunks.**"
   ]
  },
  {
   "cell_type": "code",
   "execution_count": 5,
   "metadata": {},
   "outputs": [],
   "source": [
    "# Identify missing or unknown data values and convert them to NaNs.\n"
   ]
  },
  {
   "cell_type": "code",
   "execution_count": 6,
   "metadata": {},
   "outputs": [
    {
     "data": {
      "text/html": [
       "<div>\n",
       "<style scoped>\n",
       "    .dataframe tbody tr th:only-of-type {\n",
       "        vertical-align: middle;\n",
       "    }\n",
       "\n",
       "    .dataframe tbody tr th {\n",
       "        vertical-align: top;\n",
       "    }\n",
       "\n",
       "    .dataframe thead th {\n",
       "        text-align: right;\n",
       "    }\n",
       "</style>\n",
       "<table border=\"1\" class=\"dataframe\">\n",
       "  <thead>\n",
       "    <tr style=\"text-align: right;\">\n",
       "      <th></th>\n",
       "      <th>attribute</th>\n",
       "      <th>information_level</th>\n",
       "      <th>type</th>\n",
       "      <th>missing_or_unknown</th>\n",
       "    </tr>\n",
       "  </thead>\n",
       "  <tbody>\n",
       "    <tr>\n",
       "      <th>0</th>\n",
       "      <td>AGER_TYP</td>\n",
       "      <td>person</td>\n",
       "      <td>categorical</td>\n",
       "      <td>[-1,0]</td>\n",
       "    </tr>\n",
       "    <tr>\n",
       "      <th>1</th>\n",
       "      <td>ALTERSKATEGORIE_GROB</td>\n",
       "      <td>person</td>\n",
       "      <td>ordinal</td>\n",
       "      <td>[-1,0,9]</td>\n",
       "    </tr>\n",
       "    <tr>\n",
       "      <th>2</th>\n",
       "      <td>ANREDE_KZ</td>\n",
       "      <td>person</td>\n",
       "      <td>categorical</td>\n",
       "      <td>[-1,0]</td>\n",
       "    </tr>\n",
       "    <tr>\n",
       "      <th>3</th>\n",
       "      <td>CJT_GESAMTTYP</td>\n",
       "      <td>person</td>\n",
       "      <td>categorical</td>\n",
       "      <td>[0]</td>\n",
       "    </tr>\n",
       "    <tr>\n",
       "      <th>4</th>\n",
       "      <td>FINANZ_MINIMALIST</td>\n",
       "      <td>person</td>\n",
       "      <td>ordinal</td>\n",
       "      <td>[-1]</td>\n",
       "    </tr>\n",
       "    <tr>\n",
       "      <th>5</th>\n",
       "      <td>FINANZ_SPARER</td>\n",
       "      <td>person</td>\n",
       "      <td>ordinal</td>\n",
       "      <td>[-1]</td>\n",
       "    </tr>\n",
       "    <tr>\n",
       "      <th>6</th>\n",
       "      <td>FINANZ_VORSORGER</td>\n",
       "      <td>person</td>\n",
       "      <td>ordinal</td>\n",
       "      <td>[-1]</td>\n",
       "    </tr>\n",
       "    <tr>\n",
       "      <th>7</th>\n",
       "      <td>FINANZ_ANLEGER</td>\n",
       "      <td>person</td>\n",
       "      <td>ordinal</td>\n",
       "      <td>[-1]</td>\n",
       "    </tr>\n",
       "    <tr>\n",
       "      <th>8</th>\n",
       "      <td>FINANZ_UNAUFFAELLIGER</td>\n",
       "      <td>person</td>\n",
       "      <td>ordinal</td>\n",
       "      <td>[-1]</td>\n",
       "    </tr>\n",
       "    <tr>\n",
       "      <th>9</th>\n",
       "      <td>FINANZ_HAUSBAUER</td>\n",
       "      <td>person</td>\n",
       "      <td>ordinal</td>\n",
       "      <td>[-1]</td>\n",
       "    </tr>\n",
       "    <tr>\n",
       "      <th>10</th>\n",
       "      <td>FINANZTYP</td>\n",
       "      <td>person</td>\n",
       "      <td>categorical</td>\n",
       "      <td>[-1]</td>\n",
       "    </tr>\n",
       "    <tr>\n",
       "      <th>11</th>\n",
       "      <td>GEBURTSJAHR</td>\n",
       "      <td>person</td>\n",
       "      <td>numeric</td>\n",
       "      <td>[0]</td>\n",
       "    </tr>\n",
       "    <tr>\n",
       "      <th>12</th>\n",
       "      <td>GFK_URLAUBERTYP</td>\n",
       "      <td>person</td>\n",
       "      <td>categorical</td>\n",
       "      <td>[]</td>\n",
       "    </tr>\n",
       "    <tr>\n",
       "      <th>13</th>\n",
       "      <td>GREEN_AVANTGARDE</td>\n",
       "      <td>person</td>\n",
       "      <td>categorical</td>\n",
       "      <td>[]</td>\n",
       "    </tr>\n",
       "    <tr>\n",
       "      <th>14</th>\n",
       "      <td>HEALTH_TYP</td>\n",
       "      <td>person</td>\n",
       "      <td>ordinal</td>\n",
       "      <td>[-1,0]</td>\n",
       "    </tr>\n",
       "  </tbody>\n",
       "</table>\n",
       "</div>"
      ],
      "text/plain": [
       "                attribute information_level         type missing_or_unknown\n",
       "0                AGER_TYP            person  categorical             [-1,0]\n",
       "1    ALTERSKATEGORIE_GROB            person      ordinal           [-1,0,9]\n",
       "2               ANREDE_KZ            person  categorical             [-1,0]\n",
       "3           CJT_GESAMTTYP            person  categorical                [0]\n",
       "4       FINANZ_MINIMALIST            person      ordinal               [-1]\n",
       "5           FINANZ_SPARER            person      ordinal               [-1]\n",
       "6        FINANZ_VORSORGER            person      ordinal               [-1]\n",
       "7          FINANZ_ANLEGER            person      ordinal               [-1]\n",
       "8   FINANZ_UNAUFFAELLIGER            person      ordinal               [-1]\n",
       "9        FINANZ_HAUSBAUER            person      ordinal               [-1]\n",
       "10              FINANZTYP            person  categorical               [-1]\n",
       "11            GEBURTSJAHR            person      numeric                [0]\n",
       "12        GFK_URLAUBERTYP            person  categorical                 []\n",
       "13       GREEN_AVANTGARDE            person  categorical                 []\n",
       "14             HEALTH_TYP            person      ordinal             [-1,0]"
      ]
     },
     "execution_count": 6,
     "metadata": {},
     "output_type": "execute_result"
    }
   ],
   "source": [
    "feat_info.head(15)"
   ]
  },
  {
   "cell_type": "code",
   "execution_count": 7,
   "metadata": {},
   "outputs": [
    {
     "data": {
      "text/plain": [
       "(85, 4)"
      ]
     },
     "execution_count": 7,
     "metadata": {},
     "output_type": "execute_result"
    }
   ],
   "source": [
    "feat_info.shape"
   ]
  },
  {
   "cell_type": "markdown",
   "metadata": {},
   "source": [
    "In order to iterate both dataframes and get the 'missing_or_unknown' corresponding to each element selected by the iteration on the azdias dataframe, it is handy to transpose it and have the attribute as accessible by iterating on columns. \n",
    "\n"
   ]
  },
  {
   "cell_type": "markdown",
   "metadata": {},
   "source": [
    "  "
   ]
  },
  {
   "cell_type": "code",
   "execution_count": 8,
   "metadata": {},
   "outputs": [
    {
     "data": {
      "text/html": [
       "<div>\n",
       "<style scoped>\n",
       "    .dataframe tbody tr th:only-of-type {\n",
       "        vertical-align: middle;\n",
       "    }\n",
       "\n",
       "    .dataframe tbody tr th {\n",
       "        vertical-align: top;\n",
       "    }\n",
       "\n",
       "    .dataframe thead th {\n",
       "        text-align: right;\n",
       "    }\n",
       "</style>\n",
       "<table border=\"1\" class=\"dataframe\">\n",
       "  <thead>\n",
       "    <tr style=\"text-align: right;\">\n",
       "      <th></th>\n",
       "      <th>0</th>\n",
       "      <th>1</th>\n",
       "      <th>2</th>\n",
       "      <th>3</th>\n",
       "      <th>4</th>\n",
       "      <th>5</th>\n",
       "      <th>6</th>\n",
       "      <th>7</th>\n",
       "      <th>8</th>\n",
       "      <th>9</th>\n",
       "      <th>...</th>\n",
       "      <th>75</th>\n",
       "      <th>76</th>\n",
       "      <th>77</th>\n",
       "      <th>78</th>\n",
       "      <th>79</th>\n",
       "      <th>80</th>\n",
       "      <th>81</th>\n",
       "      <th>82</th>\n",
       "      <th>83</th>\n",
       "      <th>84</th>\n",
       "    </tr>\n",
       "  </thead>\n",
       "  <tbody>\n",
       "    <tr>\n",
       "      <th>attribute</th>\n",
       "      <td>AGER_TYP</td>\n",
       "      <td>ALTERSKATEGORIE_GROB</td>\n",
       "      <td>ANREDE_KZ</td>\n",
       "      <td>CJT_GESAMTTYP</td>\n",
       "      <td>FINANZ_MINIMALIST</td>\n",
       "      <td>FINANZ_SPARER</td>\n",
       "      <td>FINANZ_VORSORGER</td>\n",
       "      <td>FINANZ_ANLEGER</td>\n",
       "      <td>FINANZ_UNAUFFAELLIGER</td>\n",
       "      <td>FINANZ_HAUSBAUER</td>\n",
       "      <td>...</td>\n",
       "      <td>PLZ8_ANTG1</td>\n",
       "      <td>PLZ8_ANTG2</td>\n",
       "      <td>PLZ8_ANTG3</td>\n",
       "      <td>PLZ8_ANTG4</td>\n",
       "      <td>PLZ8_BAUMAX</td>\n",
       "      <td>PLZ8_HHZ</td>\n",
       "      <td>PLZ8_GBZ</td>\n",
       "      <td>ARBEIT</td>\n",
       "      <td>ORTSGR_KLS9</td>\n",
       "      <td>RELAT_AB</td>\n",
       "    </tr>\n",
       "    <tr>\n",
       "      <th>information_level</th>\n",
       "      <td>person</td>\n",
       "      <td>person</td>\n",
       "      <td>person</td>\n",
       "      <td>person</td>\n",
       "      <td>person</td>\n",
       "      <td>person</td>\n",
       "      <td>person</td>\n",
       "      <td>person</td>\n",
       "      <td>person</td>\n",
       "      <td>person</td>\n",
       "      <td>...</td>\n",
       "      <td>macrocell_plz8</td>\n",
       "      <td>macrocell_plz8</td>\n",
       "      <td>macrocell_plz8</td>\n",
       "      <td>macrocell_plz8</td>\n",
       "      <td>macrocell_plz8</td>\n",
       "      <td>macrocell_plz8</td>\n",
       "      <td>macrocell_plz8</td>\n",
       "      <td>community</td>\n",
       "      <td>community</td>\n",
       "      <td>community</td>\n",
       "    </tr>\n",
       "    <tr>\n",
       "      <th>type</th>\n",
       "      <td>categorical</td>\n",
       "      <td>ordinal</td>\n",
       "      <td>categorical</td>\n",
       "      <td>categorical</td>\n",
       "      <td>ordinal</td>\n",
       "      <td>ordinal</td>\n",
       "      <td>ordinal</td>\n",
       "      <td>ordinal</td>\n",
       "      <td>ordinal</td>\n",
       "      <td>ordinal</td>\n",
       "      <td>...</td>\n",
       "      <td>ordinal</td>\n",
       "      <td>ordinal</td>\n",
       "      <td>ordinal</td>\n",
       "      <td>ordinal</td>\n",
       "      <td>mixed</td>\n",
       "      <td>ordinal</td>\n",
       "      <td>ordinal</td>\n",
       "      <td>ordinal</td>\n",
       "      <td>ordinal</td>\n",
       "      <td>ordinal</td>\n",
       "    </tr>\n",
       "    <tr>\n",
       "      <th>missing_or_unknown</th>\n",
       "      <td>[-1,0]</td>\n",
       "      <td>[-1,0,9]</td>\n",
       "      <td>[-1,0]</td>\n",
       "      <td>[0]</td>\n",
       "      <td>[-1]</td>\n",
       "      <td>[-1]</td>\n",
       "      <td>[-1]</td>\n",
       "      <td>[-1]</td>\n",
       "      <td>[-1]</td>\n",
       "      <td>[-1]</td>\n",
       "      <td>...</td>\n",
       "      <td>[-1]</td>\n",
       "      <td>[-1]</td>\n",
       "      <td>[-1]</td>\n",
       "      <td>[-1]</td>\n",
       "      <td>[-1,0]</td>\n",
       "      <td>[-1]</td>\n",
       "      <td>[-1]</td>\n",
       "      <td>[-1,9]</td>\n",
       "      <td>[-1,0]</td>\n",
       "      <td>[-1,9]</td>\n",
       "    </tr>\n",
       "  </tbody>\n",
       "</table>\n",
       "<p>4 rows × 85 columns</p>\n",
       "</div>"
      ],
      "text/plain": [
       "                             0                     1            2   \\\n",
       "attribute              AGER_TYP  ALTERSKATEGORIE_GROB    ANREDE_KZ   \n",
       "information_level        person                person       person   \n",
       "type                categorical               ordinal  categorical   \n",
       "missing_or_unknown       [-1,0]              [-1,0,9]       [-1,0]   \n",
       "\n",
       "                               3                  4              5   \\\n",
       "attribute           CJT_GESAMTTYP  FINANZ_MINIMALIST  FINANZ_SPARER   \n",
       "information_level          person             person         person   \n",
       "type                  categorical            ordinal        ordinal   \n",
       "missing_or_unknown            [0]               [-1]           [-1]   \n",
       "\n",
       "                                  6               7                      8   \\\n",
       "attribute           FINANZ_VORSORGER  FINANZ_ANLEGER  FINANZ_UNAUFFAELLIGER   \n",
       "information_level             person          person                 person   \n",
       "type                         ordinal         ordinal                ordinal   \n",
       "missing_or_unknown              [-1]            [-1]                   [-1]   \n",
       "\n",
       "                                  9     ...                  75  \\\n",
       "attribute           FINANZ_HAUSBAUER    ...          PLZ8_ANTG1   \n",
       "information_level             person    ...      macrocell_plz8   \n",
       "type                         ordinal    ...             ordinal   \n",
       "missing_or_unknown              [-1]    ...                [-1]   \n",
       "\n",
       "                                76              77              78  \\\n",
       "attribute               PLZ8_ANTG2      PLZ8_ANTG3      PLZ8_ANTG4   \n",
       "information_level   macrocell_plz8  macrocell_plz8  macrocell_plz8   \n",
       "type                       ordinal         ordinal         ordinal   \n",
       "missing_or_unknown            [-1]            [-1]            [-1]   \n",
       "\n",
       "                                79              80              81         82  \\\n",
       "attribute              PLZ8_BAUMAX        PLZ8_HHZ        PLZ8_GBZ     ARBEIT   \n",
       "information_level   macrocell_plz8  macrocell_plz8  macrocell_plz8  community   \n",
       "type                         mixed         ordinal         ordinal    ordinal   \n",
       "missing_or_unknown          [-1,0]            [-1]            [-1]     [-1,9]   \n",
       "\n",
       "                             83         84  \n",
       "attribute           ORTSGR_KLS9   RELAT_AB  \n",
       "information_level     community  community  \n",
       "type                    ordinal    ordinal  \n",
       "missing_or_unknown       [-1,0]     [-1,9]  \n",
       "\n",
       "[4 rows x 85 columns]"
      ]
     },
     "execution_count": 8,
     "metadata": {},
     "output_type": "execute_result"
    }
   ],
   "source": [
    "feat_info_transposed= feat_info.transpose()  \n",
    "\n",
    "feat_info_transposed.head()"
   ]
  },
  {
   "cell_type": "code",
   "execution_count": 9,
   "metadata": {},
   "outputs": [
    {
     "name": "stdout",
     "output_type": "stream",
     "text": [
      "0\n",
      "attribute                AGER_TYP\n",
      "information_level          person\n",
      "type                  categorical\n",
      "missing_or_unknown         [-1,0]\n",
      "Name: 0, dtype: object\n",
      "1\n",
      "attribute             ALTERSKATEGORIE_GROB\n",
      "information_level                   person\n",
      "type                               ordinal\n",
      "missing_or_unknown                [-1,0,9]\n",
      "Name: 1, dtype: object\n"
     ]
    }
   ],
   "source": [
    "''' In this code I am just checking and testing how to access the information I need'''\n",
    "\n",
    "\n",
    "step=0\n",
    "for attribute in feat_info_transposed:\n",
    "    step+=1\n",
    "    print(attribute)\n",
    "    print(feat_info_transposed[attribute])\n",
    "    #print(feat_info_transposed[attribute][3])\n",
    "    if step==2:\n",
    "        break\n",
    "        "
   ]
  },
  {
   "cell_type": "code",
   "execution_count": 10,
   "metadata": {},
   "outputs": [
    {
     "name": "stdout",
     "output_type": "stream",
     "text": [
      "[-1,0]\n",
      "[-1,0,9]\n",
      "[-1,0]\n"
     ]
    }
   ],
   "source": [
    "''' In this code I am just checking and testing how to access the information I need'''\n",
    "\n",
    "step=0\n",
    "for attribute in feat_info_transposed:\n",
    "    step+=1\n",
    "    #print(attribute)\n",
    "    #print(feat_info_transposed[attribute])\n",
    "    print(feat_info_transposed[attribute][3])\n",
    "    if step==3:\n",
    "        break"
   ]
  },
  {
   "cell_type": "code",
   "execution_count": 11,
   "metadata": {},
   "outputs": [
    {
     "name": "stdout",
     "output_type": "stream",
     "text": [
      "-1,0\n",
      "-1,0,9\n",
      "-1,0\n",
      "0\n",
      "-1\n",
      "-1\n",
      "-1\n",
      "-1\n",
      "-1\n",
      "-1\n",
      "-1\n",
      "0\n",
      "\n",
      "\n",
      "-1,0\n",
      "0\n",
      "0\n",
      "0\n",
      "0\n",
      "0\n"
     ]
    }
   ],
   "source": [
    "'''in order to remove brackets'''\n",
    "\n",
    "step=0\n",
    "for attribute in feat_info_transposed:\n",
    "    step+=1\n",
    "    #print(attribute)\n",
    "    #print(feat_info_transposed[attribute])\n",
    "    print(feat_info_transposed[attribute][3][1:-1])\n",
    "    if step==20:\n",
    "        break"
   ]
  },
  {
   "cell_type": "markdown",
   "metadata": {},
   "source": [
    "Missing values are identified in many different ways. I will try to identify and collect all these \"flags\" in a list and scan the azdias dataframe to check if these flags are present."
   ]
  },
  {
   "cell_type": "code",
   "execution_count": 12,
   "metadata": {},
   "outputs": [],
   "source": [
    "\n",
    "\n",
    "def remove_comma(string):\n",
    "    flags=[]\n",
    "    n=0\n",
    "    m=0\n",
    "    for character in string:\n",
    "        n+=1\n",
    "        m+=1\n",
    "       \n",
    "        if character==',':\n",
    "            \n",
    "            if m == 2:\n",
    "                a=string[n-2:n-1]\n",
    "            else:\n",
    "                a=string[n-m:n-1]\n",
    "            if a=='':\n",
    "                pass\n",
    "            else: \n",
    "                flags.append(a)\n",
    "            \n",
    "            m=0\n",
    "        if n==len(string):\n",
    "            a=string[n-m:]\n",
    "            if a=='':\n",
    "                pass\n",
    "            else: \n",
    "                flags.append(a)\n",
    "\n",
    "            \n",
    "    return flags\n",
    "                \n"
   ]
  },
  {
   "cell_type": "code",
   "execution_count": 13,
   "metadata": {},
   "outputs": [
    {
     "data": {
      "text/plain": [
       "['1gyg', 'gy2', '1', '2', '3vf', '7gt']"
      ]
     },
     "execution_count": 13,
     "metadata": {},
     "output_type": "execute_result"
    }
   ],
   "source": [
    "remove_comma(\"1gyg,gy2,1,,2,3vf,7gt\") #testing"
   ]
  },
  {
   "cell_type": "code",
   "execution_count": 14,
   "metadata": {},
   "outputs": [
    {
     "name": "stdout",
     "output_type": "stream",
     "text": [
      "{'XX', '9', '-1', '0', 'X'}\n"
     ]
    }
   ],
   "source": [
    "flags_set=set()\n",
    "for attribute in feat_info_transposed:\n",
    "    flag_str= feat_info_transposed[attribute][3]\n",
    "    flag_str= flag_str[1:-1]\n",
    "    flags= remove_comma(flag_str)\n",
    "    for flag in flags:\n",
    "        flags_set.add(flag)\n",
    "        \n",
    "        \n",
    "print(flags_set)"
   ]
  },
  {
   "cell_type": "markdown",
   "metadata": {},
   "source": [
    "{'0', '-1', 'XX', 'X', '9'} This is how NaNs are labelled, plus some empty rows that suggest that None was also used."
   ]
  },
  {
   "cell_type": "code",
   "execution_count": 15,
   "metadata": {},
   "outputs": [],
   "source": [
    "flags_list=[0,-1,9,'X','XX', None]\n",
    "\n",
    "\n",
    "azdias_nan=azdias.replace(to_replace=flags_list, value=np.nan)          "
   ]
  },
  {
   "cell_type": "code",
   "execution_count": 16,
   "metadata": {},
   "outputs": [
    {
     "data": {
      "text/html": [
       "<div>\n",
       "<style scoped>\n",
       "    .dataframe tbody tr th:only-of-type {\n",
       "        vertical-align: middle;\n",
       "    }\n",
       "\n",
       "    .dataframe tbody tr th {\n",
       "        vertical-align: top;\n",
       "    }\n",
       "\n",
       "    .dataframe thead th {\n",
       "        text-align: right;\n",
       "    }\n",
       "</style>\n",
       "<table border=\"1\" class=\"dataframe\">\n",
       "  <thead>\n",
       "    <tr style=\"text-align: right;\">\n",
       "      <th></th>\n",
       "      <th>AGER_TYP</th>\n",
       "      <th>ALTERSKATEGORIE_GROB</th>\n",
       "      <th>ANREDE_KZ</th>\n",
       "      <th>CJT_GESAMTTYP</th>\n",
       "      <th>FINANZ_MINIMALIST</th>\n",
       "      <th>FINANZ_SPARER</th>\n",
       "      <th>FINANZ_VORSORGER</th>\n",
       "      <th>FINANZ_ANLEGER</th>\n",
       "      <th>FINANZ_UNAUFFAELLIGER</th>\n",
       "      <th>FINANZ_HAUSBAUER</th>\n",
       "      <th>...</th>\n",
       "      <th>PLZ8_ANTG1</th>\n",
       "      <th>PLZ8_ANTG2</th>\n",
       "      <th>PLZ8_ANTG3</th>\n",
       "      <th>PLZ8_ANTG4</th>\n",
       "      <th>PLZ8_BAUMAX</th>\n",
       "      <th>PLZ8_HHZ</th>\n",
       "      <th>PLZ8_GBZ</th>\n",
       "      <th>ARBEIT</th>\n",
       "      <th>ORTSGR_KLS9</th>\n",
       "      <th>RELAT_AB</th>\n",
       "    </tr>\n",
       "  </thead>\n",
       "  <tbody>\n",
       "    <tr>\n",
       "      <th>0</th>\n",
       "      <td>NaN</td>\n",
       "      <td>2.0</td>\n",
       "      <td>1</td>\n",
       "      <td>2.0</td>\n",
       "      <td>3</td>\n",
       "      <td>4</td>\n",
       "      <td>3</td>\n",
       "      <td>5</td>\n",
       "      <td>5</td>\n",
       "      <td>3</td>\n",
       "      <td>...</td>\n",
       "      <td>NaN</td>\n",
       "      <td>NaN</td>\n",
       "      <td>NaN</td>\n",
       "      <td>NaN</td>\n",
       "      <td>NaN</td>\n",
       "      <td>NaN</td>\n",
       "      <td>NaN</td>\n",
       "      <td>NaN</td>\n",
       "      <td>NaN</td>\n",
       "      <td>NaN</td>\n",
       "    </tr>\n",
       "    <tr>\n",
       "      <th>1</th>\n",
       "      <td>NaN</td>\n",
       "      <td>1.0</td>\n",
       "      <td>2</td>\n",
       "      <td>5.0</td>\n",
       "      <td>1</td>\n",
       "      <td>5</td>\n",
       "      <td>2</td>\n",
       "      <td>5</td>\n",
       "      <td>4</td>\n",
       "      <td>5</td>\n",
       "      <td>...</td>\n",
       "      <td>2.0</td>\n",
       "      <td>3.0</td>\n",
       "      <td>2.0</td>\n",
       "      <td>1.0</td>\n",
       "      <td>1.0</td>\n",
       "      <td>5.0</td>\n",
       "      <td>4.0</td>\n",
       "      <td>3.0</td>\n",
       "      <td>5.0</td>\n",
       "      <td>4.0</td>\n",
       "    </tr>\n",
       "    <tr>\n",
       "      <th>2</th>\n",
       "      <td>NaN</td>\n",
       "      <td>3.0</td>\n",
       "      <td>2</td>\n",
       "      <td>3.0</td>\n",
       "      <td>1</td>\n",
       "      <td>4</td>\n",
       "      <td>1</td>\n",
       "      <td>2</td>\n",
       "      <td>3</td>\n",
       "      <td>5</td>\n",
       "      <td>...</td>\n",
       "      <td>3.0</td>\n",
       "      <td>3.0</td>\n",
       "      <td>1.0</td>\n",
       "      <td>NaN</td>\n",
       "      <td>1.0</td>\n",
       "      <td>4.0</td>\n",
       "      <td>4.0</td>\n",
       "      <td>3.0</td>\n",
       "      <td>5.0</td>\n",
       "      <td>2.0</td>\n",
       "    </tr>\n",
       "    <tr>\n",
       "      <th>3</th>\n",
       "      <td>2.0</td>\n",
       "      <td>4.0</td>\n",
       "      <td>2</td>\n",
       "      <td>2.0</td>\n",
       "      <td>4</td>\n",
       "      <td>2</td>\n",
       "      <td>5</td>\n",
       "      <td>2</td>\n",
       "      <td>1</td>\n",
       "      <td>2</td>\n",
       "      <td>...</td>\n",
       "      <td>2.0</td>\n",
       "      <td>2.0</td>\n",
       "      <td>2.0</td>\n",
       "      <td>NaN</td>\n",
       "      <td>1.0</td>\n",
       "      <td>3.0</td>\n",
       "      <td>4.0</td>\n",
       "      <td>2.0</td>\n",
       "      <td>3.0</td>\n",
       "      <td>3.0</td>\n",
       "    </tr>\n",
       "    <tr>\n",
       "      <th>4</th>\n",
       "      <td>NaN</td>\n",
       "      <td>3.0</td>\n",
       "      <td>1</td>\n",
       "      <td>5.0</td>\n",
       "      <td>4</td>\n",
       "      <td>3</td>\n",
       "      <td>4</td>\n",
       "      <td>1</td>\n",
       "      <td>3</td>\n",
       "      <td>2</td>\n",
       "      <td>...</td>\n",
       "      <td>2.0</td>\n",
       "      <td>4.0</td>\n",
       "      <td>2.0</td>\n",
       "      <td>1.0</td>\n",
       "      <td>2.0</td>\n",
       "      <td>3.0</td>\n",
       "      <td>3.0</td>\n",
       "      <td>4.0</td>\n",
       "      <td>6.0</td>\n",
       "      <td>5.0</td>\n",
       "    </tr>\n",
       "    <tr>\n",
       "      <th>5</th>\n",
       "      <td>3.0</td>\n",
       "      <td>1.0</td>\n",
       "      <td>2</td>\n",
       "      <td>2.0</td>\n",
       "      <td>3</td>\n",
       "      <td>1</td>\n",
       "      <td>5</td>\n",
       "      <td>2</td>\n",
       "      <td>2</td>\n",
       "      <td>5</td>\n",
       "      <td>...</td>\n",
       "      <td>2.0</td>\n",
       "      <td>3.0</td>\n",
       "      <td>1.0</td>\n",
       "      <td>1.0</td>\n",
       "      <td>1.0</td>\n",
       "      <td>5.0</td>\n",
       "      <td>5.0</td>\n",
       "      <td>2.0</td>\n",
       "      <td>3.0</td>\n",
       "      <td>3.0</td>\n",
       "    </tr>\n",
       "    <tr>\n",
       "      <th>6</th>\n",
       "      <td>NaN</td>\n",
       "      <td>2.0</td>\n",
       "      <td>2</td>\n",
       "      <td>5.0</td>\n",
       "      <td>1</td>\n",
       "      <td>5</td>\n",
       "      <td>1</td>\n",
       "      <td>5</td>\n",
       "      <td>4</td>\n",
       "      <td>3</td>\n",
       "      <td>...</td>\n",
       "      <td>3.0</td>\n",
       "      <td>3.0</td>\n",
       "      <td>1.0</td>\n",
       "      <td>NaN</td>\n",
       "      <td>1.0</td>\n",
       "      <td>5.0</td>\n",
       "      <td>5.0</td>\n",
       "      <td>4.0</td>\n",
       "      <td>6.0</td>\n",
       "      <td>3.0</td>\n",
       "    </tr>\n",
       "    <tr>\n",
       "      <th>7</th>\n",
       "      <td>NaN</td>\n",
       "      <td>1.0</td>\n",
       "      <td>1</td>\n",
       "      <td>3.0</td>\n",
       "      <td>3</td>\n",
       "      <td>3</td>\n",
       "      <td>4</td>\n",
       "      <td>1</td>\n",
       "      <td>3</td>\n",
       "      <td>2</td>\n",
       "      <td>...</td>\n",
       "      <td>3.0</td>\n",
       "      <td>3.0</td>\n",
       "      <td>1.0</td>\n",
       "      <td>NaN</td>\n",
       "      <td>1.0</td>\n",
       "      <td>4.0</td>\n",
       "      <td>4.0</td>\n",
       "      <td>2.0</td>\n",
       "      <td>5.0</td>\n",
       "      <td>2.0</td>\n",
       "    </tr>\n",
       "    <tr>\n",
       "      <th>8</th>\n",
       "      <td>NaN</td>\n",
       "      <td>3.0</td>\n",
       "      <td>1</td>\n",
       "      <td>3.0</td>\n",
       "      <td>4</td>\n",
       "      <td>4</td>\n",
       "      <td>2</td>\n",
       "      <td>4</td>\n",
       "      <td>2</td>\n",
       "      <td>2</td>\n",
       "      <td>...</td>\n",
       "      <td>2.0</td>\n",
       "      <td>3.0</td>\n",
       "      <td>2.0</td>\n",
       "      <td>1.0</td>\n",
       "      <td>1.0</td>\n",
       "      <td>3.0</td>\n",
       "      <td>3.0</td>\n",
       "      <td>2.0</td>\n",
       "      <td>4.0</td>\n",
       "      <td>3.0</td>\n",
       "    </tr>\n",
       "    <tr>\n",
       "      <th>9</th>\n",
       "      <td>NaN</td>\n",
       "      <td>3.0</td>\n",
       "      <td>2</td>\n",
       "      <td>4.0</td>\n",
       "      <td>2</td>\n",
       "      <td>4</td>\n",
       "      <td>2</td>\n",
       "      <td>3</td>\n",
       "      <td>5</td>\n",
       "      <td>4</td>\n",
       "      <td>...</td>\n",
       "      <td>2.0</td>\n",
       "      <td>3.0</td>\n",
       "      <td>2.0</td>\n",
       "      <td>1.0</td>\n",
       "      <td>1.0</td>\n",
       "      <td>3.0</td>\n",
       "      <td>3.0</td>\n",
       "      <td>2.0</td>\n",
       "      <td>3.0</td>\n",
       "      <td>1.0</td>\n",
       "    </tr>\n",
       "    <tr>\n",
       "      <th>10</th>\n",
       "      <td>NaN</td>\n",
       "      <td>3.0</td>\n",
       "      <td>2</td>\n",
       "      <td>1.0</td>\n",
       "      <td>2</td>\n",
       "      <td>2</td>\n",
       "      <td>5</td>\n",
       "      <td>3</td>\n",
       "      <td>1</td>\n",
       "      <td>5</td>\n",
       "      <td>...</td>\n",
       "      <td>2.0</td>\n",
       "      <td>4.0</td>\n",
       "      <td>2.0</td>\n",
       "      <td>NaN</td>\n",
       "      <td>2.0</td>\n",
       "      <td>3.0</td>\n",
       "      <td>3.0</td>\n",
       "      <td>4.0</td>\n",
       "      <td>6.0</td>\n",
       "      <td>5.0</td>\n",
       "    </tr>\n",
       "    <tr>\n",
       "      <th>11</th>\n",
       "      <td>NaN</td>\n",
       "      <td>2.0</td>\n",
       "      <td>1</td>\n",
       "      <td>6.0</td>\n",
       "      <td>3</td>\n",
       "      <td>4</td>\n",
       "      <td>3</td>\n",
       "      <td>5</td>\n",
       "      <td>5</td>\n",
       "      <td>3</td>\n",
       "      <td>...</td>\n",
       "      <td>NaN</td>\n",
       "      <td>NaN</td>\n",
       "      <td>NaN</td>\n",
       "      <td>NaN</td>\n",
       "      <td>NaN</td>\n",
       "      <td>NaN</td>\n",
       "      <td>NaN</td>\n",
       "      <td>NaN</td>\n",
       "      <td>NaN</td>\n",
       "      <td>NaN</td>\n",
       "    </tr>\n",
       "    <tr>\n",
       "      <th>12</th>\n",
       "      <td>NaN</td>\n",
       "      <td>3.0</td>\n",
       "      <td>1</td>\n",
       "      <td>6.0</td>\n",
       "      <td>5</td>\n",
       "      <td>3</td>\n",
       "      <td>4</td>\n",
       "      <td>2</td>\n",
       "      <td>4</td>\n",
       "      <td>1</td>\n",
       "      <td>...</td>\n",
       "      <td>3.0</td>\n",
       "      <td>3.0</td>\n",
       "      <td>1.0</td>\n",
       "      <td>NaN</td>\n",
       "      <td>1.0</td>\n",
       "      <td>5.0</td>\n",
       "      <td>5.0</td>\n",
       "      <td>3.0</td>\n",
       "      <td>6.0</td>\n",
       "      <td>4.0</td>\n",
       "    </tr>\n",
       "    <tr>\n",
       "      <th>13</th>\n",
       "      <td>NaN</td>\n",
       "      <td>1.0</td>\n",
       "      <td>2</td>\n",
       "      <td>5.0</td>\n",
       "      <td>1</td>\n",
       "      <td>4</td>\n",
       "      <td>3</td>\n",
       "      <td>5</td>\n",
       "      <td>5</td>\n",
       "      <td>2</td>\n",
       "      <td>...</td>\n",
       "      <td>2.0</td>\n",
       "      <td>1.0</td>\n",
       "      <td>1.0</td>\n",
       "      <td>1.0</td>\n",
       "      <td>1.0</td>\n",
       "      <td>3.0</td>\n",
       "      <td>3.0</td>\n",
       "      <td>3.0</td>\n",
       "      <td>6.0</td>\n",
       "      <td>4.0</td>\n",
       "    </tr>\n",
       "    <tr>\n",
       "      <th>14</th>\n",
       "      <td>NaN</td>\n",
       "      <td>3.0</td>\n",
       "      <td>1</td>\n",
       "      <td>6.0</td>\n",
       "      <td>3</td>\n",
       "      <td>4</td>\n",
       "      <td>3</td>\n",
       "      <td>5</td>\n",
       "      <td>5</td>\n",
       "      <td>3</td>\n",
       "      <td>...</td>\n",
       "      <td>NaN</td>\n",
       "      <td>NaN</td>\n",
       "      <td>NaN</td>\n",
       "      <td>NaN</td>\n",
       "      <td>NaN</td>\n",
       "      <td>NaN</td>\n",
       "      <td>NaN</td>\n",
       "      <td>NaN</td>\n",
       "      <td>NaN</td>\n",
       "      <td>NaN</td>\n",
       "    </tr>\n",
       "  </tbody>\n",
       "</table>\n",
       "<p>15 rows × 85 columns</p>\n",
       "</div>"
      ],
      "text/plain": [
       "    AGER_TYP  ALTERSKATEGORIE_GROB  ANREDE_KZ  CJT_GESAMTTYP  \\\n",
       "0        NaN                   2.0          1            2.0   \n",
       "1        NaN                   1.0          2            5.0   \n",
       "2        NaN                   3.0          2            3.0   \n",
       "3        2.0                   4.0          2            2.0   \n",
       "4        NaN                   3.0          1            5.0   \n",
       "5        3.0                   1.0          2            2.0   \n",
       "6        NaN                   2.0          2            5.0   \n",
       "7        NaN                   1.0          1            3.0   \n",
       "8        NaN                   3.0          1            3.0   \n",
       "9        NaN                   3.0          2            4.0   \n",
       "10       NaN                   3.0          2            1.0   \n",
       "11       NaN                   2.0          1            6.0   \n",
       "12       NaN                   3.0          1            6.0   \n",
       "13       NaN                   1.0          2            5.0   \n",
       "14       NaN                   3.0          1            6.0   \n",
       "\n",
       "    FINANZ_MINIMALIST  FINANZ_SPARER  FINANZ_VORSORGER  FINANZ_ANLEGER  \\\n",
       "0                   3              4                 3               5   \n",
       "1                   1              5                 2               5   \n",
       "2                   1              4                 1               2   \n",
       "3                   4              2                 5               2   \n",
       "4                   4              3                 4               1   \n",
       "5                   3              1                 5               2   \n",
       "6                   1              5                 1               5   \n",
       "7                   3              3                 4               1   \n",
       "8                   4              4                 2               4   \n",
       "9                   2              4                 2               3   \n",
       "10                  2              2                 5               3   \n",
       "11                  3              4                 3               5   \n",
       "12                  5              3                 4               2   \n",
       "13                  1              4                 3               5   \n",
       "14                  3              4                 3               5   \n",
       "\n",
       "    FINANZ_UNAUFFAELLIGER  FINANZ_HAUSBAUER    ...     PLZ8_ANTG1  PLZ8_ANTG2  \\\n",
       "0                       5                 3    ...            NaN         NaN   \n",
       "1                       4                 5    ...            2.0         3.0   \n",
       "2                       3                 5    ...            3.0         3.0   \n",
       "3                       1                 2    ...            2.0         2.0   \n",
       "4                       3                 2    ...            2.0         4.0   \n",
       "5                       2                 5    ...            2.0         3.0   \n",
       "6                       4                 3    ...            3.0         3.0   \n",
       "7                       3                 2    ...            3.0         3.0   \n",
       "8                       2                 2    ...            2.0         3.0   \n",
       "9                       5                 4    ...            2.0         3.0   \n",
       "10                      1                 5    ...            2.0         4.0   \n",
       "11                      5                 3    ...            NaN         NaN   \n",
       "12                      4                 1    ...            3.0         3.0   \n",
       "13                      5                 2    ...            2.0         1.0   \n",
       "14                      5                 3    ...            NaN         NaN   \n",
       "\n",
       "    PLZ8_ANTG3  PLZ8_ANTG4  PLZ8_BAUMAX  PLZ8_HHZ  PLZ8_GBZ  ARBEIT  \\\n",
       "0          NaN         NaN          NaN       NaN       NaN     NaN   \n",
       "1          2.0         1.0          1.0       5.0       4.0     3.0   \n",
       "2          1.0         NaN          1.0       4.0       4.0     3.0   \n",
       "3          2.0         NaN          1.0       3.0       4.0     2.0   \n",
       "4          2.0         1.0          2.0       3.0       3.0     4.0   \n",
       "5          1.0         1.0          1.0       5.0       5.0     2.0   \n",
       "6          1.0         NaN          1.0       5.0       5.0     4.0   \n",
       "7          1.0         NaN          1.0       4.0       4.0     2.0   \n",
       "8          2.0         1.0          1.0       3.0       3.0     2.0   \n",
       "9          2.0         1.0          1.0       3.0       3.0     2.0   \n",
       "10         2.0         NaN          2.0       3.0       3.0     4.0   \n",
       "11         NaN         NaN          NaN       NaN       NaN     NaN   \n",
       "12         1.0         NaN          1.0       5.0       5.0     3.0   \n",
       "13         1.0         1.0          1.0       3.0       3.0     3.0   \n",
       "14         NaN         NaN          NaN       NaN       NaN     NaN   \n",
       "\n",
       "    ORTSGR_KLS9  RELAT_AB  \n",
       "0           NaN       NaN  \n",
       "1           5.0       4.0  \n",
       "2           5.0       2.0  \n",
       "3           3.0       3.0  \n",
       "4           6.0       5.0  \n",
       "5           3.0       3.0  \n",
       "6           6.0       3.0  \n",
       "7           5.0       2.0  \n",
       "8           4.0       3.0  \n",
       "9           3.0       1.0  \n",
       "10          6.0       5.0  \n",
       "11          NaN       NaN  \n",
       "12          6.0       4.0  \n",
       "13          6.0       4.0  \n",
       "14          NaN       NaN  \n",
       "\n",
       "[15 rows x 85 columns]"
      ]
     },
     "execution_count": 16,
     "metadata": {},
     "output_type": "execute_result"
    }
   ],
   "source": [
    "azdias_nan.head(15)"
   ]
  },
  {
   "cell_type": "markdown",
   "metadata": {},
   "source": [
    "#### Step 1.1.2: Assess Missing Data in Each Column\n",
    "\n",
    "How much missing data is present in each column? There are a few columns that are outliers in terms of the proportion of values that are missing. You will want to use matplotlib's [`hist()`](https://matplotlib.org/api/_as_gen/matplotlib.pyplot.hist.html) function to visualize the distribution of missing value counts to find these columns. Identify and document these columns. While some of these columns might have justifications for keeping or re-encoding the data, for this project you should just remove them from the dataframe. (Feel free to make remarks about these outlier columns in the discussion, however!)\n",
    "\n",
    "For the remaining features, are there any patterns in which columns have, or share, missing data?"
   ]
  },
  {
   "cell_type": "code",
   "execution_count": 17,
   "metadata": {},
   "outputs": [
    {
     "data": {
      "text/plain": [
       "85"
      ]
     },
     "execution_count": 17,
     "metadata": {},
     "output_type": "execute_result"
    }
   ],
   "source": [
    "len(azdias_nan.columns)"
   ]
  },
  {
   "cell_type": "code",
   "execution_count": 18,
   "metadata": {},
   "outputs": [
    {
     "data": {
      "text/plain": [
       "<Container object of 85 artists>"
      ]
     },
     "execution_count": 18,
     "metadata": {},
     "output_type": "execute_result"
    },
    {
     "data": {
      "image/png": "[encoded data removed]",
      "text/plain": [
       "<matplotlib.figure.Figure at 0x7fb2b8bdc550>"
      ]
     },
     "metadata": {
      "needs_background": "light"
     },
     "output_type": "display_data"
    }
   ],
   "source": [
    "# Perform an assessment of how much missing data there is in each column of the\n",
    "# dataset.\n",
    "'''I could not get the image i wanted using .hist() because the x and y values were swapped in the plot'''\n",
    "y= azdias_nan.isnull().sum().values\n",
    "x= range(1,86)\n",
    "\n",
    "plt.bar(x,y)"
   ]
  },
  {
   "cell_type": "markdown",
   "metadata": {},
   "source": [
    " Investigate patterns in the amount of missing data in each column.\n",
    "\n",
    "There are a number of columns with more than 200 000 missing data."
   ]
  },
  {
   "cell_type": "code",
   "execution_count": 19,
   "metadata": {},
   "outputs": [
    {
     "name": "stdout",
     "output_type": "stream",
     "text": [
      "18\n"
     ]
    },
    {
     "data": {
      "text/plain": [
       "AGER_TYP            685843\n",
       "GEBURTSJAHR         392318\n",
       "GREEN_AVANTGARDE    715996\n",
       "SHOPPER_TYP         238778\n",
       "SOHO_KZ             884333\n",
       "TITEL_KZ            889061\n",
       "ALTER_HH            333084\n",
       "ANZ_TITEL           888041\n",
       "KK_KUNDENTYP        584612\n",
       "WOHNDAUER_2008      624675\n",
       "ANZ_HH_TITEL        867286\n",
       "KBA05_ANTG1         394373\n",
       "KBA05_ANTG2         425862\n",
       "KBA05_ANTG3         644869\n",
       "KBA05_ANTG4         733495\n",
       "KBA05_BAUMAX        476524\n",
       "PLZ8_ANTG3          236309\n",
       "PLZ8_ANTG4          472904\n",
       "dtype: int64"
      ]
     },
     "execution_count": 19,
     "metadata": {},
     "output_type": "execute_result"
    }
   ],
   "source": [
    "'''This is the features with more than 200000 missing values and the corresponding labels. '''\n",
    "\n",
    "missing_series= azdias_nan.isnull().sum()\n",
    "\n",
    "print(len(missing_series[missing_series>200000]))\n",
    "missing_series[missing_series>200000]\n"
   ]
  },
  {
   "cell_type": "code",
   "execution_count": 20,
   "metadata": {},
   "outputs": [],
   "source": [
    "outliers_list=list(missing_series[missing_series>200000].index)"
   ]
  },
  {
   "cell_type": "code",
   "execution_count": 21,
   "metadata": {},
   "outputs": [
    {
     "data": {
      "text/html": [
       "<div>\n",
       "<style scoped>\n",
       "    .dataframe tbody tr th:only-of-type {\n",
       "        vertical-align: middle;\n",
       "    }\n",
       "\n",
       "    .dataframe tbody tr th {\n",
       "        vertical-align: top;\n",
       "    }\n",
       "\n",
       "    .dataframe thead th {\n",
       "        text-align: right;\n",
       "    }\n",
       "</style>\n",
       "<table border=\"1\" class=\"dataframe\">\n",
       "  <thead>\n",
       "    <tr style=\"text-align: right;\">\n",
       "      <th></th>\n",
       "      <th>ALTERSKATEGORIE_GROB</th>\n",
       "      <th>ANREDE_KZ</th>\n",
       "      <th>CJT_GESAMTTYP</th>\n",
       "      <th>FINANZ_MINIMALIST</th>\n",
       "      <th>FINANZ_SPARER</th>\n",
       "      <th>FINANZ_VORSORGER</th>\n",
       "      <th>FINANZ_ANLEGER</th>\n",
       "      <th>FINANZ_UNAUFFAELLIGER</th>\n",
       "      <th>FINANZ_HAUSBAUER</th>\n",
       "      <th>FINANZTYP</th>\n",
       "      <th>...</th>\n",
       "      <th>REGIOTYP</th>\n",
       "      <th>KBA13_ANZAHL_PKW</th>\n",
       "      <th>PLZ8_ANTG1</th>\n",
       "      <th>PLZ8_ANTG2</th>\n",
       "      <th>PLZ8_BAUMAX</th>\n",
       "      <th>PLZ8_HHZ</th>\n",
       "      <th>PLZ8_GBZ</th>\n",
       "      <th>ARBEIT</th>\n",
       "      <th>ORTSGR_KLS9</th>\n",
       "      <th>RELAT_AB</th>\n",
       "    </tr>\n",
       "  </thead>\n",
       "  <tbody>\n",
       "    <tr>\n",
       "      <th>0</th>\n",
       "      <td>2.0</td>\n",
       "      <td>1</td>\n",
       "      <td>2.0</td>\n",
       "      <td>3</td>\n",
       "      <td>4</td>\n",
       "      <td>3</td>\n",
       "      <td>5</td>\n",
       "      <td>5</td>\n",
       "      <td>3</td>\n",
       "      <td>4</td>\n",
       "      <td>...</td>\n",
       "      <td>NaN</td>\n",
       "      <td>NaN</td>\n",
       "      <td>NaN</td>\n",
       "      <td>NaN</td>\n",
       "      <td>NaN</td>\n",
       "      <td>NaN</td>\n",
       "      <td>NaN</td>\n",
       "      <td>NaN</td>\n",
       "      <td>NaN</td>\n",
       "      <td>NaN</td>\n",
       "    </tr>\n",
       "    <tr>\n",
       "      <th>1</th>\n",
       "      <td>1.0</td>\n",
       "      <td>2</td>\n",
       "      <td>5.0</td>\n",
       "      <td>1</td>\n",
       "      <td>5</td>\n",
       "      <td>2</td>\n",
       "      <td>5</td>\n",
       "      <td>4</td>\n",
       "      <td>5</td>\n",
       "      <td>1</td>\n",
       "      <td>...</td>\n",
       "      <td>3.0</td>\n",
       "      <td>963.0</td>\n",
       "      <td>2.0</td>\n",
       "      <td>3.0</td>\n",
       "      <td>1.0</td>\n",
       "      <td>5.0</td>\n",
       "      <td>4.0</td>\n",
       "      <td>3.0</td>\n",
       "      <td>5.0</td>\n",
       "      <td>4.0</td>\n",
       "    </tr>\n",
       "    <tr>\n",
       "      <th>2</th>\n",
       "      <td>3.0</td>\n",
       "      <td>2</td>\n",
       "      <td>3.0</td>\n",
       "      <td>1</td>\n",
       "      <td>4</td>\n",
       "      <td>1</td>\n",
       "      <td>2</td>\n",
       "      <td>3</td>\n",
       "      <td>5</td>\n",
       "      <td>1</td>\n",
       "      <td>...</td>\n",
       "      <td>2.0</td>\n",
       "      <td>712.0</td>\n",
       "      <td>3.0</td>\n",
       "      <td>3.0</td>\n",
       "      <td>1.0</td>\n",
       "      <td>4.0</td>\n",
       "      <td>4.0</td>\n",
       "      <td>3.0</td>\n",
       "      <td>5.0</td>\n",
       "      <td>2.0</td>\n",
       "    </tr>\n",
       "    <tr>\n",
       "      <th>3</th>\n",
       "      <td>4.0</td>\n",
       "      <td>2</td>\n",
       "      <td>2.0</td>\n",
       "      <td>4</td>\n",
       "      <td>2</td>\n",
       "      <td>5</td>\n",
       "      <td>2</td>\n",
       "      <td>1</td>\n",
       "      <td>2</td>\n",
       "      <td>6</td>\n",
       "      <td>...</td>\n",
       "      <td>NaN</td>\n",
       "      <td>596.0</td>\n",
       "      <td>2.0</td>\n",
       "      <td>2.0</td>\n",
       "      <td>1.0</td>\n",
       "      <td>3.0</td>\n",
       "      <td>4.0</td>\n",
       "      <td>2.0</td>\n",
       "      <td>3.0</td>\n",
       "      <td>3.0</td>\n",
       "    </tr>\n",
       "    <tr>\n",
       "      <th>4</th>\n",
       "      <td>3.0</td>\n",
       "      <td>1</td>\n",
       "      <td>5.0</td>\n",
       "      <td>4</td>\n",
       "      <td>3</td>\n",
       "      <td>4</td>\n",
       "      <td>1</td>\n",
       "      <td>3</td>\n",
       "      <td>2</td>\n",
       "      <td>5</td>\n",
       "      <td>...</td>\n",
       "      <td>5.0</td>\n",
       "      <td>435.0</td>\n",
       "      <td>2.0</td>\n",
       "      <td>4.0</td>\n",
       "      <td>2.0</td>\n",
       "      <td>3.0</td>\n",
       "      <td>3.0</td>\n",
       "      <td>4.0</td>\n",
       "      <td>6.0</td>\n",
       "      <td>5.0</td>\n",
       "    </tr>\n",
       "  </tbody>\n",
       "</table>\n",
       "<p>5 rows × 67 columns</p>\n",
       "</div>"
      ],
      "text/plain": [
       "   ALTERSKATEGORIE_GROB  ANREDE_KZ  CJT_GESAMTTYP  FINANZ_MINIMALIST  \\\n",
       "0                   2.0          1            2.0                  3   \n",
       "1                   1.0          2            5.0                  1   \n",
       "2                   3.0          2            3.0                  1   \n",
       "3                   4.0          2            2.0                  4   \n",
       "4                   3.0          1            5.0                  4   \n",
       "\n",
       "   FINANZ_SPARER  FINANZ_VORSORGER  FINANZ_ANLEGER  FINANZ_UNAUFFAELLIGER  \\\n",
       "0              4                 3               5                      5   \n",
       "1              5                 2               5                      4   \n",
       "2              4                 1               2                      3   \n",
       "3              2                 5               2                      1   \n",
       "4              3                 4               1                      3   \n",
       "\n",
       "   FINANZ_HAUSBAUER  FINANZTYP    ...     REGIOTYP  KBA13_ANZAHL_PKW  \\\n",
       "0                 3          4    ...          NaN               NaN   \n",
       "1                 5          1    ...          3.0             963.0   \n",
       "2                 5          1    ...          2.0             712.0   \n",
       "3                 2          6    ...          NaN             596.0   \n",
       "4                 2          5    ...          5.0             435.0   \n",
       "\n",
       "   PLZ8_ANTG1  PLZ8_ANTG2  PLZ8_BAUMAX  PLZ8_HHZ  PLZ8_GBZ  ARBEIT  \\\n",
       "0         NaN         NaN          NaN       NaN       NaN     NaN   \n",
       "1         2.0         3.0          1.0       5.0       4.0     3.0   \n",
       "2         3.0         3.0          1.0       4.0       4.0     3.0   \n",
       "3         2.0         2.0          1.0       3.0       4.0     2.0   \n",
       "4         2.0         4.0          2.0       3.0       3.0     4.0   \n",
       "\n",
       "   ORTSGR_KLS9  RELAT_AB  \n",
       "0          NaN       NaN  \n",
       "1          5.0       4.0  \n",
       "2          5.0       2.0  \n",
       "3          3.0       3.0  \n",
       "4          6.0       5.0  \n",
       "\n",
       "[5 rows x 67 columns]"
      ]
     },
     "execution_count": 21,
     "metadata": {},
     "output_type": "execute_result"
    }
   ],
   "source": [
    "# Remove the outlier columns from the dataset. (You'll perform other data\n",
    "# engineering tasks such as re-encoding and imputation later.)\n",
    "\n",
    "reduced_azdias= azdias_nan.drop(columns=outliers_list)\n",
    "\n",
    "reduced_azdias.head()"
   ]
  },
  {
   "cell_type": "markdown",
   "metadata": {},
   "source": [
    "#### Discussion 1.1.2: Assess Missing Data in Each Column\n",
    "\n",
    "I decided to select only columns with less than 200000 missing values.\n",
    "The features with larger number of missing values are in the household-level features, micro-cell features, some personal level features (especially related to age and education) and some building level features. "
   ]
  },
  {
   "cell_type": "markdown",
   "metadata": {},
   "source": [
    "#### Step 1.1.3: Assess Missing Data in Each Row\n",
    "\n",
    "Now, you'll perform a similar assessment for the rows of the dataset. How much data is missing in each row? As with the columns, you should see some groups of points that have a very different numbers of missing values. Divide the data into two subsets: one for data points that are above some threshold for missing values, and a second subset for points below that threshold.\n",
    "\n",
    "In order to know what to do with the outlier rows, we should see if the distribution of data values on columns that are not missing data (or are missing very little data) are similar or different between the two groups. Select at least five of these columns and compare the distribution of values.\n",
    "- You can use seaborn's [`countplot()`](https://seaborn.pydata.org/generated/seaborn.countplot.html) function to create a bar chart of code frequencies and matplotlib's [`subplot()`](https://matplotlib.org/api/_as_gen/matplotlib.pyplot.subplot.html) function to put bar charts for the two subplots side by side.\n",
    "- To reduce repeated code, you might want to write a function that can perform this comparison, taking as one of its arguments a column to be compared.\n",
    "\n",
    "Depending on what you observe in your comparison, this will have implications on how you approach your conclusions later in the analysis. If the distributions of non-missing features look similar between the data with many missing values and the data with few or no missing values, then we could argue that simply dropping those points from the analysis won't present a major issue. On the other hand, if the data with many missing values looks very different from the data with few or no missing values, then we should make a note on those data as special. We'll revisit these data later on. **Either way, you should continue your analysis for now using just the subset of the data with few or no missing values.**"
   ]
  },
  {
   "cell_type": "code",
   "execution_count": 22,
   "metadata": {},
   "outputs": [
    {
     "data": {
      "text/plain": [
       "<matplotlib.axes._subplots.AxesSubplot at 0x7fb21b521780>"
      ]
     },
     "execution_count": 22,
     "metadata": {},
     "output_type": "execute_result"
    },
    {
     "data": {
      "image/png": "[encoded data removed]",
      "text/plain": [
       "<matplotlib.figure.Figure at 0x7fb21b52b0b8>"
      ]
     },
     "metadata": {
      "needs_background": "light"
     },
     "output_type": "display_data"
    }
   ],
   "source": [
    "# How much data is missing in each row of the dataset?\n",
    "\n",
    "y= azdias_nan.isnull().sum(axis=1).values\n",
    "x= range(0,len(y))\n",
    "\n",
    "sns.countplot(azdias_nan.isnull().sum(axis=1).values)\n"
   ]
  },
  {
   "cell_type": "markdown",
   "metadata": {},
   "source": [
    "The plot shows that most rows have around 10 missing features; a second smaller group of rows have larger numbers of missing data. I will use 35 as threshold to separate the data. \n"
   ]
  },
  {
   "cell_type": "code",
   "execution_count": 23,
   "metadata": {},
   "outputs": [],
   "source": [
    "# Write code to divide the data into two subsets based on the number of missing\n",
    "# values in each row.\n",
    "\n"
   ]
  },
  {
   "cell_type": "code",
   "execution_count": 24,
   "metadata": {},
   "outputs": [
    {
     "data": {
      "text/plain": [
       "<matplotlib.axes._subplots.AxesSubplot at 0x7fb2796c3860>"
      ]
     },
     "execution_count": 24,
     "metadata": {},
     "output_type": "execute_result"
    },
    {
     "data": {
      "image/png": "[encoded data removed]",
      "text/plain": [
       "<matplotlib.figure.Figure at 0x7fb2796fb588>"
      ]
     },
     "metadata": {
      "needs_background": "light"
     },
     "output_type": "display_data"
    }
   ],
   "source": [
    "y_1=y[y > 35]\n",
    "y_2= y[y < 35]\n",
    "sns.countplot(y_1)\n"
   ]
  },
  {
   "cell_type": "code",
   "execution_count": 25,
   "metadata": {
    "scrolled": true
   },
   "outputs": [
    {
     "data": {
      "text/plain": [
       "<matplotlib.axes._subplots.AxesSubplot at 0x7fb27954e630>"
      ]
     },
     "execution_count": 25,
     "metadata": {},
     "output_type": "execute_result"
    },
    {
     "data": {
      "image/png": "[encoded data removed]",
      "text/plain": [
       "<matplotlib.figure.Figure at 0x7fb27955c780>"
      ]
     },
     "metadata": {
      "needs_background": "light"
     },
     "output_type": "display_data"
    }
   ],
   "source": [
    "sns.countplot(y_2)"
   ]
  },
  {
   "cell_type": "markdown",
   "metadata": {},
   "source": [
    "I will now perform the same computation on the reduced dataset from which the columns with most missing values have been dropped. \n"
   ]
  },
  {
   "cell_type": "code",
   "execution_count": 26,
   "metadata": {},
   "outputs": [
    {
     "data": {
      "text/plain": [
       "<matplotlib.axes._subplots.AxesSubplot at 0x7fb279498f28>"
      ]
     },
     "execution_count": 26,
     "metadata": {},
     "output_type": "execute_result"
    },
    {
     "data": {
      "image/png": "[encoded data removed]",
      "text/plain": [
       "<matplotlib.figure.Figure at 0x7fb27942b048>"
      ]
     },
     "metadata": {
      "needs_background": "light"
     },
     "output_type": "display_data"
    }
   ],
   "source": [
    "# Compare the distribution of values for at least five columns where there are\n",
    "# no or few missing values, between the two subsets.\n",
    "\n",
    "y_red= reduced_azdias.isnull().sum(axis=1).values\n",
    "\n",
    "\n",
    "sns.countplot(y_red)"
   ]
  },
  {
   "cell_type": "markdown",
   "metadata": {},
   "source": [
    "On the reduced dataframe the vast majority of rows have less than 10 features missing. "
   ]
  },
  {
   "cell_type": "code",
   "execution_count": 27,
   "metadata": {},
   "outputs": [
    {
     "data": {
      "text/plain": [
       "<matplotlib.axes._subplots.AxesSubplot at 0x7fb27938ce10>"
      ]
     },
     "execution_count": 27,
     "metadata": {},
     "output_type": "execute_result"
    },
    {
     "data": {
      "image/png": "[encoded data removed]",
      "text/plain": [
       "<matplotlib.figure.Figure at 0x7fb279377780>"
      ]
     },
     "metadata": {
      "needs_background": "light"
     },
     "output_type": "display_data"
    }
   ],
   "source": [
    "y_red_1=y_red[y_red > 20]\n",
    "y_red_2= y_red[y_red < 35]\n",
    "sns.countplot(y_red_1)"
   ]
  },
  {
   "cell_type": "code",
   "execution_count": 28,
   "metadata": {},
   "outputs": [
    {
     "data": {
      "text/html": [
       "<div>\n",
       "<style scoped>\n",
       "    .dataframe tbody tr th:only-of-type {\n",
       "        vertical-align: middle;\n",
       "    }\n",
       "\n",
       "    .dataframe tbody tr th {\n",
       "        vertical-align: top;\n",
       "    }\n",
       "\n",
       "    .dataframe thead th {\n",
       "        text-align: right;\n",
       "    }\n",
       "</style>\n",
       "<table border=\"1\" class=\"dataframe\">\n",
       "  <thead>\n",
       "    <tr style=\"text-align: right;\">\n",
       "      <th></th>\n",
       "      <th>ALTERSKATEGORIE_GROB</th>\n",
       "      <th>ANREDE_KZ</th>\n",
       "      <th>CJT_GESAMTTYP</th>\n",
       "      <th>FINANZ_MINIMALIST</th>\n",
       "      <th>FINANZ_SPARER</th>\n",
       "      <th>FINANZ_VORSORGER</th>\n",
       "      <th>FINANZ_ANLEGER</th>\n",
       "      <th>FINANZ_UNAUFFAELLIGER</th>\n",
       "      <th>FINANZ_HAUSBAUER</th>\n",
       "      <th>FINANZTYP</th>\n",
       "      <th>...</th>\n",
       "      <th>REGIOTYP</th>\n",
       "      <th>KBA13_ANZAHL_PKW</th>\n",
       "      <th>PLZ8_ANTG1</th>\n",
       "      <th>PLZ8_ANTG2</th>\n",
       "      <th>PLZ8_BAUMAX</th>\n",
       "      <th>PLZ8_HHZ</th>\n",
       "      <th>PLZ8_GBZ</th>\n",
       "      <th>ARBEIT</th>\n",
       "      <th>ORTSGR_KLS9</th>\n",
       "      <th>RELAT_AB</th>\n",
       "    </tr>\n",
       "  </thead>\n",
       "  <tbody>\n",
       "    <tr>\n",
       "      <th>11</th>\n",
       "      <td>2.0</td>\n",
       "      <td>1</td>\n",
       "      <td>6.0</td>\n",
       "      <td>3</td>\n",
       "      <td>4</td>\n",
       "      <td>3</td>\n",
       "      <td>5</td>\n",
       "      <td>5</td>\n",
       "      <td>3</td>\n",
       "      <td>4</td>\n",
       "      <td>...</td>\n",
       "      <td>NaN</td>\n",
       "      <td>NaN</td>\n",
       "      <td>NaN</td>\n",
       "      <td>NaN</td>\n",
       "      <td>NaN</td>\n",
       "      <td>NaN</td>\n",
       "      <td>NaN</td>\n",
       "      <td>NaN</td>\n",
       "      <td>NaN</td>\n",
       "      <td>NaN</td>\n",
       "    </tr>\n",
       "    <tr>\n",
       "      <th>14</th>\n",
       "      <td>3.0</td>\n",
       "      <td>1</td>\n",
       "      <td>6.0</td>\n",
       "      <td>3</td>\n",
       "      <td>4</td>\n",
       "      <td>3</td>\n",
       "      <td>5</td>\n",
       "      <td>5</td>\n",
       "      <td>3</td>\n",
       "      <td>4</td>\n",
       "      <td>...</td>\n",
       "      <td>NaN</td>\n",
       "      <td>NaN</td>\n",
       "      <td>NaN</td>\n",
       "      <td>NaN</td>\n",
       "      <td>NaN</td>\n",
       "      <td>NaN</td>\n",
       "      <td>NaN</td>\n",
       "      <td>NaN</td>\n",
       "      <td>NaN</td>\n",
       "      <td>NaN</td>\n",
       "    </tr>\n",
       "    <tr>\n",
       "      <th>17</th>\n",
       "      <td>2.0</td>\n",
       "      <td>1</td>\n",
       "      <td>6.0</td>\n",
       "      <td>3</td>\n",
       "      <td>4</td>\n",
       "      <td>3</td>\n",
       "      <td>5</td>\n",
       "      <td>5</td>\n",
       "      <td>3</td>\n",
       "      <td>4</td>\n",
       "      <td>...</td>\n",
       "      <td>NaN</td>\n",
       "      <td>NaN</td>\n",
       "      <td>NaN</td>\n",
       "      <td>NaN</td>\n",
       "      <td>NaN</td>\n",
       "      <td>NaN</td>\n",
       "      <td>NaN</td>\n",
       "      <td>NaN</td>\n",
       "      <td>NaN</td>\n",
       "      <td>NaN</td>\n",
       "    </tr>\n",
       "    <tr>\n",
       "      <th>24</th>\n",
       "      <td>3.0</td>\n",
       "      <td>2</td>\n",
       "      <td>6.0</td>\n",
       "      <td>3</td>\n",
       "      <td>4</td>\n",
       "      <td>3</td>\n",
       "      <td>5</td>\n",
       "      <td>5</td>\n",
       "      <td>3</td>\n",
       "      <td>4</td>\n",
       "      <td>...</td>\n",
       "      <td>NaN</td>\n",
       "      <td>NaN</td>\n",
       "      <td>NaN</td>\n",
       "      <td>NaN</td>\n",
       "      <td>NaN</td>\n",
       "      <td>NaN</td>\n",
       "      <td>NaN</td>\n",
       "      <td>NaN</td>\n",
       "      <td>NaN</td>\n",
       "      <td>NaN</td>\n",
       "    </tr>\n",
       "    <tr>\n",
       "      <th>48</th>\n",
       "      <td>3.0</td>\n",
       "      <td>2</td>\n",
       "      <td>6.0</td>\n",
       "      <td>3</td>\n",
       "      <td>4</td>\n",
       "      <td>3</td>\n",
       "      <td>5</td>\n",
       "      <td>5</td>\n",
       "      <td>3</td>\n",
       "      <td>4</td>\n",
       "      <td>...</td>\n",
       "      <td>NaN</td>\n",
       "      <td>NaN</td>\n",
       "      <td>NaN</td>\n",
       "      <td>NaN</td>\n",
       "      <td>NaN</td>\n",
       "      <td>NaN</td>\n",
       "      <td>NaN</td>\n",
       "      <td>NaN</td>\n",
       "      <td>NaN</td>\n",
       "      <td>NaN</td>\n",
       "    </tr>\n",
       "  </tbody>\n",
       "</table>\n",
       "<p>5 rows × 67 columns</p>\n",
       "</div>"
      ],
      "text/plain": [
       "    ALTERSKATEGORIE_GROB  ANREDE_KZ  CJT_GESAMTTYP  FINANZ_MINIMALIST  \\\n",
       "11                   2.0          1            6.0                  3   \n",
       "14                   3.0          1            6.0                  3   \n",
       "17                   2.0          1            6.0                  3   \n",
       "24                   3.0          2            6.0                  3   \n",
       "48                   3.0          2            6.0                  3   \n",
       "\n",
       "    FINANZ_SPARER  FINANZ_VORSORGER  FINANZ_ANLEGER  FINANZ_UNAUFFAELLIGER  \\\n",
       "11              4                 3               5                      5   \n",
       "14              4                 3               5                      5   \n",
       "17              4                 3               5                      5   \n",
       "24              4                 3               5                      5   \n",
       "48              4                 3               5                      5   \n",
       "\n",
       "    FINANZ_HAUSBAUER  FINANZTYP    ...     REGIOTYP  KBA13_ANZAHL_PKW  \\\n",
       "11                 3          4    ...          NaN               NaN   \n",
       "14                 3          4    ...          NaN               NaN   \n",
       "17                 3          4    ...          NaN               NaN   \n",
       "24                 3          4    ...          NaN               NaN   \n",
       "48                 3          4    ...          NaN               NaN   \n",
       "\n",
       "    PLZ8_ANTG1  PLZ8_ANTG2  PLZ8_BAUMAX  PLZ8_HHZ  PLZ8_GBZ  ARBEIT  \\\n",
       "11         NaN         NaN          NaN       NaN       NaN     NaN   \n",
       "14         NaN         NaN          NaN       NaN       NaN     NaN   \n",
       "17         NaN         NaN          NaN       NaN       NaN     NaN   \n",
       "24         NaN         NaN          NaN       NaN       NaN     NaN   \n",
       "48         NaN         NaN          NaN       NaN       NaN     NaN   \n",
       "\n",
       "    ORTSGR_KLS9  RELAT_AB  \n",
       "11          NaN       NaN  \n",
       "14          NaN       NaN  \n",
       "17          NaN       NaN  \n",
       "24          NaN       NaN  \n",
       "48          NaN       NaN  \n",
       "\n",
       "[5 rows x 67 columns]"
      ]
     },
     "execution_count": 28,
     "metadata": {},
     "output_type": "execute_result"
    }
   ],
   "source": [
    "missing_values_df=reduced_azdias.loc[np.where(y_red == 36)]\n",
    "\n",
    "missing_values_df.head()"
   ]
  },
  {
   "cell_type": "markdown",
   "metadata": {},
   "source": [
    "#### Discussion 1.1.3: Assess Missing Data in Each Row\n",
    "\n",
    "see next cell"
   ]
  },
  {
   "cell_type": "markdown",
   "metadata": {},
   "source": [
    "# conclusion\n",
    "it appears that there are some points with unkwown geographical information (REGIOTYP missing and related features).\n",
    "The same data points were probably responsible for the spike in number of data points with 56 missing features (down to 36 when age-related and other columns were removed).\n",
    "\n",
    "I would keep this points for general analysis and remove them for analysis in which the location is important. \n",
    "\n",
    "NOTE: I dropped exactly 18 columns from the first dataframe and 54-36=18 is exactly the decrease in number of features missing.\n",
    "In othr words, 18 features were missing from many data points in the dataframe and 36 features are missing in a portion of the data points, probably due to way the data were collected."
   ]
  },
  {
   "cell_type": "markdown",
   "metadata": {},
   "source": [
    "### Step 1.2: Select and Re-Encode Features\n",
    "\n",
    "Checking for missing data isn't the only way in which you can prepare a dataset for analysis. Since the unsupervised learning techniques to be used will only work on data that is encoded numerically, you need to make a few encoding changes or additional assumptions to be able to make progress. In addition, while almost all of the values in the dataset are encoded using numbers, not all of them represent numeric values. Check the third column of the feature summary (`feat_info`) for a summary of types of measurement.\n",
    "- For numeric and interval data, these features can be kept without changes.\n",
    "- Most of the variables in the dataset are ordinal in nature. While ordinal values may technically be non-linear in spacing, make the simplifying assumption that the ordinal variables can be treated as being interval in nature (that is, kept without any changes).\n",
    "- Special handling may be necessary for the remaining two variable types: categorical, and 'mixed'.\n",
    "\n",
    "In the first two parts of this sub-step, you will perform an investigation of the categorical and mixed-type features and make a decision on each of them, whether you will keep, drop, or re-encode each. Then, in the last part, you will create a new data frame with only the selected and engineered columns.\n",
    "\n",
    "Data wrangling is often the trickiest part of the data analysis process, and there's a lot of it to be done here. But stick with it: once you're done with this step, you'll be ready to get to the machine learning parts of the project!"
   ]
  },
  {
   "cell_type": "code",
   "execution_count": 29,
   "metadata": {},
   "outputs": [
    {
     "name": "stdout",
     "output_type": "stream",
     "text": [
      "categorical features: 21, ordinal features: 49, mixed features: 7, numerical features: 7\n"
     ]
    }
   ],
   "source": [
    "# How many features are there of each data type?\n",
    "#print(feat_info.head())\n",
    "#print(feat_info.head(5))\n",
    "\n",
    "cat=np.where(feat_info['type']== 'categorical')\n",
    "ordinal=np.where(feat_info['type']== 'ordinal')\n",
    "mix=np.where(feat_info['type']== 'mixed')\n",
    "num=np.where(feat_info['type']== 'numeric')\n",
    "\n",
    "\n",
    "\n",
    "categorical_features=feat_info.iloc[cat]['attribute']\n",
    "ordinal_features=feat_info.iloc[ordinal]['attribute']\n",
    "mixed_features=feat_info.iloc[mix]['attribute']\n",
    "numerical_features= feat_info.iloc[num]['attribute']\n",
    "\n",
    "print (\"categorical features: {}, ordinal features: {}, mixed features: {}, numerical features: {}\".format(len(categorical_features),\n",
    "                                                                                                           len(ordinal_features),\n",
    "                                                                                                           len(mixed_features),\n",
    "                                                                                                           len(numerical_features) ))\n"
   ]
  },
  {
   "cell_type": "markdown",
   "metadata": {},
   "source": [
    "#### Step 1.2.1: Re-Encode Categorical Features\n",
    "\n",
    "For categorical data, you would ordinarily need to encode the levels as dummy variables. Depending on the number of categories, perform one of the following:\n",
    "- For binary (two-level) categoricals that take numeric values, you can keep them without needing to do anything.\n",
    "- There is one binary variable that takes on non-numeric values. For this one, you need to re-encode the values as numbers or create a dummy variable.\n",
    "- For multi-level categoricals (three or more values), you can choose to encode the values using multiple dummy variables (e.g. via [OneHotEncoder](http://scikit-learn.org/stable/modules/generated/sklearn.preprocessing.OneHotEncoder.html)), or (to keep things straightforward) just drop them from the analysis. As always, document your choices in the Discussion section."
   ]
  },
  {
   "cell_type": "markdown",
   "metadata": {
    "scrolled": true
   },
   "source": [
    " #### Assess categorical variables: which are binary, which are multi-level, and\n",
    " ####  which one needs to be re-encoded?\n",
    "\n",
    "By consulting the data_dictionary it emerged that the following categorical features are binary: \n",
    "- ANREDE_KZ\n",
    "- GREEN_AVANTGARDE\n",
    "- SOHO_KZ\n",
    "- VERS_TYP\n",
    "- OST_WEST_KZ (***non-numerical***)\n",
    "\n",
    "Some of them are above the threshold which I have used to drop features with too many missing values, I will create a new list of the categorical features which I have kept, and then use getdummies to encode all of them.\n"
   ]
  },
  {
   "cell_type": "code",
   "execution_count": 30,
   "metadata": {},
   "outputs": [
    {
     "data": {
      "text/plain": [
       "0             AGER_TYP\n",
       "2            ANREDE_KZ\n",
       "3        CJT_GESAMTTYP\n",
       "10           FINANZTYP\n",
       "12     GFK_URLAUBERTYP\n",
       "13    GREEN_AVANTGARDE\n",
       "17     LP_FAMILIE_FEIN\n",
       "18     LP_FAMILIE_GROB\n",
       "19      LP_STATUS_FEIN\n",
       "20      LP_STATUS_GROB\n",
       "21    NATIONALITAET_KZ\n",
       "38         SHOPPER_TYP\n",
       "39             SOHO_KZ\n",
       "40            TITEL_KZ\n",
       "41            VERS_TYP\n",
       "42            ZABEOTYP\n",
       "47        KK_KUNDENTYP\n",
       "52         GEBAEUDETYP\n",
       "55         OST_WEST_KZ\n",
       "57     CAMEO_DEUG_2015\n",
       "58      CAMEO_DEU_2015\n",
       "Name: attribute, dtype: object"
      ]
     },
     "execution_count": 30,
     "metadata": {},
     "output_type": "execute_result"
    }
   ],
   "source": [
    "categorical_features"
   ]
  },
  {
   "cell_type": "code",
   "execution_count": 31,
   "metadata": {},
   "outputs": [],
   "source": [
    "# Re-encode categorical variable(s) to be kept in the analysis.\n",
    "\n",
    "categorical_features_reduced=categorical_features.drop([0,13,38,39,40,47])\n",
    "\n",
    "reduced_encoded_azdias=pd.get_dummies(reduced_azdias, columns=categorical_features_reduced )\n",
    "\n",
    "## reduced_encoded_azdias['OST_WEST_KZ_W'] #checking that the encoding process worked. "
   ]
  },
  {
   "cell_type": "markdown",
   "metadata": {},
   "source": [
    "#### Discussion 1.2.1: Re-Encode Categorical Features\n",
    "\n",
    "I decided to keep all the categorical features that were below the threshold that I have used earlier to create a new dataframe with less missing values. \n",
    "In order to encode them all, I have used getdummies which allow to easily select the columns to encode. "
   ]
  },
  {
   "cell_type": "markdown",
   "metadata": {},
   "source": [
    "#### Step 1.2.2: Engineer Mixed-Type Features\n",
    "\n",
    "There are a handful of features that are marked as \"mixed\" in the feature summary that require special treatment in order to be included in the analysis. There are two in particular that deserve attention; the handling of the rest are up to your own choices:\n",
    "- \"PRAEGENDE_JUGENDJAHRE\" combines information on three dimensions: generation by decade, movement (mainstream vs. avantgarde), and nation (east vs. west). While there aren't enough levels to disentangle east from west, you should create two new variables to capture the other two dimensions: an interval-type variable for decade, and a binary variable for movement.\n",
    "- \"CAMEO_INTL_2015\" combines information on two axes: wealth and life stage. Break up the two-digit codes by their 'tens'-place and 'ones'-place digits into two new ordinal variables (which, for the purposes of this project, is equivalent to just treating them as their raw numeric values).\n",
    "- If you decide to keep or engineer new features around the other mixed-type features, make sure you note your steps in the Discussion section.\n",
    "\n",
    "Be sure to check `Data_Dictionary.md` for the details needed to finish these tasks."
   ]
  },
  {
   "cell_type": "markdown",
   "metadata": {},
   "source": [
    "### 1.18. PRAEGENDE_JUGENDJAHRE\n",
    "Dominating movement of person's youth (avantgarde vs. mainstream; east vs. west)\n",
    "- -1: unknown\n",
    "-  0: unknown\n",
    "-  1: 40s - war years (Mainstream, E+W)\n",
    "-  2: 40s - reconstruction years (Avantgarde, E+W)\n",
    "-  3: 50s - economic miracle (Mainstream, E+W)\n",
    "-  4: 50s - milk bar / Individualisation (Avantgarde, E+W)\n",
    "-  5: 60s - economic miracle (Mainstream, E+W)\n",
    "-  6: 60s - generation 68 / student protestors (Avantgarde, W)\n",
    "-  7: 60s - opponents to the building of the Wall (Avantgarde, E)\n",
    "-  8: 70s - family orientation (Mainstream, E+W)\n",
    "-  9: 70s - peace movement (Avantgarde, E+W)\n",
    "- 10: 80s - Generation Golf (Mainstream, W)\n",
    "- 11: 80s - ecological awareness (Avantgarde, W)\n",
    "- 12: 80s - FDJ / communist party youth organisation (Mainstream, E)\n",
    "- 13: 80s - Swords into ploughshares (Avantgarde, E)\n",
    "- 14: 90s - digital media kids (Mainstream, E+W)\n",
    "- 15: 90s - ecological awareness (Avantgarde, E+W)\n",
    "\n",
    "Mainstream values= [1,3,5,8,10,12,14]\n",
    "Avantgarde values=[2,4,6,7,9,11,13,15]"
   ]
  },
  {
   "cell_type": "code",
   "execution_count": 32,
   "metadata": {},
   "outputs": [],
   "source": [
    "# Investigate \"PRAEGENDE_JUGENDJAHRE\" and engineer two new variables.\n",
    "\n",
    "# i will create two new columns \"PRAEGENDE_JUGENDJAHRE_40_60s\" and \"PRAEGENDE_JUGENDJAHRE_70_90s\"\n",
    "\n",
    "reduced_encoded_azdias['PRAEGENDE_JUGENDJAHRE_40_60s']=reduced_encoded_azdias[\"PRAEGENDE_JUGENDJAHRE\"][reduced_encoded_azdias[\"PRAEGENDE_JUGENDJAHRE\"] < 8]\n",
    "reduced_encoded_azdias['PRAEGENDE_JUGENDJAHRE_70_90s']=reduced_encoded_azdias[\"PRAEGENDE_JUGENDJAHRE\"][reduced_encoded_azdias[\"PRAEGENDE_JUGENDJAHRE\"] >= 8]\n",
    "\n"
   ]
  },
  {
   "cell_type": "code",
   "execution_count": 33,
   "metadata": {},
   "outputs": [],
   "source": [
    "# I need now to turn the two new columns into binary variables: Avantgarde(1)/Mainstream(0):\n",
    "\n",
    "reduced_encoded_azdias['PRAEGENDE_JUGENDJAHRE_40_60s']=reduced_encoded_azdias['PRAEGENDE_JUGENDJAHRE_40_60s'].replace({1:0,2:1,3:0,4:1,5:0,6:1,7:1})\n",
    "reduced_encoded_azdias['PRAEGENDE_JUGENDJAHRE_70_90s']=reduced_encoded_azdias['PRAEGENDE_JUGENDJAHRE_70_90s'].replace({8:0,9:1,10:0,11:1,12:0,13:1,14:0,15:1})"
   ]
  },
  {
   "cell_type": "code",
   "execution_count": 34,
   "metadata": {},
   "outputs": [
    {
     "name": "stdout",
     "output_type": "stream",
     "text": [
      "0    NaN\n",
      "1    NaN\n",
      "2    NaN\n",
      "3    NaN\n",
      "4    NaN\n",
      "5    0.0\n",
      "6    NaN\n",
      "7    NaN\n",
      "8    NaN\n",
      "9    NaN\n",
      "Name: PRAEGENDE_JUGENDJAHRE_40_60s, dtype: float64\n",
      "0    NaN\n",
      "1    0.0\n",
      "2    1.0\n",
      "3    0.0\n",
      "4    0.0\n",
      "5    NaN\n",
      "6    0.0\n",
      "7    0.0\n",
      "8    1.0\n",
      "9    1.0\n",
      "Name: PRAEGENDE_JUGENDJAHRE_70_90s, dtype: float64\n"
     ]
    }
   ],
   "source": [
    "'''testing if it worked: '''\n",
    "\n",
    "\n",
    "\n",
    "\n",
    "print(reduced_encoded_azdias['PRAEGENDE_JUGENDJAHRE_40_60s'].head(10))\n",
    "print(reduced_encoded_azdias['PRAEGENDE_JUGENDJAHRE_70_90s'].head(10))\n",
    "\n",
    "reduced_encoded_azdias=reduced_encoded_azdias.drop(columns='PRAEGENDE_JUGENDJAHRE')"
   ]
  },
  {
   "cell_type": "markdown",
   "metadata": {},
   "source": [
    "# Investigate \"CAMEO_INTL_2015\" and engineer two new variables.\n",
    "\n",
    "### 4.3. CAMEO_INTL_2015\n",
    "German CAMEO: Wealth / Life Stage Typology, mapped to international code\n",
    "- -1: unknown\n",
    "- 11: Wealthy Households - Pre-Family Couples & Singles\n",
    "- 12: Wealthy Households - Young Couples With Children\n",
    "- 13: Wealthy Households - Families With School Age Children\n",
    "- 14: Wealthy Households - Older Families &  Mature Couples\n",
    "- 15: Wealthy Households - Elders In Retirement\n",
    "- 21: Prosperous Households - Pre-Family Couples & Singles\n",
    "- 22: Prosperous Households - Young Couples With Children\n",
    "- 23: Prosperous Households - Families With School Age Children\n",
    "- 24: Prosperous Households - Older Families & Mature Couples\n",
    "- 25: Prosperous Households - Elders In Retirement\n",
    "- 31: Comfortable Households - Pre-Family Couples & Singles\n",
    "- 32: Comfortable Households - Young Couples With Children\n",
    "- 33: Comfortable Households - Families With School Age Children\n",
    "- 34: Comfortable Households - Older Families & Mature Couples\n",
    "- 35: Comfortable Households - Elders In Retirement\n",
    "- 41: Less Affluent Households - Pre-Family Couples & Singles\n",
    "- 42: Less Affluent Households - Young Couples With Children\n",
    "- 43: Less Affluent Households - Families With School Age Children\n",
    "- 44: Less Affluent Households - Older Families & Mature Couples\n",
    "- 45: Less Affluent Households - Elders In Retirement\n",
    "- 51: Poorer Households - Pre-Family Couples & Singles\n",
    "- 52: Poorer Households - Young Couples With Children\n",
    "- 53: Poorer Households - Families With School Age Children\n",
    "- 54: Poorer Households - Older Families & Mature Couples\n",
    "- 55: Poorer Households - Elders In Retirement\n",
    "- XX: unknown\n",
    "\n",
    "\n",
    "\n",
    "### 1Y-5Y indicates and increasing wealth, and X1-X5 indicates later stages in life"
   ]
  },
  {
   "cell_type": "code",
   "execution_count": 35,
   "metadata": {},
   "outputs": [],
   "source": [
    "reduced_encoded_azdias[\"cameo_household_wealth\"]=reduced_encoded_azdias[\"CAMEO_INTL_2015\"].replace({'11':1,'12':1,'13':1,'14':1,'15':1,\n",
    "                                                                                              '21':2,'22':2,'23':2,'24':2,'25':2,\n",
    "                                                                                              '31':3,'32':3,'33':3,'34':3,'35':3,\n",
    "                                                                                              '41':4,'42':4,'43':4,'44':4,'45':4,\n",
    "                                                                                              '51':5,'52':5,'53':5,'54':5,'55':5})\n",
    "\n",
    "reduced_encoded_azdias[\"cameo_household_life_stage\"]=reduced_encoded_azdias[\"CAMEO_INTL_2015\"].replace({'11':1,'12':2,'13':3,'14':4,'15':5,\n",
    "                                                                                              '21':1,'22':2,'23':3,'24':4,'25':5,\n",
    "                                                                                              '31':1,'32':2,'33':3,'34':4,'35':5,\n",
    "                                                                                              '41':1,'42':2,'43':3,'44':4,'45':5,\n",
    "                                                                                              '51':1,'52':2,'53':3,'54':4,'55':5})\n",
    "\n"
   ]
  },
  {
   "cell_type": "code",
   "execution_count": 36,
   "metadata": {},
   "outputs": [
    {
     "name": "stdout",
     "output_type": "stream",
     "text": [
      "0    NaN\n",
      "1    5.0\n",
      "2    2.0\n",
      "3    1.0\n",
      "4    4.0\n",
      "5    5.0\n",
      "6    2.0\n",
      "7    1.0\n",
      "8    1.0\n",
      "9    1.0\n",
      "Name: cameo_household_wealth, dtype: float64\n",
      "0    NaN\n",
      "1    1.0\n",
      "2    4.0\n",
      "3    2.0\n",
      "4    3.0\n",
      "5    4.0\n",
      "6    2.0\n",
      "7    4.0\n",
      "8    3.0\n",
      "9    5.0\n",
      "Name: cameo_household_life_stage, dtype: float64\n"
     ]
    }
   ],
   "source": [
    "print(reduced_encoded_azdias[\"cameo_household_wealth\"].head(10))\n",
    "print(reduced_encoded_azdias[\"cameo_household_life_stage\"].head(10))\n",
    "\n",
    "reduced_encoded_azdias= reduced_encoded_azdias.drop(columns=\"CAMEO_INTL_2015\")\n",
    "\n"
   ]
  },
  {
   "cell_type": "markdown",
   "metadata": {},
   "source": [
    "#### Discussion 1.2.2: Engineer Mixed-Type Features\n",
    "\n",
    "I kept both mixed features. \n",
    "\n",
    "I ***split*** the column PRAEGENDE_JUGENDJAHRE into two columns and ***dropped the original one*** from the final DF. \n",
    "Each column represents a specific period of time in which the person was young, and each data point is either 0 or 1 according to which was the dominant movement in that person´s youth (either mainstream: 0 or avantgarde:1) .\n",
    "the missing values resulting from the split of the original column are filled with NaNs, I will check later if that is a problem.\n",
    "\n",
    "I ***duplicated*** the column CAMEO_INTL_2015 and then ***dropped the original one***.\n",
    "In the new two resulting columns I assigned a value going from 1-5 for each person with the following meanings: \n",
    "\n",
    "column cameo_household_wealth:\n",
    "- 1 wealthy\n",
    "- ...\n",
    "- ...\n",
    "- 5 poorer\n",
    "\n",
    "column cameo_household_life_stage:\n",
    "\n",
    "- 1 pre-family couples and singles\n",
    "- ...\n",
    "- ...\n",
    "- 5 Elders In Retirement\n",
    "\n",
    "### SUMMARY:\n",
    " \n",
    " The resulting dataframe (reduced_encoded_azdias) is the product of the following steps: \n",
    " \n",
    " \n",
    " \n",
    "1. I replaced all the flags indicating missing values with NaNs. The resulting dataframe has been saved as **azdias_nan.**\n",
    "2. I indentified the column with more than 200k missing values and dropped them. The resulting dataframe is: **reduced_azdias**\n",
    "3. I encoded categorical features. the resulting dataframe has been saved as : **reduced_encoded_azdias**\n",
    "4. I engineered and encoded mixed features and kept the same name for the dataframe. \n",
    "\n",
    "It is important to notice and remember that I also identified a group **rows** with unusually large numbers of NaNs, I will removed those rows later in the analysis if necessary. "
   ]
  },
  {
   "cell_type": "markdown",
   "metadata": {},
   "source": [
    "#### Step 1.2.3: Complete Feature Selection\n",
    "\n",
    "In order to finish this step up, you need to make sure that your data frame now only has the columns that you want to keep. To summarize, the dataframe should consist of the following:\n",
    "- All numeric, interval, and ordinal type columns from the original dataset.\n",
    "- Binary categorical features (all numerically-encoded).\n",
    "- Engineered features from other multi-level categorical features and mixed features.\n",
    "\n",
    "Make sure that for any new columns that you have engineered, that you've excluded the original columns from the final dataset. Otherwise, their values will interfere with the analysis later on the project. For example, you should not keep \"PRAEGENDE_JUGENDJAHRE\", since its values won't be useful for the algorithm: only the values derived from it in the engineered features you created should be retained. As a reminder, your data should only be from **the subset with few or no missing values**."
   ]
  },
  {
   "cell_type": "code",
   "execution_count": 37,
   "metadata": {},
   "outputs": [],
   "source": [
    "# If there are other re-engineering tasks you need to perform, make sure you\n",
    "# take care of them here. (Dealing with missing data will come in step 2.1.)\n",
    "\n"
   ]
  },
  {
   "cell_type": "code",
   "execution_count": 38,
   "metadata": {},
   "outputs": [],
   "source": [
    "# Do whatever you need to in order to ensure that the dataframe only contains\n",
    "# the columns that should be passed to the algorithm functions.\n",
    "\n"
   ]
  },
  {
   "cell_type": "markdown",
   "metadata": {},
   "source": [
    "### Step 1.3: Create a Cleaning Function\n",
    "\n",
    "Even though you've finished cleaning up the general population demographics data, it's important to look ahead to the future and realize that you'll need to perform the same cleaning steps on the customer demographics data. In this substep, complete the function below to execute the main feature selection, encoding, and re-engineering steps you performed above. Then, when it comes to looking at the customer data in Step 3, you can just run this function on that DataFrame to get the trimmed dataset in a single step."
   ]
  },
  {
   "cell_type": "code",
   "execution_count": 39,
   "metadata": {},
   "outputs": [],
   "source": [
    "def clean_data(df):\n",
    "    \"\"\"\n",
    "    Perform feature trimming, re-encoding, and engineering for demographics\n",
    "    data\n",
    "    \n",
    "    INPUT: Demographics DataFrame\n",
    "    OUTPUT: Trimmed and cleaned demographics DataFrame\n",
    "    \"\"\"\n",
    "    #print(df.head(3))\n",
    "    \n",
    "    # Put in code here to execute all main cleaning steps:\n",
    "    # convert missing value codes into NaNs, ...\n",
    "    flags_list=[0,-1,9,'X','XX', None]\n",
    "    \n",
    "    df_nan=df.replace(to_replace=flags_list, value=np.nan)\n",
    "    #print(df_nan.head(3))\n",
    "    \n",
    "    # remove selected columns and rows, ...\n",
    "    \n",
    "    '''missing_series= df_nan.isnull().sum()'''\n",
    "    # I wanted to use the code above to find the columns to remove\n",
    "    # But I need the same columns later in the project to be removed\n",
    "    # In order to be able to apply clustering to the customers df \n",
    "    \n",
    "    \n",
    "    \n",
    "    '''outliers_list=list(missing_series[missing_series>80000].index)'''\n",
    "    # I wanted to use the code above to find the columns to remove\n",
    "    # But I need the same columns later in the project to be removed\n",
    "    # In order to be able to apply clustering to the customers df \n",
    "    \n",
    "    \n",
    "    \n",
    "    #print(\"outliers:\",outliers_list)\n",
    "    \n",
    "    # select, re-encode, and engineer column values.\n",
    "    \n",
    "    reduced_df= df_nan.drop(columns=outliers_list)\n",
    "    \n",
    "    reduced_encoded_df=pd.get_dummies(reduced_df, columns= categorical_features_reduced )\n",
    "    \n",
    "    \n",
    "    reduced_encoded_df[\"cameo_household_wealth\"]=reduced_encoded_df[\"CAMEO_INTL_2015\"].replace({'11':1,'12':1,'13':1,'14':1,'15':1,\n",
    "                                                                                              '21':2,'22':2,'23':2,'24':2,'25':2,\n",
    "                                                                                              '31':3,'32':3,'33':3,'34':3,'35':3,\n",
    "                                                                                              '41':4,'42':4,'43':4,'44':4,'45':4,\n",
    "                                                                                              '51':5,'52':5,'53':5,'54':5,'55':5})\n",
    "\n",
    "    reduced_encoded_df[\"cameo_household_life_stage\"]=reduced_encoded_df[\"CAMEO_INTL_2015\"].replace({'11':1,'12':2,'13':3,'14':4,'15':5,\n",
    "                                                                                              '21':1,'22':2,'23':3,'24':4,'25':5,\n",
    "                                                                                              '31':1,'32':2,'33':3,'34':4,'35':5,\n",
    "                                                                                              '41':1,'42':2,'43':3,'44':4,'45':5,\n",
    "                                                                                              '51':1,'52':2,'53':3,'54':4,'55':5})\n",
    "    reduced_encoded_df= reduced_encoded_df.drop(columns=\"CAMEO_INTL_2015\")\n",
    "    \n",
    "    reduced_encoded_df['PRAEGENDE_JUGENDJAHRE_40_60s']=reduced_encoded_df[\"PRAEGENDE_JUGENDJAHRE\"][reduced_encoded_df[\"PRAEGENDE_JUGENDJAHRE\"] < 8]\n",
    "    reduced_encoded_df['PRAEGENDE_JUGENDJAHRE_70_90s']=reduced_encoded_df[\"PRAEGENDE_JUGENDJAHRE\"][reduced_encoded_df[\"PRAEGENDE_JUGENDJAHRE\"] >= 8]\n",
    "    reduced_encoded_df['PRAEGENDE_JUGENDJAHRE_40_60s']=reduced_encoded_df['PRAEGENDE_JUGENDJAHRE_40_60s'].replace({1:0,2:1,3:0,4:1,5:0,6:1,7:1})\n",
    "    reduced_encoded_df['PRAEGENDE_JUGENDJAHRE_70_90s']=reduced_encoded_df['PRAEGENDE_JUGENDJAHRE_70_90s'].replace({8:0,9:1,10:0,11:1,12:0,13:1,14:0,15:1})\n",
    "    \n",
    "    reduced_encoded_df= reduced_encoded_df.drop(columns=\"PRAEGENDE_JUGENDJAHRE\")\n",
    "    \n",
    "    # Return the cleaned dataframe.\n",
    "    \n",
    "    return reduced_encoded_df"
   ]
  },
  {
   "cell_type": "code",
   "execution_count": 40,
   "metadata": {
    "scrolled": false
   },
   "outputs": [],
   "source": [
    "## clean_data(customers_df)"
   ]
  },
  {
   "cell_type": "markdown",
   "metadata": {},
   "source": [
    "## Step 2: Feature Transformation\n",
    "\n",
    "### Step 2.1: Apply Feature Scaling\n",
    "\n",
    "Before we apply dimensionality reduction techniques to the data, we need to perform feature scaling so that the principal component vectors are not influenced by the natural differences in scale for features. Starting from this part of the project, you'll want to keep an eye on the [API reference page for sklearn](http://scikit-learn.org/stable/modules/classes.html) to help you navigate to all of the classes and functions that you'll need. In this substep, you'll need to check the following:\n",
    "\n",
    "- sklearn requires that data not have missing values in order for its estimators to work properly. So, before applying the scaler to your data, make sure that you've cleaned the DataFrame of the remaining missing values. This can be as simple as just removing all data points with missing data, or applying an [Imputer](http://scikit-learn.org/stable/modules/generated/sklearn.preprocessing.Imputer.html) to replace all missing values. You might also try a more complicated procedure where you temporarily remove missing values in order to compute the scaling parameters before re-introducing those missing values and applying imputation. Think about how much missing data you have and what possible effects each approach might have on your analysis, and justify your decision in the discussion section below.\n",
    "- For the actual scaling function, a [StandardScaler](http://scikit-learn.org/stable/modules/generated/sklearn.preprocessing.StandardScaler.html) instance is suggested, scaling each feature to mean 0 and standard deviation 1.\n",
    "- For these classes, you can make use of the `.fit_transform()` method to both fit a procedure to the data as well as apply the transformation to the data at the same time. Don't forget to keep the fit sklearn objects handy, since you'll be applying them to the customer demographics data towards the end of the project."
   ]
  },
  {
   "cell_type": "code",
   "execution_count": 41,
   "metadata": {},
   "outputs": [],
   "source": [
    "# If you've not yet cleaned the dataset of all NaN values, then investigate and\n",
    "# do that now.\n",
    "''' To deal with the NaNs still present in the Dataframe I decided to use an immputer\n",
    "and replace NaNs witht the mean along each column'''\n",
    "\n",
    "imputer=Imputer()   #default is by column and mean!\n",
    "imputed_azdias= pd.DataFrame(imputer.fit_transform(reduced_encoded_azdias))\n",
    "\n",
    "##=reduced_encoded_azdias.drop(columns=['PRAEGENDE_JUGENDJAHRE_40_60s','PRAEGENDE_JUGENDJAHRE_70_90s'])"
   ]
  },
  {
   "cell_type": "code",
   "execution_count": 42,
   "metadata": {},
   "outputs": [],
   "source": [
    "imputed_azdias.columns= reduced_encoded_azdias.columns"
   ]
  },
  {
   "cell_type": "code",
   "execution_count": 43,
   "metadata": {},
   "outputs": [
    {
     "data": {
      "text/html": [
       "<div>\n",
       "<style scoped>\n",
       "    .dataframe tbody tr th:only-of-type {\n",
       "        vertical-align: middle;\n",
       "    }\n",
       "\n",
       "    .dataframe tbody tr th {\n",
       "        vertical-align: top;\n",
       "    }\n",
       "\n",
       "    .dataframe thead th {\n",
       "        text-align: right;\n",
       "    }\n",
       "</style>\n",
       "<table border=\"1\" class=\"dataframe\">\n",
       "  <thead>\n",
       "    <tr style=\"text-align: right;\">\n",
       "      <th></th>\n",
       "      <th>ALTERSKATEGORIE_GROB</th>\n",
       "      <th>FINANZ_MINIMALIST</th>\n",
       "      <th>FINANZ_SPARER</th>\n",
       "      <th>FINANZ_VORSORGER</th>\n",
       "      <th>FINANZ_ANLEGER</th>\n",
       "      <th>FINANZ_UNAUFFAELLIGER</th>\n",
       "      <th>FINANZ_HAUSBAUER</th>\n",
       "      <th>HEALTH_TYP</th>\n",
       "      <th>LP_LEBENSPHASE_FEIN</th>\n",
       "      <th>LP_LEBENSPHASE_GROB</th>\n",
       "      <th>...</th>\n",
       "      <th>CAMEO_DEU_2015_8D</th>\n",
       "      <th>CAMEO_DEU_2015_9A</th>\n",
       "      <th>CAMEO_DEU_2015_9B</th>\n",
       "      <th>CAMEO_DEU_2015_9C</th>\n",
       "      <th>CAMEO_DEU_2015_9D</th>\n",
       "      <th>CAMEO_DEU_2015_9E</th>\n",
       "      <th>PRAEGENDE_JUGENDJAHRE_40_60s</th>\n",
       "      <th>PRAEGENDE_JUGENDJAHRE_70_90s</th>\n",
       "      <th>cameo_household_wealth</th>\n",
       "      <th>cameo_household_life_stage</th>\n",
       "    </tr>\n",
       "  </thead>\n",
       "  <tbody>\n",
       "    <tr>\n",
       "      <th>0</th>\n",
       "      <td>2.0</td>\n",
       "      <td>3.0</td>\n",
       "      <td>4.0</td>\n",
       "      <td>3.0</td>\n",
       "      <td>5.0</td>\n",
       "      <td>5.0</td>\n",
       "      <td>3.0</td>\n",
       "      <td>2.190129</td>\n",
       "      <td>15.000000</td>\n",
       "      <td>4.00000</td>\n",
       "      <td>...</td>\n",
       "      <td>0.0</td>\n",
       "      <td>0.0</td>\n",
       "      <td>0.0</td>\n",
       "      <td>0.0</td>\n",
       "      <td>0.0</td>\n",
       "      <td>0.0</td>\n",
       "      <td>0.261206</td>\n",
       "      <td>0.158909</td>\n",
       "      <td>3.262098</td>\n",
       "      <td>2.873033</td>\n",
       "    </tr>\n",
       "    <tr>\n",
       "      <th>1</th>\n",
       "      <td>1.0</td>\n",
       "      <td>1.0</td>\n",
       "      <td>5.0</td>\n",
       "      <td>2.0</td>\n",
       "      <td>5.0</td>\n",
       "      <td>4.0</td>\n",
       "      <td>5.0</td>\n",
       "      <td>3.000000</td>\n",
       "      <td>21.000000</td>\n",
       "      <td>6.00000</td>\n",
       "      <td>...</td>\n",
       "      <td>0.0</td>\n",
       "      <td>0.0</td>\n",
       "      <td>0.0</td>\n",
       "      <td>0.0</td>\n",
       "      <td>0.0</td>\n",
       "      <td>0.0</td>\n",
       "      <td>0.261206</td>\n",
       "      <td>0.000000</td>\n",
       "      <td>5.000000</td>\n",
       "      <td>1.000000</td>\n",
       "    </tr>\n",
       "    <tr>\n",
       "      <th>2</th>\n",
       "      <td>3.0</td>\n",
       "      <td>1.0</td>\n",
       "      <td>4.0</td>\n",
       "      <td>1.0</td>\n",
       "      <td>2.0</td>\n",
       "      <td>3.0</td>\n",
       "      <td>5.0</td>\n",
       "      <td>3.000000</td>\n",
       "      <td>3.000000</td>\n",
       "      <td>1.00000</td>\n",
       "      <td>...</td>\n",
       "      <td>0.0</td>\n",
       "      <td>0.0</td>\n",
       "      <td>0.0</td>\n",
       "      <td>0.0</td>\n",
       "      <td>0.0</td>\n",
       "      <td>0.0</td>\n",
       "      <td>0.261206</td>\n",
       "      <td>1.000000</td>\n",
       "      <td>2.000000</td>\n",
       "      <td>4.000000</td>\n",
       "    </tr>\n",
       "    <tr>\n",
       "      <th>3</th>\n",
       "      <td>4.0</td>\n",
       "      <td>4.0</td>\n",
       "      <td>2.0</td>\n",
       "      <td>5.0</td>\n",
       "      <td>2.0</td>\n",
       "      <td>1.0</td>\n",
       "      <td>2.0</td>\n",
       "      <td>2.000000</td>\n",
       "      <td>16.454901</td>\n",
       "      <td>4.69045</td>\n",
       "      <td>...</td>\n",
       "      <td>0.0</td>\n",
       "      <td>0.0</td>\n",
       "      <td>0.0</td>\n",
       "      <td>0.0</td>\n",
       "      <td>0.0</td>\n",
       "      <td>0.0</td>\n",
       "      <td>0.261206</td>\n",
       "      <td>0.000000</td>\n",
       "      <td>1.000000</td>\n",
       "      <td>2.000000</td>\n",
       "    </tr>\n",
       "    <tr>\n",
       "      <th>4</th>\n",
       "      <td>3.0</td>\n",
       "      <td>4.0</td>\n",
       "      <td>3.0</td>\n",
       "      <td>4.0</td>\n",
       "      <td>1.0</td>\n",
       "      <td>3.0</td>\n",
       "      <td>2.0</td>\n",
       "      <td>3.000000</td>\n",
       "      <td>32.000000</td>\n",
       "      <td>10.00000</td>\n",
       "      <td>...</td>\n",
       "      <td>0.0</td>\n",
       "      <td>0.0</td>\n",
       "      <td>0.0</td>\n",
       "      <td>0.0</td>\n",
       "      <td>0.0</td>\n",
       "      <td>0.0</td>\n",
       "      <td>0.261206</td>\n",
       "      <td>0.000000</td>\n",
       "      <td>4.000000</td>\n",
       "      <td>3.000000</td>\n",
       "    </tr>\n",
       "  </tbody>\n",
       "</table>\n",
       "<p>5 rows × 181 columns</p>\n",
       "</div>"
      ],
      "text/plain": [
       "   ALTERSKATEGORIE_GROB  FINANZ_MINIMALIST  FINANZ_SPARER  FINANZ_VORSORGER  \\\n",
       "0                   2.0                3.0            4.0               3.0   \n",
       "1                   1.0                1.0            5.0               2.0   \n",
       "2                   3.0                1.0            4.0               1.0   \n",
       "3                   4.0                4.0            2.0               5.0   \n",
       "4                   3.0                4.0            3.0               4.0   \n",
       "\n",
       "   FINANZ_ANLEGER  FINANZ_UNAUFFAELLIGER  FINANZ_HAUSBAUER  HEALTH_TYP  \\\n",
       "0             5.0                    5.0               3.0    2.190129   \n",
       "1             5.0                    4.0               5.0    3.000000   \n",
       "2             2.0                    3.0               5.0    3.000000   \n",
       "3             2.0                    1.0               2.0    2.000000   \n",
       "4             1.0                    3.0               2.0    3.000000   \n",
       "\n",
       "   LP_LEBENSPHASE_FEIN  LP_LEBENSPHASE_GROB             ...              \\\n",
       "0            15.000000              4.00000             ...               \n",
       "1            21.000000              6.00000             ...               \n",
       "2             3.000000              1.00000             ...               \n",
       "3            16.454901              4.69045             ...               \n",
       "4            32.000000             10.00000             ...               \n",
       "\n",
       "   CAMEO_DEU_2015_8D  CAMEO_DEU_2015_9A  CAMEO_DEU_2015_9B  CAMEO_DEU_2015_9C  \\\n",
       "0                0.0                0.0                0.0                0.0   \n",
       "1                0.0                0.0                0.0                0.0   \n",
       "2                0.0                0.0                0.0                0.0   \n",
       "3                0.0                0.0                0.0                0.0   \n",
       "4                0.0                0.0                0.0                0.0   \n",
       "\n",
       "   CAMEO_DEU_2015_9D  CAMEO_DEU_2015_9E  PRAEGENDE_JUGENDJAHRE_40_60s  \\\n",
       "0                0.0                0.0                      0.261206   \n",
       "1                0.0                0.0                      0.261206   \n",
       "2                0.0                0.0                      0.261206   \n",
       "3                0.0                0.0                      0.261206   \n",
       "4                0.0                0.0                      0.261206   \n",
       "\n",
       "   PRAEGENDE_JUGENDJAHRE_70_90s  cameo_household_wealth  \\\n",
       "0                      0.158909                3.262098   \n",
       "1                      0.000000                5.000000   \n",
       "2                      1.000000                2.000000   \n",
       "3                      0.000000                1.000000   \n",
       "4                      0.000000                4.000000   \n",
       "\n",
       "   cameo_household_life_stage  \n",
       "0                    2.873033  \n",
       "1                    1.000000  \n",
       "2                    4.000000  \n",
       "3                    2.000000  \n",
       "4                    3.000000  \n",
       "\n",
       "[5 rows x 181 columns]"
      ]
     },
     "execution_count": 43,
     "metadata": {},
     "output_type": "execute_result"
    }
   ],
   "source": [
    "imputed_azdias.head()"
   ]
  },
  {
   "cell_type": "code",
   "execution_count": 44,
   "metadata": {},
   "outputs": [
    {
     "data": {
      "text/plain": [
       "0    0.158909\n",
       "1    0.000000\n",
       "2    1.000000\n",
       "3    0.000000\n",
       "4    0.000000\n",
       "Name: PRAEGENDE_JUGENDJAHRE_70_90s, dtype: float64"
      ]
     },
     "execution_count": 44,
     "metadata": {},
     "output_type": "execute_result"
    }
   ],
   "source": [
    "imputed_azdias.PRAEGENDE_JUGENDJAHRE_70_90s.head(5)"
   ]
  },
  {
   "cell_type": "code",
   "execution_count": 45,
   "metadata": {},
   "outputs": [
    {
     "data": {
      "text/plain": [
       "0    NaN\n",
       "1    0.0\n",
       "2    1.0\n",
       "3    0.0\n",
       "4    0.0\n",
       "Name: PRAEGENDE_JUGENDJAHRE_70_90s, dtype: float64"
      ]
     },
     "execution_count": 45,
     "metadata": {},
     "output_type": "execute_result"
    }
   ],
   "source": [
    "reduced_encoded_azdias.PRAEGENDE_JUGENDJAHRE_70_90s.head(5)"
   ]
  },
  {
   "cell_type": "code",
   "execution_count": 46,
   "metadata": {},
   "outputs": [
    {
     "data": {
      "text/plain": [
       "cameo_household_life_stage    0.0\n",
       "GFK_URLAUBERTYP_3.0           0.0\n",
       "GFK_URLAUBERTYP_1.0           0.0\n",
       "FINANZTYP_6                   0.0\n",
       "FINANZTYP_5                   0.0\n",
       "FINANZTYP_4                   0.0\n",
       "FINANZTYP_3                   0.0\n",
       "FINANZTYP_2                   0.0\n",
       "FINANZTYP_1                   0.0\n",
       "CJT_GESAMTTYP_6.0             0.0\n",
       "dtype: float64"
      ]
     },
     "execution_count": 46,
     "metadata": {},
     "output_type": "execute_result"
    }
   ],
   "source": [
    "imputed_azdias.isnull().mean(axis=0).sort_values(ascending=False).head(10)  #TOP n COLUMNS FOR % OF NANs"
   ]
  },
  {
   "cell_type": "code",
   "execution_count": 47,
   "metadata": {},
   "outputs": [
    {
     "data": {
      "text/plain": [
       "891220    0.0\n",
       "297067    0.0\n",
       "297078    0.0\n",
       "297077    0.0\n",
       "297076    0.0\n",
       "dtype: float64"
      ]
     },
     "execution_count": 47,
     "metadata": {},
     "output_type": "execute_result"
    }
   ],
   "source": [
    "imputed_azdias.isnull().mean(axis=1).sort_values(ascending=False).head(5) #TOP % OF MISSING VALUES IN THE ROWS"
   ]
  },
  {
   "cell_type": "markdown",
   "metadata": {},
   "source": [
    "#### imputation seems to have worked as expected."
   ]
  },
  {
   "cell_type": "code",
   "execution_count": 48,
   "metadata": {},
   "outputs": [],
   "source": [
    "# Apply feature scaling to the general population demographics data.\n",
    "\n",
    "scaler= StandardScaler()\n",
    "scaled_azdias=pd.DataFrame(scaler.fit_transform(imputed_azdias))\n",
    "\n"
   ]
  },
  {
   "cell_type": "code",
   "execution_count": 49,
   "metadata": {},
   "outputs": [
    {
     "data": {
      "text/html": [
       "<div>\n",
       "<style scoped>\n",
       "    .dataframe tbody tr th:only-of-type {\n",
       "        vertical-align: middle;\n",
       "    }\n",
       "\n",
       "    .dataframe tbody tr th {\n",
       "        vertical-align: top;\n",
       "    }\n",
       "\n",
       "    .dataframe thead th {\n",
       "        text-align: right;\n",
       "    }\n",
       "</style>\n",
       "<table border=\"1\" class=\"dataframe\">\n",
       "  <thead>\n",
       "    <tr style=\"text-align: right;\">\n",
       "      <th></th>\n",
       "      <th>ALTERSKATEGORIE_GROB</th>\n",
       "      <th>FINANZ_MINIMALIST</th>\n",
       "      <th>FINANZ_SPARER</th>\n",
       "      <th>FINANZ_VORSORGER</th>\n",
       "      <th>FINANZ_ANLEGER</th>\n",
       "      <th>FINANZ_UNAUFFAELLIGER</th>\n",
       "      <th>FINANZ_HAUSBAUER</th>\n",
       "      <th>HEALTH_TYP</th>\n",
       "      <th>LP_LEBENSPHASE_FEIN</th>\n",
       "      <th>LP_LEBENSPHASE_GROB</th>\n",
       "      <th>...</th>\n",
       "      <th>CAMEO_DEU_2015_8D</th>\n",
       "      <th>CAMEO_DEU_2015_9A</th>\n",
       "      <th>CAMEO_DEU_2015_9B</th>\n",
       "      <th>CAMEO_DEU_2015_9C</th>\n",
       "      <th>CAMEO_DEU_2015_9D</th>\n",
       "      <th>CAMEO_DEU_2015_9E</th>\n",
       "      <th>PRAEGENDE_JUGENDJAHRE_40_60s</th>\n",
       "      <th>PRAEGENDE_JUGENDJAHRE_70_90s</th>\n",
       "      <th>cameo_household_wealth</th>\n",
       "      <th>cameo_household_life_stage</th>\n",
       "    </tr>\n",
       "  </thead>\n",
       "  <tbody>\n",
       "    <tr>\n",
       "      <th>0</th>\n",
       "      <td>-0.750972</td>\n",
       "      <td>-0.056416</td>\n",
       "      <td>0.804890</td>\n",
       "      <td>-0.303378</td>\n",
       "      <td>1.285741</td>\n",
       "      <td>1.429871</td>\n",
       "      <td>-0.055511</td>\n",
       "      <td>0.000000</td>\n",
       "      <td>-1.263196e-01</td>\n",
       "      <td>-2.026690e-01</td>\n",
       "      <td>...</td>\n",
       "      <td>-0.141838</td>\n",
       "      <td>-0.1536</td>\n",
       "      <td>-0.179023</td>\n",
       "      <td>-0.16984</td>\n",
       "      <td>-0.182061</td>\n",
       "      <td>-0.084907</td>\n",
       "      <td>0.0</td>\n",
       "      <td>-9.854144e-17</td>\n",
       "      <td>3.216984e-16</td>\n",
       "      <td>6.346104e-16</td>\n",
       "    </tr>\n",
       "    <tr>\n",
       "      <th>1</th>\n",
       "      <td>-1.742724</td>\n",
       "      <td>-1.570358</td>\n",
       "      <td>1.487601</td>\n",
       "      <td>-1.059731</td>\n",
       "      <td>1.285741</td>\n",
       "      <td>0.757254</td>\n",
       "      <td>1.422415</td>\n",
       "      <td>1.146266</td>\n",
       "      <td>3.946213e-01</td>\n",
       "      <td>3.843946e-01</td>\n",
       "      <td>...</td>\n",
       "      <td>-0.141838</td>\n",
       "      <td>-0.1536</td>\n",
       "      <td>-0.179023</td>\n",
       "      <td>-0.16984</td>\n",
       "      <td>-0.182061</td>\n",
       "      <td>-0.084907</td>\n",
       "      <td>0.0</td>\n",
       "      <td>-5.641781e-01</td>\n",
       "      <td>1.258937e+00</td>\n",
       "      <td>-1.338297e+00</td>\n",
       "    </tr>\n",
       "    <tr>\n",
       "      <th>2</th>\n",
       "      <td>0.240781</td>\n",
       "      <td>-1.570358</td>\n",
       "      <td>0.804890</td>\n",
       "      <td>-1.816084</td>\n",
       "      <td>-0.675554</td>\n",
       "      <td>0.084637</td>\n",
       "      <td>1.422415</td>\n",
       "      <td>1.146266</td>\n",
       "      <td>-1.168201e+00</td>\n",
       "      <td>-1.083264e+00</td>\n",
       "      <td>...</td>\n",
       "      <td>-0.141838</td>\n",
       "      <td>-0.1536</td>\n",
       "      <td>-0.179023</td>\n",
       "      <td>-0.16984</td>\n",
       "      <td>-0.182061</td>\n",
       "      <td>-0.084907</td>\n",
       "      <td>0.0</td>\n",
       "      <td>2.986152e+00</td>\n",
       "      <td>-9.142640e-01</td>\n",
       "      <td>8.052265e-01</td>\n",
       "    </tr>\n",
       "    <tr>\n",
       "      <th>3</th>\n",
       "      <td>1.232533</td>\n",
       "      <td>0.700556</td>\n",
       "      <td>-0.560532</td>\n",
       "      <td>1.209329</td>\n",
       "      <td>-0.675554</td>\n",
       "      <td>-1.260597</td>\n",
       "      <td>-0.794475</td>\n",
       "      <td>-0.269102</td>\n",
       "      <td>-3.084590e-16</td>\n",
       "      <td>-2.607086e-16</td>\n",
       "      <td>...</td>\n",
       "      <td>-0.141838</td>\n",
       "      <td>-0.1536</td>\n",
       "      <td>-0.179023</td>\n",
       "      <td>-0.16984</td>\n",
       "      <td>-0.182061</td>\n",
       "      <td>-0.084907</td>\n",
       "      <td>0.0</td>\n",
       "      <td>-5.641781e-01</td>\n",
       "      <td>-1.638664e+00</td>\n",
       "      <td>-6.237891e-01</td>\n",
       "    </tr>\n",
       "    <tr>\n",
       "      <th>4</th>\n",
       "      <td>0.240781</td>\n",
       "      <td>0.700556</td>\n",
       "      <td>0.122179</td>\n",
       "      <td>0.452976</td>\n",
       "      <td>-1.329319</td>\n",
       "      <td>0.084637</td>\n",
       "      <td>-0.794475</td>\n",
       "      <td>1.146266</td>\n",
       "      <td>1.349680e+00</td>\n",
       "      <td>1.558522e+00</td>\n",
       "      <td>...</td>\n",
       "      <td>-0.141838</td>\n",
       "      <td>-0.1536</td>\n",
       "      <td>-0.179023</td>\n",
       "      <td>-0.16984</td>\n",
       "      <td>-0.182061</td>\n",
       "      <td>-0.084907</td>\n",
       "      <td>0.0</td>\n",
       "      <td>-5.641781e-01</td>\n",
       "      <td>5.345367e-01</td>\n",
       "      <td>9.071870e-02</td>\n",
       "    </tr>\n",
       "  </tbody>\n",
       "</table>\n",
       "<p>5 rows × 181 columns</p>\n",
       "</div>"
      ],
      "text/plain": [
       "   ALTERSKATEGORIE_GROB  FINANZ_MINIMALIST  FINANZ_SPARER  FINANZ_VORSORGER  \\\n",
       "0             -0.750972          -0.056416       0.804890         -0.303378   \n",
       "1             -1.742724          -1.570358       1.487601         -1.059731   \n",
       "2              0.240781          -1.570358       0.804890         -1.816084   \n",
       "3              1.232533           0.700556      -0.560532          1.209329   \n",
       "4              0.240781           0.700556       0.122179          0.452976   \n",
       "\n",
       "   FINANZ_ANLEGER  FINANZ_UNAUFFAELLIGER  FINANZ_HAUSBAUER  HEALTH_TYP  \\\n",
       "0        1.285741               1.429871         -0.055511    0.000000   \n",
       "1        1.285741               0.757254          1.422415    1.146266   \n",
       "2       -0.675554               0.084637          1.422415    1.146266   \n",
       "3       -0.675554              -1.260597         -0.794475   -0.269102   \n",
       "4       -1.329319               0.084637         -0.794475    1.146266   \n",
       "\n",
       "   LP_LEBENSPHASE_FEIN  LP_LEBENSPHASE_GROB             ...              \\\n",
       "0        -1.263196e-01        -2.026690e-01             ...               \n",
       "1         3.946213e-01         3.843946e-01             ...               \n",
       "2        -1.168201e+00        -1.083264e+00             ...               \n",
       "3        -3.084590e-16        -2.607086e-16             ...               \n",
       "4         1.349680e+00         1.558522e+00             ...               \n",
       "\n",
       "   CAMEO_DEU_2015_8D  CAMEO_DEU_2015_9A  CAMEO_DEU_2015_9B  CAMEO_DEU_2015_9C  \\\n",
       "0          -0.141838            -0.1536          -0.179023           -0.16984   \n",
       "1          -0.141838            -0.1536          -0.179023           -0.16984   \n",
       "2          -0.141838            -0.1536          -0.179023           -0.16984   \n",
       "3          -0.141838            -0.1536          -0.179023           -0.16984   \n",
       "4          -0.141838            -0.1536          -0.179023           -0.16984   \n",
       "\n",
       "   CAMEO_DEU_2015_9D  CAMEO_DEU_2015_9E  PRAEGENDE_JUGENDJAHRE_40_60s  \\\n",
       "0          -0.182061          -0.084907                           0.0   \n",
       "1          -0.182061          -0.084907                           0.0   \n",
       "2          -0.182061          -0.084907                           0.0   \n",
       "3          -0.182061          -0.084907                           0.0   \n",
       "4          -0.182061          -0.084907                           0.0   \n",
       "\n",
       "   PRAEGENDE_JUGENDJAHRE_70_90s  cameo_household_wealth  \\\n",
       "0                 -9.854144e-17            3.216984e-16   \n",
       "1                 -5.641781e-01            1.258937e+00   \n",
       "2                  2.986152e+00           -9.142640e-01   \n",
       "3                 -5.641781e-01           -1.638664e+00   \n",
       "4                 -5.641781e-01            5.345367e-01   \n",
       "\n",
       "   cameo_household_life_stage  \n",
       "0                6.346104e-16  \n",
       "1               -1.338297e+00  \n",
       "2                8.052265e-01  \n",
       "3               -6.237891e-01  \n",
       "4                9.071870e-02  \n",
       "\n",
       "[5 rows x 181 columns]"
      ]
     },
     "execution_count": 49,
     "metadata": {},
     "output_type": "execute_result"
    }
   ],
   "source": [
    "scaled_azdias.columns= imputed_azdias.columns\n",
    "scaled_azdias.head(5)"
   ]
  },
  {
   "cell_type": "markdown",
   "metadata": {},
   "source": [
    "### sanity check!"
   ]
  },
  {
   "cell_type": "code",
   "execution_count": 50,
   "metadata": {},
   "outputs": [
    {
     "name": "stdout",
     "output_type": "stream",
     "text": [
      "2.75721683139\n",
      "1.00831687843\n"
     ]
    },
    {
     "data": {
      "text/plain": [
       "0   -0.750971\n",
       "1   -1.742723\n",
       "2    0.240781\n",
       "3    1.232532\n",
       "4    0.240781\n",
       "5   -1.742723\n",
       "6   -0.750971\n",
       "7   -1.742723\n",
       "8    0.240781\n",
       "9    0.240781\n",
       "Name: ALTERSKATEGORIE_GROB, dtype: float64"
      ]
     },
     "execution_count": 50,
     "metadata": {},
     "output_type": "execute_result"
    }
   ],
   "source": [
    "print(imputed_azdias.ALTERSKATEGORIE_GROB.mean())\n",
    "print(imputed_azdias.ALTERSKATEGORIE_GROB.std())\n",
    "\n",
    "mean=imputed_azdias.ALTERSKATEGORIE_GROB.mean()\n",
    "std=imputed_azdias.ALTERSKATEGORIE_GROB.std()\n",
    "\n",
    "((imputed_azdias.ALTERSKATEGORIE_GROB-mean)/std).head(10)"
   ]
  },
  {
   "cell_type": "code",
   "execution_count": 51,
   "metadata": {},
   "outputs": [],
   "source": [
    "def impute_scale(df):\n",
    "    \n",
    "    imputer=Imputer()   #default is by column and mean!\n",
    "    imputed_df= pd.DataFrame(imputer.fit_transform(df))\n",
    "    scaler= StandardScaler()\n",
    "    scaled_df=pd.DataFrame(scaler.fit_transform(imputed_df))\n",
    "    scaled_df.columns=df.columns\n",
    "    return scaled_df"
   ]
  },
  {
   "cell_type": "markdown",
   "metadata": {},
   "source": [
    "### Discussion 2.1: Apply Feature Scaling\n",
    "\n",
    "I decided to impute the whole DataFrame with the mean value for each column, I then applied stadard scaler."
   ]
  },
  {
   "cell_type": "markdown",
   "metadata": {},
   "source": [
    "### Step 2.2: Perform Dimensionality Reduction\n",
    "\n",
    "On your scaled data, you are now ready to apply dimensionality reduction techniques.\n",
    "\n",
    "- Use sklearn's [PCA](http://scikit-learn.org/stable/modules/generated/sklearn.decomposition.PCA.html) class to apply principal component analysis on the data, thus finding the vectors of maximal variance in the data. To start, you should not set any parameters (so all components are computed) or set a number of components that is at least half the number of features (so there's enough features to see the general trend in variability).\n",
    "- Check out the ratio of variance explained by each principal component as well as the cumulative variance explained. Try plotting the cumulative or sequential values using matplotlib's [`plot()`](https://matplotlib.org/api/_as_gen/matplotlib.pyplot.plot.html) function. Based on what you find, select a value for the number of transformed features you'll retain for the clustering part of the project.\n",
    "- Once you've made a choice for the number of components to keep, make sure you re-fit a PCA instance to perform the decided-on transformation."
   ]
  },
  {
   "cell_type": "code",
   "execution_count": 52,
   "metadata": {
    "scrolled": true
   },
   "outputs": [
    {
     "data": {
      "text/plain": [
       "PCA(copy=True, iterated_power='auto', n_components=None, random_state=None,\n",
       "  svd_solver='auto', tol=0.0, whiten=False)"
      ]
     },
     "execution_count": 52,
     "metadata": {},
     "output_type": "execute_result"
    }
   ],
   "source": [
    "# Apply PCA to the data.\n",
    "\n",
    "pca= PCA()\n",
    "pca.fit(imputed_azdias)\n"
   ]
  },
  {
   "cell_type": "code",
   "execution_count": 53,
   "metadata": {
    "scrolled": true
   },
   "outputs": [
    {
     "data": {
      "text/plain": [
       "[<matplotlib.lines.Line2D at 0x7fb278d5b438>]"
      ]
     },
     "execution_count": 53,
     "metadata": {},
     "output_type": "execute_result"
    },
    {
     "data": {
      "image/png": "[encoded data removed]",
      "text/plain": [
       "<matplotlib.figure.Figure at 0x7fb2792fb0f0>"
      ]
     },
     "metadata": {
      "needs_background": "light"
     },
     "output_type": "display_data"
    }
   ],
   "source": [
    "# Investigate the variance accounted for by each principal component.\n",
    "#print(pca.explained_variance_ratio_)\n",
    "#print(pca.explained_variance_ratio_)\n",
    "\n",
    " \n",
    "\n",
    "n=0\n",
    "m=20\n",
    "plt.plot(range(len(pca.explained_variance_ratio_[n:m])),pca.explained_variance_ratio_[n:m], 'bo')"
   ]
  },
  {
   "cell_type": "code",
   "execution_count": 54,
   "metadata": {},
   "outputs": [
    {
     "data": {
      "text/plain": [
       "[<matplotlib.lines.Line2D at 0x7fb278a549b0>]"
      ]
     },
     "execution_count": 54,
     "metadata": {},
     "output_type": "execute_result"
    },
    {
     "data": {
      "image/png": "[encoded data removed]",
      "text/plain": [
       "<matplotlib.figure.Figure at 0x7fb2795ea780>"
      ]
     },
     "metadata": {
      "needs_background": "light"
     },
     "output_type": "display_data"
    }
   ],
   "source": [
    "n=1\n",
    "m=20\n",
    "plt.plot(range(len(pca.explained_variance_ratio_[n:m])),pca.explained_variance_ratio_[n:m], 'bo')"
   ]
  },
  {
   "cell_type": "code",
   "execution_count": 55,
   "metadata": {},
   "outputs": [
    {
     "name": "stdout",
     "output_type": "stream",
     "text": [
      "[  9.95227720e-01   2.28207470e-03   1.28982017e-03   2.14576846e-04\n",
      "   1.67187439e-04]\n",
      "0.999181379133\n"
     ]
    }
   ],
   "source": [
    "'''I ha changed the numbers to check which component is responsible for how much'''\n",
    "\n",
    "print(pca.explained_variance_ratio_[:5])\n",
    "print(pca.explained_variance_ratio_[:5].sum())"
   ]
  },
  {
   "cell_type": "code",
   "execution_count": 56,
   "metadata": {},
   "outputs": [
    {
     "data": {
      "text/plain": [
       "[<matplotlib.lines.Line2D at 0x7fb278a31f60>]"
      ]
     },
     "execution_count": 56,
     "metadata": {},
     "output_type": "execute_result"
    },
    {
     "data": {
      "image/png": "[encoded data removed]",
      "text/plain": [
       "<matplotlib.figure.Figure at 0x7fb278a8f390>"
      ]
     },
     "metadata": {
      "needs_background": "light"
     },
     "output_type": "display_data"
    }
   ],
   "source": [
    "n=1\n",
    "m=20\n",
    "plt.plot(range(len(pca.explained_variance_[n:m])),pca.explained_variance_[n:m], 'bo')"
   ]
  },
  {
   "cell_type": "markdown",
   "metadata": {},
   "source": [
    "Variance explained by ***n*** principal components:\n",
    "\n",
    "- ***n*** =1; variance explained= 0.995%\n",
    "- ***n*** =5; variance explained= 0.9991%\n",
    "- ***n*** =10; variance explained=0.9995%\n",
    "\n",
    "- The second principal component seems to explain only 0.0023% of the variance in the dataframe. \n",
    "- The third principal component seems to explain only 0.0013% of the variance in the dataframe. \n",
    "\n",
    "Since PCA suggests that one main component is able to explain most of the variance in the data, I will apply PCA setting 2 as n_components value and I will then analyse each component of the main components "
   ]
  },
  {
   "cell_type": "code",
   "execution_count": 57,
   "metadata": {},
   "outputs": [
    {
     "data": {
      "text/plain": [
       "KBA13_ANZAHL_PKW       0.999978\n",
       "LP_LEBENSPHASE_FEIN    0.002811\n",
       "PLZ8_GBZ               0.002329\n",
       "PLZ8_HHZ               0.002019\n",
       "INNENSTADT             0.001126\n",
       "Name: 0, dtype: float64"
      ]
     },
     "execution_count": 57,
     "metadata": {},
     "output_type": "execute_result"
    }
   ],
   "source": [
    "pca_comp= pd.DataFrame(pca.components_, columns=imputed_azdias.columns)\n",
    "pca_comp.iloc[0].sort_values( ascending=False).head()"
   ]
  },
  {
   "cell_type": "markdown",
   "metadata": {},
   "source": [
    "### 8.1. KBA13_ANZAHL_PKW\n",
    "Number of cars in the PLZ8 region"
   ]
  },
  {
   "cell_type": "code",
   "execution_count": 58,
   "metadata": {},
   "outputs": [
    {
     "data": {
      "text/plain": [
       "ANZ_HAUSHALTE_AKTIV       0.919575\n",
       "HH_EINKOMMEN_SCORE        0.038490\n",
       "cameo_household_wealth    0.033955\n",
       "EWDICHTE                  0.032467\n",
       "PLZ8_BAUMAX               0.032405\n",
       "Name: 1, dtype: float64"
      ]
     },
     "execution_count": 58,
     "metadata": {},
     "output_type": "execute_result"
    }
   ],
   "source": [
    "pca_comp.iloc[1].sort_values( ascending=False).head()"
   ]
  },
  {
   "cell_type": "markdown",
   "metadata": {},
   "source": [
    "### 3.1. ANZ_HAUSHALTE_AKTIV\n",
    "Number of households in the building\n",
    "- missing values encoded by 0"
   ]
  },
  {
   "cell_type": "code",
   "execution_count": 59,
   "metadata": {},
   "outputs": [],
   "source": [
    "# Re-apply PCA to the data while selecting for number of components to retain.\n",
    "\n",
    "imputed_azdias=imputed_azdias.drop(columns=\"GEBAEUDETYP_5.0\") # I had to drop this column for the last part of the project\n"
   ]
  },
  {
   "cell_type": "code",
   "execution_count": 60,
   "metadata": {},
   "outputs": [],
   "source": [
    "# Even if fewer components are able to explain most of the variance, I decided to have more of them because of the last part of the project\n",
    "\n",
    "\n",
    "pca= PCA(n_components=10)\n",
    "pca_azdias= pca.fit_transform(imputed_azdias)\n"
   ]
  },
  {
   "cell_type": "code",
   "execution_count": 61,
   "metadata": {},
   "outputs": [
    {
     "data": {
      "text/html": [
       "<div>\n",
       "<style scoped>\n",
       "    .dataframe tbody tr th:only-of-type {\n",
       "        vertical-align: middle;\n",
       "    }\n",
       "\n",
       "    .dataframe tbody tr th {\n",
       "        vertical-align: top;\n",
       "    }\n",
       "\n",
       "    .dataframe thead th {\n",
       "        text-align: right;\n",
       "    }\n",
       "</style>\n",
       "<table border=\"1\" class=\"dataframe\">\n",
       "  <thead>\n",
       "    <tr style=\"text-align: right;\">\n",
       "      <th></th>\n",
       "      <th>ALTERSKATEGORIE_GROB</th>\n",
       "      <th>FINANZ_MINIMALIST</th>\n",
       "      <th>FINANZ_SPARER</th>\n",
       "      <th>FINANZ_VORSORGER</th>\n",
       "      <th>FINANZ_ANLEGER</th>\n",
       "      <th>FINANZ_UNAUFFAELLIGER</th>\n",
       "      <th>FINANZ_HAUSBAUER</th>\n",
       "      <th>HEALTH_TYP</th>\n",
       "      <th>LP_LEBENSPHASE_FEIN</th>\n",
       "      <th>LP_LEBENSPHASE_GROB</th>\n",
       "      <th>...</th>\n",
       "      <th>CAMEO_DEU_2015_8D</th>\n",
       "      <th>CAMEO_DEU_2015_9A</th>\n",
       "      <th>CAMEO_DEU_2015_9B</th>\n",
       "      <th>CAMEO_DEU_2015_9C</th>\n",
       "      <th>CAMEO_DEU_2015_9D</th>\n",
       "      <th>CAMEO_DEU_2015_9E</th>\n",
       "      <th>PRAEGENDE_JUGENDJAHRE_40_60s</th>\n",
       "      <th>PRAEGENDE_JUGENDJAHRE_70_90s</th>\n",
       "      <th>cameo_household_wealth</th>\n",
       "      <th>cameo_household_life_stage</th>\n",
       "    </tr>\n",
       "  </thead>\n",
       "  <tbody>\n",
       "    <tr>\n",
       "      <th>0</th>\n",
       "      <td>0.000043</td>\n",
       "      <td>0.000345</td>\n",
       "      <td>-0.000137</td>\n",
       "      <td>0.000214</td>\n",
       "      <td>0.000050</td>\n",
       "      <td>0.000200</td>\n",
       "      <td>-0.000505</td>\n",
       "      <td>-0.000005</td>\n",
       "      <td>0.002811</td>\n",
       "      <td>0.000737</td>\n",
       "      <td>...</td>\n",
       "      <td>-0.000014</td>\n",
       "      <td>-0.000007</td>\n",
       "      <td>-0.000042</td>\n",
       "      <td>-0.000044</td>\n",
       "      <td>-0.000040</td>\n",
       "      <td>-0.000001</td>\n",
       "      <td>0.000029</td>\n",
       "      <td>0.000051</td>\n",
       "      <td>-0.000843</td>\n",
       "      <td>0.000434</td>\n",
       "    </tr>\n",
       "    <tr>\n",
       "      <th>1</th>\n",
       "      <td>-0.003183</td>\n",
       "      <td>-0.031535</td>\n",
       "      <td>0.010730</td>\n",
       "      <td>-0.004626</td>\n",
       "      <td>-0.000168</td>\n",
       "      <td>-0.002255</td>\n",
       "      <td>0.031514</td>\n",
       "      <td>0.001472</td>\n",
       "      <td>-0.353329</td>\n",
       "      <td>-0.098947</td>\n",
       "      <td>...</td>\n",
       "      <td>0.000652</td>\n",
       "      <td>0.000725</td>\n",
       "      <td>0.001446</td>\n",
       "      <td>0.001576</td>\n",
       "      <td>0.001392</td>\n",
       "      <td>0.001161</td>\n",
       "      <td>-0.001820</td>\n",
       "      <td>-0.002651</td>\n",
       "      <td>0.033955</td>\n",
       "      <td>-0.016218</td>\n",
       "    </tr>\n",
       "    <tr>\n",
       "      <th>2</th>\n",
       "      <td>0.007624</td>\n",
       "      <td>0.025374</td>\n",
       "      <td>-0.015170</td>\n",
       "      <td>0.012946</td>\n",
       "      <td>-0.006802</td>\n",
       "      <td>-0.011771</td>\n",
       "      <td>-0.019458</td>\n",
       "      <td>-0.003052</td>\n",
       "      <td>0.880929</td>\n",
       "      <td>0.250432</td>\n",
       "      <td>...</td>\n",
       "      <td>-0.000225</td>\n",
       "      <td>0.000220</td>\n",
       "      <td>-0.000543</td>\n",
       "      <td>-0.000449</td>\n",
       "      <td>-0.000643</td>\n",
       "      <td>0.000489</td>\n",
       "      <td>0.001483</td>\n",
       "      <td>0.002814</td>\n",
       "      <td>-0.015811</td>\n",
       "      <td>0.011032</td>\n",
       "    </tr>\n",
       "    <tr>\n",
       "      <th>3</th>\n",
       "      <td>-0.154016</td>\n",
       "      <td>-0.070471</td>\n",
       "      <td>0.197954</td>\n",
       "      <td>-0.169025</td>\n",
       "      <td>0.133803</td>\n",
       "      <td>0.165360</td>\n",
       "      <td>-0.046505</td>\n",
       "      <td>0.019696</td>\n",
       "      <td>0.032741</td>\n",
       "      <td>-0.018726</td>\n",
       "      <td>...</td>\n",
       "      <td>-0.001767</td>\n",
       "      <td>0.001333</td>\n",
       "      <td>0.001855</td>\n",
       "      <td>0.001811</td>\n",
       "      <td>0.000874</td>\n",
       "      <td>-0.001527</td>\n",
       "      <td>0.000898</td>\n",
       "      <td>0.003121</td>\n",
       "      <td>0.014122</td>\n",
       "      <td>-0.041059</td>\n",
       "    </tr>\n",
       "    <tr>\n",
       "      <th>4</th>\n",
       "      <td>0.112134</td>\n",
       "      <td>0.166925</td>\n",
       "      <td>-0.189898</td>\n",
       "      <td>0.143364</td>\n",
       "      <td>-0.230638</td>\n",
       "      <td>-0.185085</td>\n",
       "      <td>-0.042435</td>\n",
       "      <td>-0.019507</td>\n",
       "      <td>-0.040393</td>\n",
       "      <td>0.007803</td>\n",
       "      <td>...</td>\n",
       "      <td>0.001311</td>\n",
       "      <td>-0.001035</td>\n",
       "      <td>-0.000359</td>\n",
       "      <td>0.000247</td>\n",
       "      <td>-0.000394</td>\n",
       "      <td>0.000732</td>\n",
       "      <td>0.001302</td>\n",
       "      <td>0.001923</td>\n",
       "      <td>-0.025490</td>\n",
       "      <td>0.032033</td>\n",
       "    </tr>\n",
       "  </tbody>\n",
       "</table>\n",
       "<p>5 rows × 180 columns</p>\n",
       "</div>"
      ],
      "text/plain": [
       "   ALTERSKATEGORIE_GROB  FINANZ_MINIMALIST  FINANZ_SPARER  FINANZ_VORSORGER  \\\n",
       "0              0.000043           0.000345      -0.000137          0.000214   \n",
       "1             -0.003183          -0.031535       0.010730         -0.004626   \n",
       "2              0.007624           0.025374      -0.015170          0.012946   \n",
       "3             -0.154016          -0.070471       0.197954         -0.169025   \n",
       "4              0.112134           0.166925      -0.189898          0.143364   \n",
       "\n",
       "   FINANZ_ANLEGER  FINANZ_UNAUFFAELLIGER  FINANZ_HAUSBAUER  HEALTH_TYP  \\\n",
       "0        0.000050               0.000200         -0.000505   -0.000005   \n",
       "1       -0.000168              -0.002255          0.031514    0.001472   \n",
       "2       -0.006802              -0.011771         -0.019458   -0.003052   \n",
       "3        0.133803               0.165360         -0.046505    0.019696   \n",
       "4       -0.230638              -0.185085         -0.042435   -0.019507   \n",
       "\n",
       "   LP_LEBENSPHASE_FEIN  LP_LEBENSPHASE_GROB             ...              \\\n",
       "0             0.002811             0.000737             ...               \n",
       "1            -0.353329            -0.098947             ...               \n",
       "2             0.880929             0.250432             ...               \n",
       "3             0.032741            -0.018726             ...               \n",
       "4            -0.040393             0.007803             ...               \n",
       "\n",
       "   CAMEO_DEU_2015_8D  CAMEO_DEU_2015_9A  CAMEO_DEU_2015_9B  CAMEO_DEU_2015_9C  \\\n",
       "0          -0.000014          -0.000007          -0.000042          -0.000044   \n",
       "1           0.000652           0.000725           0.001446           0.001576   \n",
       "2          -0.000225           0.000220          -0.000543          -0.000449   \n",
       "3          -0.001767           0.001333           0.001855           0.001811   \n",
       "4           0.001311          -0.001035          -0.000359           0.000247   \n",
       "\n",
       "   CAMEO_DEU_2015_9D  CAMEO_DEU_2015_9E  PRAEGENDE_JUGENDJAHRE_40_60s  \\\n",
       "0          -0.000040          -0.000001                      0.000029   \n",
       "1           0.001392           0.001161                     -0.001820   \n",
       "2          -0.000643           0.000489                      0.001483   \n",
       "3           0.000874          -0.001527                      0.000898   \n",
       "4          -0.000394           0.000732                      0.001302   \n",
       "\n",
       "   PRAEGENDE_JUGENDJAHRE_70_90s  cameo_household_wealth  \\\n",
       "0                      0.000051               -0.000843   \n",
       "1                     -0.002651                0.033955   \n",
       "2                      0.002814               -0.015811   \n",
       "3                      0.003121                0.014122   \n",
       "4                      0.001923               -0.025490   \n",
       "\n",
       "   cameo_household_life_stage  \n",
       "0                    0.000434  \n",
       "1                   -0.016218  \n",
       "2                    0.011032  \n",
       "3                   -0.041059  \n",
       "4                    0.032033  \n",
       "\n",
       "[5 rows x 180 columns]"
      ]
     },
     "execution_count": 61,
     "metadata": {},
     "output_type": "execute_result"
    }
   ],
   "source": [
    "#pca_comp= pd.DataFrame(pca.components_, columns=imputed_azdias.columns)\n",
    "\n",
    "pca_comp= pd.DataFrame(pca.components_,columns=imputed_azdias.columns)\n",
    "\n",
    "\n",
    "pca_comp.head()\n"
   ]
  },
  {
   "cell_type": "code",
   "execution_count": 62,
   "metadata": {},
   "outputs": [
    {
     "data": {
      "text/plain": [
       "KBA13_ANZAHL_PKW       0.999978\n",
       "LP_LEBENSPHASE_FEIN    0.002811\n",
       "PLZ8_GBZ               0.002329\n",
       "PLZ8_HHZ               0.002019\n",
       "INNENSTADT             0.001126\n",
       "Name: 0, dtype: float64"
      ]
     },
     "execution_count": 62,
     "metadata": {},
     "output_type": "execute_result"
    }
   ],
   "source": [
    "pca_comp.iloc[0].sort_values( ascending=False).head()"
   ]
  },
  {
   "cell_type": "markdown",
   "metadata": {},
   "source": [
    " Number of cars"
   ]
  },
  {
   "cell_type": "code",
   "execution_count": 63,
   "metadata": {},
   "outputs": [
    {
     "data": {
      "text/plain": [
       "ANZ_HAUSHALTE_AKTIV       0.919575\n",
       "HH_EINKOMMEN_SCORE        0.038490\n",
       "cameo_household_wealth    0.033955\n",
       "EWDICHTE                  0.032467\n",
       "PLZ8_BAUMAX               0.032405\n",
       "Name: 1, dtype: float64"
      ]
     },
     "execution_count": 63,
     "metadata": {},
     "output_type": "execute_result"
    }
   ],
   "source": [
    "pca_comp.iloc[1].sort_values( ascending=False).head(5)"
   ]
  },
  {
   "cell_type": "markdown",
   "metadata": {},
   "source": [
    "Density of population"
   ]
  },
  {
   "cell_type": "code",
   "execution_count": 64,
   "metadata": {},
   "outputs": [
    {
     "data": {
      "text/plain": [
       "LP_LEBENSPHASE_FEIN    0.880929\n",
       "ANZ_HAUSHALTE_AKTIV    0.379133\n",
       "LP_LEBENSPHASE_GROB    0.250432\n",
       "ANZ_PERSONEN           0.059598\n",
       "ONLINE_AFFINITAET      0.030550\n",
       "Name: 2, dtype: float64"
      ]
     },
     "execution_count": 64,
     "metadata": {},
     "output_type": "execute_result"
    }
   ],
   "source": [
    "pca_comp.iloc[2].sort_values( ascending=False).head(5)"
   ]
  },
  {
   "cell_type": "markdown",
   "metadata": {},
   "source": [
    " Life stage"
   ]
  },
  {
   "cell_type": "markdown",
   "metadata": {},
   "source": [
    "I want to apply PCA on a dataframe in which I have removed all the datapoints with missing values without imputing those values. \n",
    "This is to check whether the result is affected by the imputation. \n",
    "I will also try to remove the other columns with many missing values and apply PCA again. "
   ]
  },
  {
   "cell_type": "code",
   "execution_count": 65,
   "metadata": {},
   "outputs": [
    {
     "data": {
      "text/plain": [
       "'Additional steps/cells not required, uncomment to exectue.'"
      ]
     },
     "execution_count": 65,
     "metadata": {},
     "output_type": "execute_result"
    }
   ],
   "source": [
    "\n",
    "'''Additional steps/cells not required, uncomment to exectue.'''\n",
    "#no_na_azdias=reduced_encoded_azdias.drop(columns=[\"PRAEGENDE_JUGENDJAHRE_40_60s\", \"PRAEGENDE_JUGENDJAHRE_70_90s\"]).dropna()\n",
    "#pca_no_na= PCA()\n",
    "#pca_no_na.fit(no_na_azdias)\n",
    "\n"
   ]
  },
  {
   "cell_type": "code",
   "execution_count": 66,
   "metadata": {},
   "outputs": [],
   "source": [
    "#pca_comp_no_na= pd.DataFrame(pca_no_na.components_, columns=no_na_azdias.columns)\n",
    "#pca_comp_no_na.iloc[0].sort_values( ascending=False).head()"
   ]
  },
  {
   "cell_type": "code",
   "execution_count": 67,
   "metadata": {},
   "outputs": [],
   "source": [
    "#pca_comp_no_na= pd.DataFrame(pca_no_na.components_, columns=no_na_azdias.columns)\n",
    "#pca_comp_no_na.iloc[1].sort_values( ascending=False).head()"
   ]
  },
  {
   "cell_type": "code",
   "execution_count": 68,
   "metadata": {},
   "outputs": [],
   "source": [
    "#pca_comp_no_na= pd.DataFrame(pca_no_na.components_, columns=no_na_azdias.columns)\n",
    "#pca_comp_no_na.iloc[2].sort_values( ascending=False).head()"
   ]
  },
  {
   "cell_type": "code",
   "execution_count": 69,
   "metadata": {},
   "outputs": [
    {
     "data": {
      "text/plain": [
       "'Additional step not requested as part of the project'"
      ]
     },
     "execution_count": 69,
     "metadata": {},
     "output_type": "execute_result"
    }
   ],
   "source": [
    "'''Additional step not requested as part of the project'''\n",
    "\n",
    "#new_df= reduced_encoded_azdias.drop(columns=reduced_encoded_azdias.isna().sum().sort_values()[-15:].index )##15 columns with more missing values!\n",
    "\n",
    "#new_df=impute_scale(new_df)\n",
    "\n",
    "#new_pca=PCA()\n",
    "#new_pca.fit(new_df)\n",
    "\n",
    "\n",
    "\n"
   ]
  },
  {
   "cell_type": "code",
   "execution_count": 70,
   "metadata": {},
   "outputs": [],
   "source": [
    "##  pca_explain(new_pca, 3, new_df)"
   ]
  },
  {
   "cell_type": "markdown",
   "metadata": {},
   "source": [
    "### Discussion 2.2: Perform Dimensionality Reduction\n",
    "\n",
    "(Double-click this cell and replace this text with your own text, reporting your findings and decisions regarding dimensionality reduction. How many principal components / transformed features are you retaining for the next step of the analysis?)"
   ]
  },
  {
   "cell_type": "markdown",
   "metadata": {},
   "source": [
    "### Step 2.3: Interpret Principal Components\n",
    "\n",
    "Now that we have our transformed principal components, it's a nice idea to check out the weight of each variable on the first few components to see if they can be interpreted in some fashion.\n",
    "\n",
    "As a reminder, each principal component is a unit vector that points in the direction of highest variance (after accounting for the variance captured by earlier principal components). The further a weight is from zero, the more the principal component is in the direction of the corresponding feature. If two features have large weights of the same sign (both positive or both negative), then increases in one tend expect to be associated with increases in the other. To contrast, features with different signs can be expected to show a negative correlation: increases in one variable should result in a decrease in the other.\n",
    "\n",
    "- To investigate the features, you should map each weight to their corresponding feature name, then sort the features according to weight. The most interesting features for each principal component, then, will be those at the beginning and end of the sorted list. Use the data dictionary document to help you understand these most prominent features, their relationships, and what a positive or negative value on the principal component might indicate.\n",
    "- You should investigate and interpret feature associations from the first three principal components in this substep. To help facilitate this, you should write a function that you can call at any time to print the sorted list of feature weights, for the *i*-th principal component. This might come in handy in the next step of the project, when you interpret the tendencies of the discovered clusters."
   ]
  },
  {
   "cell_type": "code",
   "execution_count": 71,
   "metadata": {},
   "outputs": [
    {
     "name": "stdout",
     "output_type": "stream",
     "text": [
      "\n",
      "\n",
      "\n",
      "Exaplained variance by component 1: 0.995%\n",
      "Main features of main component 1:\n",
      "KBA13_ANZAHL_PKW       0.999978\n",
      "LP_LEBENSPHASE_FEIN    0.002811\n",
      "PLZ8_GBZ               0.002329\n",
      "PLZ8_HHZ               0.002019\n",
      "INNENSTADT             0.001126\n",
      "Name: 0, dtype: float64\n",
      "\n",
      "\n",
      "\n",
      " Exaplained variance by component 1: 0.995%\n",
      "Main negative features of main component 1:\n",
      "ANZ_HAUSHALTE_AKTIV      -0.003924\n",
      "PLZ8_BAUMAX              -0.001247\n",
      "EWDICHTE                 -0.001071\n",
      "RELAT_AB                 -0.001028\n",
      "cameo_household_wealth   -0.000843\n",
      "Name: 0, dtype: float64\n",
      "\n",
      "\n",
      "\n",
      "Exaplained variance by component 2: 0.00228%\n",
      "Main features of main component 2:\n",
      "ANZ_HAUSHALTE_AKTIV       0.919575\n",
      "HH_EINKOMMEN_SCORE        0.038490\n",
      "cameo_household_wealth    0.033955\n",
      "EWDICHTE                  0.032467\n",
      "PLZ8_BAUMAX               0.032405\n",
      "Name: 1, dtype: float64\n",
      "\n",
      "\n",
      "\n",
      " Exaplained variance by component 2: 0.00228%\n",
      "Main negative features of main component 2:\n",
      "LP_LEBENSPHASE_FEIN   -0.353329\n",
      "LP_LEBENSPHASE_GROB   -0.098947\n",
      "MOBI_REGIO            -0.045354\n",
      "KBA05_GBZ             -0.040194\n",
      "INNENSTADT            -0.032821\n",
      "Name: 1, dtype: float64\n",
      "\n",
      "\n",
      "\n",
      "Exaplained variance by component 3: 0.00129%\n",
      "Main features of main component 3:\n",
      "LP_LEBENSPHASE_FEIN    0.880929\n",
      "ANZ_HAUSHALTE_AKTIV    0.379133\n",
      "LP_LEBENSPHASE_GROB    0.250432\n",
      "ANZ_PERSONEN           0.059598\n",
      "ONLINE_AFFINITAET      0.030550\n",
      "Name: 2, dtype: float64\n",
      "\n",
      "\n",
      "\n",
      " Exaplained variance by component 3: 0.00129%\n",
      "Main negative features of main component 3:\n",
      "W_KEIT_KIND_HH        -0.061544\n",
      "HH_EINKOMMEN_SCORE    -0.031970\n",
      "LP_FAMILIE_FEIN_1.0   -0.031560\n",
      "LP_FAMILIE_GROB_1.0   -0.031560\n",
      "FINANZ_HAUSBAUER      -0.019458\n",
      "Name: 2, dtype: float64\n"
     ]
    }
   ],
   "source": [
    "# Map weights for the first principal component to corresponding feature names\n",
    "# and then print the linked values, sorted by weight.\n",
    "# HINT: Try defining a function here or in a new cell that you can reuse in the\n",
    "# other cells.\n",
    "\n",
    "''' \n",
    "\n",
    "The .components_ attribute of an sklearn PCA object \n",
    "returns a list of the main components.\n",
    "Each one of them is expressed as a vector or linear combination of the original features.\n",
    "The list is ordered according to the amount of variance explained by each of these vectors.\n",
    "\n",
    "Also, the more important one of the features is for a certain main component, \n",
    "the more that component will be on roughly the same \"direction\" of that feature. \n",
    "In other words, the weight or the value in the linear combination will be higher.\n",
    "\n",
    "This means that for main component 1, the feature associated with the highest weight can be used to\n",
    "interpret that main component, and the variance explained by that main component.\n",
    "\n",
    "The following function will print the n-1 components of the PCA object and will identify the features\n",
    "more important in each of the component. it will also print the % of exaplained variance associated\n",
    "with that main component.\n",
    "\n",
    "\n",
    "'''\n",
    "\n",
    "def pca_explain(pca, n, df):\n",
    "\n",
    "    pca_comp= pd.DataFrame(pca.components_,columns=imputed_azdias.columns)\n",
    "    for n in range(n):\n",
    "      \n",
    "        print(\"\\n\\n\\nExaplained variance by component {}: {:.3}%\".format(n+1, pca.explained_variance_ratio_[n]))\n",
    "        print(\"Main features of main component {}:\\n{}\".format(n+1, pca_comp.iloc[n].sort_values( ascending=False).head(5)))\n",
    "        \n",
    "        print(\"\\n\\n\\n Exaplained variance by component {}: {:.3}%\".format(n+1, pca.explained_variance_ratio_[n]))\n",
    "        print(\"Main negative features of main component {}:\\n{}\".format(n+1, pca_comp.iloc[n].sort_values( ascending=True).head(5)))\n",
    "        \n",
    "pca_explain(pca, 3, imputed_azdias)"
   ]
  },
  {
   "cell_type": "code",
   "execution_count": 72,
   "metadata": {},
   "outputs": [
    {
     "data": {
      "text/plain": [
       "'see previous cell'"
      ]
     },
     "execution_count": 72,
     "metadata": {},
     "output_type": "execute_result"
    }
   ],
   "source": [
    "# Map weights for the second principal component to corresponding feature names\n",
    "# and then print the linked values, sorted by weight.\n",
    "\n",
    "'''see previous cell'''"
   ]
  },
  {
   "cell_type": "code",
   "execution_count": 73,
   "metadata": {},
   "outputs": [
    {
     "data": {
      "text/plain": [
       "'see two cells above'"
      ]
     },
     "execution_count": 73,
     "metadata": {},
     "output_type": "execute_result"
    }
   ],
   "source": [
    "# Map weights for the third principal component to corresponding feature names\n",
    "# and then print the linked values, sorted by weight.\n",
    "\n",
    "'''see two cells above'''"
   ]
  },
  {
   "cell_type": "markdown",
   "metadata": {},
   "source": [
    "### Discussion 2.3: Interpret Principal Components\n",
    "\n",
    "\n",
    "The ***first principal components*** is in the \"direction\" (in the vector space of the original 180+ features) of ***KBA13_ANZAHL_PKW***\n",
    "which is the **number of cars owned**. \n",
    "Most of the original features are related directly or indirectly with wealth, and the number of owned cars seems to be strongly correlated to the other features and therefore it weights a lot in the components which exaplains most of the variance. \n",
    "Considering that most features are indicators of wealth with increasing numbers corresponding to increasing wealth, I am not surprised that one component can explain most of the variance (all the other component are orthogonal to it).\n",
    "\n",
    "The ***second principal component*** has **ANZ_HAUSHALTE_AKTIV** as main feature, which is the **number of households** in a building. This main component is able to exaplain a small amount of variance in the data and it is inversely correlated to LP_LEBENSPHASE_FEIN, which is the life stage/wealth.\n",
    "It makes sense that the higher ANZ_HAUSHALTE_AKTIV, the lower I expect LP_LEBENSPHASE_FEIN to be. Namely, later stages in life and increased wealth are linked to a greater ability to afford to live in a less crowded area/building. \n",
    "\n",
    "Finally the ***third principal components*** simply correlates **life stage** and children with likelihood of **children linving in a household**. Probably wealthy families have fewer children, as well as older couple are much less likely to have children.\n",
    "\n",
    "I repeaded the PCA analysis removing all the datapoints (rows) with missing data. I did not find any major difference. However, when I removed several features (columns with higher number of missing data) i did find a different results.\n",
    "In this last case there was no main component able to exaplain the same amount of variance and the main components explain variance in terms of these opposites:\n",
    "\n",
    "- (+)Ivestors and savers / (-)Low financial interest. \n",
    "- (+)Investor / (-)Homeowner. \n",
    "\n",
    "    This is interesting because people with knowledge of economy/finance always recommend investing as a better way to gain\n",
    "    wealth in comparison with homeownership.\n",
    "    \n",
    "    \n",
    "- (+)Dreamful personality / (-)combative personality \n",
    "\n",
    "It makes sense that these main components can explain other wealth-related features, but when using most of the datapoints as I did in the previous discussion, one clear indicator of wealth emerged: the number of cars possessed, on the other hand, these main components are merely able to explain roughly 5% of variance each. \n",
    "\n"
   ]
  },
  {
   "cell_type": "markdown",
   "metadata": {},
   "source": [
    "## Step 3: Clustering\n",
    "\n",
    "### Step 3.1: Apply Clustering to General Population\n",
    "\n",
    "You've assessed and cleaned the demographics data, then scaled and transformed them. Now, it's time to see how the data clusters in the principal components space. In this substep, you will apply k-means clustering to the dataset and use the average within-cluster distances from each point to their assigned cluster's centroid to decide on a number of clusters to keep.\n",
    "\n",
    "- Use sklearn's [KMeans](http://scikit-learn.org/stable/modules/generated/sklearn.cluster.KMeans.html#sklearn.cluster.KMeans) class to perform k-means clustering on the PCA-transformed data.\n",
    "- Then, compute the average difference from each point to its assigned cluster's center. **Hint**: The KMeans object's `.score()` method might be useful here, but note that in sklearn, scores tend to be defined so that larger is better. Try applying it to a small, toy dataset, or use an internet search to help your understanding.\n",
    "- Perform the above two steps for a number of different cluster counts. You can then see how the average distance decreases with an increasing number of clusters. However, each additional cluster provides a smaller net benefit. Use this fact to select a final number of clusters in which to group the data. **Warning**: because of the large size of the dataset, it can take a long time for the algorithm to resolve. The more clusters to fit, the longer the algorithm will take. You should test for cluster counts through at least 10 clusters to get the full picture, but you shouldn't need to test for a number of clusters above about 30.\n",
    "- Once you've selected a final number of clusters to use, re-fit a KMeans instance to perform the clustering operation. Make sure that you also obtain the cluster assignments for the general demographics data, since you'll be using them in the final Step 3.3."
   ]
  },
  {
   "cell_type": "code",
   "execution_count": 74,
   "metadata": {},
   "outputs": [
    {
     "data": {
      "text/html": [
       "<div>\n",
       "<style scoped>\n",
       "    .dataframe tbody tr th:only-of-type {\n",
       "        vertical-align: middle;\n",
       "    }\n",
       "\n",
       "    .dataframe tbody tr th {\n",
       "        vertical-align: top;\n",
       "    }\n",
       "\n",
       "    .dataframe thead th {\n",
       "        text-align: right;\n",
       "    }\n",
       "</style>\n",
       "<table border=\"1\" class=\"dataframe\">\n",
       "  <thead>\n",
       "    <tr style=\"text-align: right;\">\n",
       "      <th></th>\n",
       "      <th>0</th>\n",
       "      <th>1</th>\n",
       "      <th>2</th>\n",
       "      <th>3</th>\n",
       "      <th>4</th>\n",
       "      <th>5</th>\n",
       "      <th>6</th>\n",
       "      <th>7</th>\n",
       "      <th>8</th>\n",
       "      <th>9</th>\n",
       "    </tr>\n",
       "  </thead>\n",
       "  <tbody>\n",
       "    <tr>\n",
       "      <th>0</th>\n",
       "      <td>-0.004223</td>\n",
       "      <td>0.648657</td>\n",
       "      <td>-1.615473</td>\n",
       "      <td>0.729361</td>\n",
       "      <td>-4.656494</td>\n",
       "      <td>0.707385</td>\n",
       "      <td>-0.316705</td>\n",
       "      <td>3.044235</td>\n",
       "      <td>-4.521634</td>\n",
       "      <td>-0.411934</td>\n",
       "    </tr>\n",
       "    <tr>\n",
       "      <th>1</th>\n",
       "      <td>343.241625</td>\n",
       "      <td>2.876677</td>\n",
       "      <td>4.486949</td>\n",
       "      <td>3.702671</td>\n",
       "      <td>-5.779234</td>\n",
       "      <td>-0.963396</td>\n",
       "      <td>-2.637070</td>\n",
       "      <td>-4.388732</td>\n",
       "      <td>1.652491</td>\n",
       "      <td>2.419861</td>\n",
       "    </tr>\n",
       "    <tr>\n",
       "      <th>2</th>\n",
       "      <td>92.198729</td>\n",
       "      <td>7.187892</td>\n",
       "      <td>-12.345754</td>\n",
       "      <td>-4.085730</td>\n",
       "      <td>-2.743096</td>\n",
       "      <td>0.058945</td>\n",
       "      <td>-0.598679</td>\n",
       "      <td>2.375403</td>\n",
       "      <td>4.200494</td>\n",
       "      <td>-0.788037</td>\n",
       "    </tr>\n",
       "    <tr>\n",
       "      <th>3</th>\n",
       "      <td>-23.708962</td>\n",
       "      <td>-7.674156</td>\n",
       "      <td>-2.258511</td>\n",
       "      <td>-4.012642</td>\n",
       "      <td>2.293715</td>\n",
       "      <td>5.231125</td>\n",
       "      <td>1.538220</td>\n",
       "      <td>-0.641703</td>\n",
       "      <td>2.155120</td>\n",
       "      <td>-1.680174</td>\n",
       "    </tr>\n",
       "    <tr>\n",
       "      <th>4</th>\n",
       "      <td>-184.695346</td>\n",
       "      <td>-11.792356</td>\n",
       "      <td>13.691605</td>\n",
       "      <td>1.893394</td>\n",
       "      <td>4.734912</td>\n",
       "      <td>-5.738126</td>\n",
       "      <td>1.574887</td>\n",
       "      <td>-0.875315</td>\n",
       "      <td>1.487103</td>\n",
       "      <td>-3.137315</td>\n",
       "    </tr>\n",
       "  </tbody>\n",
       "</table>\n",
       "</div>"
      ],
      "text/plain": [
       "            0          1          2         3         4         5         6  \\\n",
       "0   -0.004223   0.648657  -1.615473  0.729361 -4.656494  0.707385 -0.316705   \n",
       "1  343.241625   2.876677   4.486949  3.702671 -5.779234 -0.963396 -2.637070   \n",
       "2   92.198729   7.187892 -12.345754 -4.085730 -2.743096  0.058945 -0.598679   \n",
       "3  -23.708962  -7.674156  -2.258511 -4.012642  2.293715  5.231125  1.538220   \n",
       "4 -184.695346 -11.792356  13.691605  1.893394  4.734912 -5.738126  1.574887   \n",
       "\n",
       "          7         8         9  \n",
       "0  3.044235 -4.521634 -0.411934  \n",
       "1 -4.388732  1.652491  2.419861  \n",
       "2  2.375403  4.200494 -0.788037  \n",
       "3 -0.641703  2.155120 -1.680174  \n",
       "4 -0.875315  1.487103 -3.137315  "
      ]
     },
     "execution_count": 74,
     "metadata": {},
     "output_type": "execute_result"
    }
   ],
   "source": [
    "\n",
    "\n",
    "pca_azdias=pd.DataFrame(pca_azdias)\n",
    "pca_azdias.head()"
   ]
  },
  {
   "cell_type": "code",
   "execution_count": 75,
   "metadata": {},
   "outputs": [
    {
     "data": {
      "text/plain": [
       "(100000, 10)"
      ]
     },
     "execution_count": 75,
     "metadata": {},
     "output_type": "execute_result"
    }
   ],
   "source": [
    "'''I am going to use a subset of the original dataframe to find the best number of clusters'''\n",
    "\n",
    "toy_df=pca_azdias.iloc[100000:200000]\n",
    "toy_df.shape"
   ]
  },
  {
   "cell_type": "code",
   "execution_count": 76,
   "metadata": {},
   "outputs": [
    {
     "name": "stdout",
     "output_type": "stream",
     "text": [
      "[10, 13, 16, 19, 22, 25, 28, 31, 34]\n",
      "[2238348149.3055615, 1479697515.0685494, 1092473211.3939745, 900837116.67163396, 763254727.94345522, 672968448.56330228, 602253530.07125235, 539575769.12086284, 493097728.17883599]\n"
     ]
    },
    {
     "data": {
      "image/png": "[encoded data removed]",
      "text/plain": [
       "<matplotlib.figure.Figure at 0x7fb2789e9160>"
      ]
     },
     "metadata": {
      "needs_background": "light"
     },
     "output_type": "display_data"
    }
   ],
   "source": [
    "score_list, clusters = [], []\n",
    "for k in range(10,36,3):\n",
    "    kmeans= KMeans(k)\n",
    "    model=kmeans.fit(pca_azdias)\n",
    "    score=abs(model.score(pca_azdias))\n",
    "    score_list.append(score)\n",
    "    clusters.append(k)\n",
    "print(clusters)   \n",
    "print(score_list)    \n",
    "plt.plot(clusters, score_list, linestyle='--', color='b')\n",
    "plt.xlabel('K');\n",
    "plt.ylabel('Score');\n",
    "plt.title('Score vs. K');"
   ]
  },
  {
   "cell_type": "markdown",
   "metadata": {},
   "source": [
    "I am going to use 22 clusters "
   ]
  },
  {
   "cell_type": "code",
   "execution_count": 77,
   "metadata": {},
   "outputs": [],
   "source": [
    "\n",
    "\n",
    "# Over a number of different cluster counts...\n",
    "kmeans= KMeans(n_clusters=22) \n",
    "\n",
    "# run k-means clustering on the data and...\n",
    "     \n",
    "model= kmeans.fit(pca_azdias)\n",
    " \n",
    "# compute the average within-cluster distances.\n",
    "    \n",
    "labels= model.predict(pca_azdias)    \n",
    "\n"
   ]
  },
  {
   "cell_type": "code",
   "execution_count": 78,
   "metadata": {},
   "outputs": [
    {
     "name": "stdout",
     "output_type": "stream",
     "text": [
      "858.41999789\n"
     ]
    }
   ],
   "source": [
    "avg_distance= abs(model.score(pca_azdias))/pca_azdias.shape[0]\n",
    "print(avg_distance)"
   ]
  },
  {
   "cell_type": "code",
   "execution_count": 79,
   "metadata": {},
   "outputs": [],
   "source": [
    "pca_azdias[\"Cluster\"]=labels\n",
    "\n",
    "cluster_size=[]\n",
    "for n in range(0,22):\n",
    "    points= pca_azdias[pca_azdias[\"Cluster\"]== n].shape[0]\n",
    "    cluster_size.append(points)\n",
    "\n",
    "#cluster_size"
   ]
  },
  {
   "cell_type": "code",
   "execution_count": 80,
   "metadata": {},
   "outputs": [
    {
     "name": "stdout",
     "output_type": "stream",
     "text": [
      "cluster 1 is:7.49% of the population\n",
      "cluster 2 is:2.3% of the population\n",
      "cluster 3 is:5.7% of the population\n",
      "cluster 4 is:0.719% of the population\n",
      "cluster 5 is:5.88% of the population\n",
      "cluster 6 is:4.37% of the population\n",
      "cluster 7 is:1.32% of the population\n",
      "cluster 8 is:3.75% of the population\n",
      "cluster 9 is:7.03% of the population\n",
      "cluster 10 is:6.93% of the population\n",
      "cluster 11 is:2.41% of the population\n",
      "cluster 12 is:18.3% of the population\n",
      "cluster 13 is:0.103% of the population\n",
      "cluster 14 is:5.01% of the population\n",
      "cluster 15 is:0.37% of the population\n",
      "cluster 16 is:2.89% of the population\n",
      "cluster 17 is:1.17% of the population\n",
      "cluster 18 is:1.62% of the population\n",
      "cluster 19 is:3.22% of the population\n",
      "cluster 20 is:4.42% of the population\n",
      "cluster 21 is:7.5% of the population\n",
      "cluster 22 is:7.5% of the population\n"
     ]
    }
   ],
   "source": [
    "m=0\n",
    "cluster_percentage=[]\n",
    "for cluster in cluster_size: \n",
    "    m+=1\n",
    "    cluster_percentage.append(cluster/(pca_azdias.shape[0]/100))\n",
    "    print(\"cluster {} is:{:.3}% of the population\".format(m,cluster/(pca_azdias.shape[0]/100)))"
   ]
  },
  {
   "cell_type": "code",
   "execution_count": 81,
   "metadata": {},
   "outputs": [
    {
     "data": {
      "text/plain": [
       "array([  7.48781728,   2.30302024,   5.70240154,   0.7194624 ,\n",
       "         5.88484787,   4.37209177,   1.31527421,   3.74856517,\n",
       "         7.02743764,   6.92600376,   2.40512735,  18.29995029,\n",
       "         0.10300475,   5.01121495,   0.37016632,   2.89142648,\n",
       "         1.17064118,   1.6186782 ,   3.22265746,   4.42191106,\n",
       "         7.5002721 ,   7.49802799])"
      ]
     },
     "execution_count": 81,
     "metadata": {},
     "output_type": "execute_result"
    }
   ],
   "source": [
    "cluster_percentage=np.array(cluster_percentage)\n",
    "cluster_percentage"
   ]
  },
  {
   "cell_type": "code",
   "execution_count": 82,
   "metadata": {},
   "outputs": [],
   "source": [
    "# Investigate the change in within-cluster distance across number of clusters.\n",
    "# HINT: Use matplotlib's plot function to visualize this relationship.\n"
   ]
  },
  {
   "cell_type": "code",
   "execution_count": 83,
   "metadata": {},
   "outputs": [],
   "source": [
    "# Re-fit the k-means model with the selected number of clusters and obtain\n",
    "# cluster predictions for the general population demographics data.\n",
    "\n"
   ]
  },
  {
   "cell_type": "markdown",
   "metadata": {},
   "source": [
    "### Discussion 3.1: Apply Clustering to General Population\n",
    "\n",
    "I decided to segment the population into 22 clusters, although I could not find a clear \"elbow shape\" to find the best number of clusters to greatly reduce the average distance, 22 seems to be a good compromise between minising the distance and having a code that exectues quickly enough. \n",
    "I have used a reduced, \"toy\" dataframe to find that number because using the full dataframe turned out to be too much in terms of computation (it would require several hours) "
   ]
  },
  {
   "cell_type": "markdown",
   "metadata": {},
   "source": [
    "### Step 3.2: Apply All Steps to the Customer Data\n",
    "\n",
    "Now that you have clusters and cluster centers for the general population, it's time to see how the customer data maps on to those clusters. Take care to not confuse this for re-fitting all of the models to the customer data. Instead, you're going to use the fits from the general population to clean, transform, and cluster the customer data. In the last step of the project, you will interpret how the general population fits apply to the customer data.\n",
    "\n",
    "- Don't forget when loading in the customers data, that it is semicolon (`;`) delimited.\n",
    "- Apply the same feature wrangling, selection, and engineering steps to the customer demographics using the `clean_data()` function you created earlier. (You can assume that the customer demographics data has similar meaning behind missing data patterns as the general demographics data.)\n",
    "- Use the sklearn objects from the general demographics data, and apply their transformations to the customers data. That is, you should not be using a `.fit()` or `.fit_transform()` method to re-fit the old objects, nor should you be creating new sklearn objects! Carry the data through the feature scaling, PCA, and clustering steps, obtaining cluster assignments for all of the data in the customer demographics data."
   ]
  },
  {
   "cell_type": "code",
   "execution_count": 84,
   "metadata": {},
   "outputs": [],
   "source": [
    "# Load in the customer demographics data.\n",
    "customers= pd.read_csv( 'Udacity_CUSTOMERS_Subset.csv', delimiter=';')\n"
   ]
  },
  {
   "cell_type": "code",
   "execution_count": 85,
   "metadata": {},
   "outputs": [
    {
     "data": {
      "text/plain": [
       "'for m in range(118,182):\\n    print(imputed_azdias.columns[m])\\n    print(\"-{}\".format(customers.columns[m]))'"
      ]
     },
     "execution_count": 85,
     "metadata": {},
     "output_type": "execute_result"
    }
   ],
   "source": [
    "#to find a missing column and fix\n",
    "\n",
    "\n",
    "'''for m in range(118,182):\n",
    "    print(imputed_azdias.columns[m])\n",
    "    print(\"-{}\".format(customers.columns[m]))'''\n",
    "\n"
   ]
  },
  {
   "cell_type": "code",
   "execution_count": 86,
   "metadata": {},
   "outputs": [],
   "source": [
    "customers= clean_data(customers)\n",
    "customers= impute_scale(customers)\n",
    "\n"
   ]
  },
  {
   "cell_type": "code",
   "execution_count": 87,
   "metadata": {},
   "outputs": [
    {
     "data": {
      "text/plain": [
       "'for m in range(181):\\n    print(customers.columns[m])\\n    print(\"-\",imputed_azdias.columns[m])'"
      ]
     },
     "execution_count": 87,
     "metadata": {},
     "output_type": "execute_result"
    }
   ],
   "source": [
    "'''for m in range(181):\n",
    "    print(customers.columns[m])\n",
    "    print(\"-\",imputed_azdias.columns[m])'''"
   ]
  },
  {
   "cell_type": "code",
   "execution_count": 88,
   "metadata": {},
   "outputs": [],
   "source": [
    "customers= pca.transform(customers)"
   ]
  },
  {
   "cell_type": "code",
   "execution_count": 89,
   "metadata": {},
   "outputs": [
    {
     "data": {
      "text/html": [
       "<div>\n",
       "<style scoped>\n",
       "    .dataframe tbody tr th:only-of-type {\n",
       "        vertical-align: middle;\n",
       "    }\n",
       "\n",
       "    .dataframe tbody tr th {\n",
       "        vertical-align: top;\n",
       "    }\n",
       "\n",
       "    .dataframe thead th {\n",
       "        text-align: right;\n",
       "    }\n",
       "</style>\n",
       "<table border=\"1\" class=\"dataframe\">\n",
       "  <thead>\n",
       "    <tr style=\"text-align: right;\">\n",
       "      <th></th>\n",
       "      <th>0</th>\n",
       "      <th>1</th>\n",
       "      <th>2</th>\n",
       "      <th>3</th>\n",
       "      <th>4</th>\n",
       "      <th>5</th>\n",
       "      <th>6</th>\n",
       "      <th>7</th>\n",
       "      <th>8</th>\n",
       "      <th>9</th>\n",
       "    </tr>\n",
       "  </thead>\n",
       "  <tbody>\n",
       "    <tr>\n",
       "      <th>0</th>\n",
       "      <td>-618.727726</td>\n",
       "      <td>52.228076</td>\n",
       "      <td>-29.735498</td>\n",
       "      <td>-111.811390</td>\n",
       "      <td>36.511951</td>\n",
       "      <td>-947.515886</td>\n",
       "      <td>-1675.004569</td>\n",
       "      <td>225.944556</td>\n",
       "      <td>130.201420</td>\n",
       "      <td>-71.124217</td>\n",
       "    </tr>\n",
       "    <tr>\n",
       "      <th>1</th>\n",
       "      <td>-620.575056</td>\n",
       "      <td>52.495630</td>\n",
       "      <td>-29.121479</td>\n",
       "      <td>-111.138021</td>\n",
       "      <td>34.421174</td>\n",
       "      <td>-948.805953</td>\n",
       "      <td>-1673.851762</td>\n",
       "      <td>224.657102</td>\n",
       "      <td>130.454529</td>\n",
       "      <td>-72.016141</td>\n",
       "    </tr>\n",
       "    <tr>\n",
       "      <th>2</th>\n",
       "      <td>-621.396339</td>\n",
       "      <td>53.224896</td>\n",
       "      <td>-30.997685</td>\n",
       "      <td>-115.913584</td>\n",
       "      <td>31.042408</td>\n",
       "      <td>-951.058257</td>\n",
       "      <td>-1673.259161</td>\n",
       "      <td>223.440432</td>\n",
       "      <td>129.302600</td>\n",
       "      <td>-71.918446</td>\n",
       "    </tr>\n",
       "    <tr>\n",
       "      <th>3</th>\n",
       "      <td>-620.263570</td>\n",
       "      <td>52.222102</td>\n",
       "      <td>-29.087605</td>\n",
       "      <td>-110.649578</td>\n",
       "      <td>34.704214</td>\n",
       "      <td>-946.000936</td>\n",
       "      <td>-1676.406181</td>\n",
       "      <td>222.921372</td>\n",
       "      <td>131.971006</td>\n",
       "      <td>-72.047844</td>\n",
       "    </tr>\n",
       "    <tr>\n",
       "      <th>4</th>\n",
       "      <td>-621.113645</td>\n",
       "      <td>52.804393</td>\n",
       "      <td>-28.415230</td>\n",
       "      <td>-108.794176</td>\n",
       "      <td>30.861389</td>\n",
       "      <td>-951.285018</td>\n",
       "      <td>-1673.667472</td>\n",
       "      <td>221.078167</td>\n",
       "      <td>131.118237</td>\n",
       "      <td>-71.959536</td>\n",
       "    </tr>\n",
       "  </tbody>\n",
       "</table>\n",
       "</div>"
      ],
      "text/plain": [
       "            0          1          2           3          4           5  \\\n",
       "0 -618.727726  52.228076 -29.735498 -111.811390  36.511951 -947.515886   \n",
       "1 -620.575056  52.495630 -29.121479 -111.138021  34.421174 -948.805953   \n",
       "2 -621.396339  53.224896 -30.997685 -115.913584  31.042408 -951.058257   \n",
       "3 -620.263570  52.222102 -29.087605 -110.649578  34.704214 -946.000936   \n",
       "4 -621.113645  52.804393 -28.415230 -108.794176  30.861389 -951.285018   \n",
       "\n",
       "             6           7           8          9  \n",
       "0 -1675.004569  225.944556  130.201420 -71.124217  \n",
       "1 -1673.851762  224.657102  130.454529 -72.016141  \n",
       "2 -1673.259161  223.440432  129.302600 -71.918446  \n",
       "3 -1676.406181  222.921372  131.971006 -72.047844  \n",
       "4 -1673.667472  221.078167  131.118237 -71.959536  "
      ]
     },
     "execution_count": 89,
     "metadata": {},
     "output_type": "execute_result"
    }
   ],
   "source": [
    "# Apply preprocessing, feature transformation, and clustering from the general\n",
    "# demographics onto the customer data, obtaining cluster predictions for the\n",
    "# customer demographics data.\n",
    "model.fit(customers)\n",
    "customers_labels= model.predict(customers)\n",
    "customers=pd.DataFrame(customers)\n",
    "customers.head()"
   ]
  },
  {
   "cell_type": "markdown",
   "metadata": {},
   "source": [
    "### Step 3.3: Compare Customer Data to Demographics Data\n",
    "\n",
    "At this point, you have clustered data based on demographics of the general population of Germany, and seen how the customer data for a mail-order sales company maps onto those demographic clusters. In this final substep, you will compare the two cluster distributions to see where the strongest customer base for the company is.\n",
    "\n",
    "Consider the proportion of persons in each cluster for the general population, and the proportions for the customers. If we think the company's customer base to be universal, then the cluster assignment proportions should be fairly similar between the two. If there are only particular segments of the population that are interested in the company's products, then we should see a mismatch from one to the other. If there is a higher proportion of persons in a cluster for the customer data compared to the general population (e.g. 5% of persons are assigned to a cluster for the general population, but 15% of the customer data is closest to that cluster's centroid) then that suggests the people in that cluster to be a target audience for the company. On the other hand, the proportion of the data in a cluster being larger in the general population than the customer data (e.g. only 2% of customers closest to a population centroid that captures 6% of the data) suggests that group of persons to be outside of the target demographics.\n",
    "\n",
    "Take a look at the following points in this step:\n",
    "\n",
    "- Compute the proportion of data points in each cluster for the general population and the customer data. Visualizations will be useful here: both for the individual dataset proportions, but also to visualize the ratios in cluster representation between groups. Seaborn's [`countplot()`](https://seaborn.pydata.org/generated/seaborn.countplot.html) or [`barplot()`](https://seaborn.pydata.org/generated/seaborn.barplot.html) function could be handy.\n",
    "  - Recall the analysis you performed in step 1.1.3 of the project, where you separated out certain data points from the dataset if they had more than a specified threshold of missing values. If you found that this group was qualitatively different from the main bulk of the data, you should treat this as an additional data cluster in this analysis. Make sure that you account for the number of data points in this subset, for both the general population and customer datasets, when making your computations!\n",
    "- Which cluster or clusters are overrepresented in the customer dataset compared to the general population? Select at least one such cluster and infer what kind of people might be represented by that cluster. Use the principal component interpretations from step 2.3 or look at additional components to help you make this inference. Alternatively, you can use the `.inverse_transform()` method of the PCA and StandardScaler objects to transform centroids back to the original data space and interpret the retrieved values directly.\n",
    "- Perform a similar investigation for the underrepresented clusters. Which cluster or clusters are underrepresented in the customer dataset compared to the general population, and what kinds of people are typified by these clusters?"
   ]
  },
  {
   "cell_type": "code",
   "execution_count": 90,
   "metadata": {},
   "outputs": [
    {
     "name": "stdout",
     "output_type": "stream",
     "text": [
      "cluster 1 is:3.17137% of the population\n",
      "cluster 2 is:24.424% of the population\n",
      "cluster 3 is:3.59714% of the population\n",
      "cluster 4 is:5.86219% of the population\n",
      "cluster 5 is:5.24597% of the population\n",
      "cluster 6 is:4.9496% of the population\n",
      "cluster 7 is:2.53063% of the population\n",
      "cluster 8 is:6.20969% of the population\n",
      "cluster 9 is:3.2272% of the population\n",
      "cluster 10 is:4.73201% of the population\n",
      "cluster 11 is:4.40695% of the population\n",
      "cluster 12 is:1.37697% of the population\n",
      "cluster 13 is:1.93997% of the population\n",
      "cluster 14 is:3.23138% of the population\n",
      "cluster 15 is:5.13013% of the population\n",
      "cluster 16 is:4.78419% of the population\n",
      "cluster 17 is:0.262977% of the population\n",
      "cluster 18 is:4.80089% of the population\n",
      "cluster 19 is:3.27625% of the population\n",
      "cluster 20 is:2.97831% of the population\n",
      "cluster 21 is:2.46541% of the population\n",
      "cluster 22 is:1.3968% of the population\n"
     ]
    }
   ],
   "source": [
    "# Compare the proportion of data in each cluster for the customer data to the\n",
    "# proportion of data in each cluster for the general population.\n",
    "\n",
    "customers[\"Cluster\"]=customers_labels\n",
    "\n",
    "customer_cluster_size=[]\n",
    "for n in range(0,22):\n",
    "    points= customers[customers[\"Cluster\"]== n].shape[0]\n",
    "    customer_cluster_size.append(points)\n",
    "\n",
    "m=0\n",
    "customer_cluster_percentage=[]\n",
    "for cluster in customer_cluster_size: \n",
    "    m+=1\n",
    "    customer_cluster_percentage.append(cluster/(customers.shape[0]/100))\n",
    "    print(\"cluster {} is:{:.6}% of the population\".format(m,cluster/(customers.shape[0]/100)))\n"
   ]
  },
  {
   "cell_type": "code",
   "execution_count": 91,
   "metadata": {},
   "outputs": [
    {
     "data": {
      "image/png": "[encoded data removed]",
      "text/plain": [
       "<matplotlib.figure.Figure at 0x7fb270152f60>"
      ]
     },
     "metadata": {
      "needs_background": "light"
     },
     "output_type": "display_data"
    }
   ],
   "source": [
    "fig, ax = plt.subplots()\n",
    "    \n",
    "a=ax.bar(range(len(cluster_percentage)), cluster_percentage)\n",
    "b=ax.bar(range(len(customer_cluster_percentage)), customer_cluster_percentage)\n",
    "\n",
    "fig.tight_layout()\n",
    "plt.show()"
   ]
  },
  {
   "cell_type": "code",
   "execution_count": 131,
   "metadata": {},
   "outputs": [
    {
     "data": {
      "text/plain": [
       "(6894, 11)"
      ]
     },
     "execution_count": 131,
     "metadata": {},
     "output_type": "execute_result"
    }
   ],
   "source": [
    "# What kinds of people are part of a cluster that is overrepresented in the\n",
    "# customer data compared to the general population?\n",
    "\n",
    "over_repr_group= customers[customers[\"Cluster\"]==2]\n",
    "largest_cluster= pca_azdias[pca_azdias[\"Cluster\"]==12]\n",
    "\n",
    "over_repr_group.shape"
   ]
  },
  {
   "cell_type": "code",
   "execution_count": 132,
   "metadata": {},
   "outputs": [
    {
     "name": "stdout",
     "output_type": "stream",
     "text": [
      "(191652, 85)\n"
     ]
    },
    {
     "data": {
      "text/plain": [
       "(6894, 85)"
      ]
     },
     "execution_count": 132,
     "metadata": {},
     "output_type": "execute_result"
    }
   ],
   "source": [
    "customers_original= pd.read_csv( 'Udacity_CUSTOMERS_Subset.csv', delimiter=';')\n",
    "\n",
    "over_repr_group= customers_original.iloc[over_repr_group.index]\n",
    "largest_cluster= imputed_azdias.iloc[largest_cluster.index]\n",
    "print(customers_original.shape)\n",
    "over_repr_group.shape"
   ]
  },
  {
   "cell_type": "code",
   "execution_count": 141,
   "metadata": {},
   "outputs": [
    {
     "data": {
      "text/plain": [
       "LP_STATUS_FEIN_10.0     0.175381\n",
       "LP_FAMILIE_FEIN_10.0    0.184096\n",
       "LP_STATUS_FEIN_4.0      0.190632\n",
       "CAMEO_DEUG_2015_4       0.197168\n",
       "CJT_GESAMTTYP_2.0       0.197168\n",
       "FINANZTYP_1             0.209150\n",
       "CJT_GESAMTTYP_3.0       0.209150\n",
       "CAMEO_DEUG_2015_3       0.211329\n",
       "CAMEO_DEUG_2015_2       0.211329\n",
       "ZABEOTYP_1              0.222222\n",
       "dtype: float64"
      ]
     },
     "execution_count": 141,
     "metadata": {},
     "output_type": "execute_result"
    }
   ],
   "source": [
    "largest_cluster.mean().sort_values()[100:110]  # This is to check scores on each feature"
   ]
  },
  {
   "cell_type": "code",
   "execution_count": 151,
   "metadata": {},
   "outputs": [
    {
     "data": {
      "text/plain": [
       "3.8737080103359172"
      ]
     },
     "execution_count": 151,
     "metadata": {},
     "output_type": "execute_result"
    }
   ],
   "source": [
    "over_repr_group.mean().sort_values()[\"MOBI_REGIO\"]"
   ]
  },
  {
   "cell_type": "markdown",
   "metadata": {},
   "source": [
    "What kinds of people are part of a cluster that is underrepresented in the\n",
    "customer data compared to the general population?\n",
    "\n",
    "These are the features of the underrepresented group: \n",
    "\n",
    "- financially incospicuous (finanz-typ 0.43)\n",
    "- living in small communities (5000-20000 inhabitants)\n",
    "- average to low score for the \"investor\" feature and average to high score for \"money-saver\" \n",
    "- household life stage closer to \"mature couples\" stage\n",
    "- 42 years old average\n",
    "- German nationality\n",
    "- homeowner couples of higher age\n",
    "- very poor neighborhood\n",
    "- average affinity for most personality traits, lowest affinity for \"rational\"\n",
    "- average of 4 other households in the building \n",
    "- low score for movement patterns \n",
    "- high to average purchasing power \n",
    "\n",
    "Some of these scores are the opposite of those in the overrapresented group in tthe customers data.\n",
    "Some of the score in features in the overrapresented group: \n",
    "\n",
    "- more than half part of the green avantgarde\n",
    "- very high score in \"money-saver\" and \"investor\"\n",
    "- single\n",
    "- women \n",
    "- high/very high purchasing power \n",
    "- German nationality \n",
    "- 42 years old (slightly less than the other cluster) \n",
    "- living in medium sized communities (50000-100000 inhabitants)"
   ]
  },
  {
   "cell_type": "markdown",
   "metadata": {},
   "source": [
    "### Discussion 3.3: Compare Customer Data to Demographics Data\n"
   ]
  },
  {
   "cell_type": "markdown",
   "metadata": {},
   "source": [
    "> Congratulations on making it this far in the project! Before you finish, make sure to check through the entire notebook from top to bottom to make sure that your analysis follows a logical flow and all of your findings are documented in **Discussion** cells. Once you've checked over all of your work, you should export the notebook as an HTML document to submit for evaluation. You can do this from the menu, navigating to **File -> Download as -> HTML (.html)**. You will submit both that document and this notebook for your project submission."
   ]
  }
 ],
 "metadata": {
  "kernelspec": {
   "display_name": "Python 3",
   "language": "python",
   "name": "python3"
  },
  "language_info": {
   "codemirror_mode": {
    "name": "ipython",
    "version": 3
   },
   "file_extension": ".py",
   "mimetype": "text/x-python",
   "name": "python",
   "nbconvert_exporter": "python",
   "pygments_lexer": "ipython3",
   "version": "3.6.3"
  }
 },
 "nbformat": 4,
 "nbformat_minor": 2
}
